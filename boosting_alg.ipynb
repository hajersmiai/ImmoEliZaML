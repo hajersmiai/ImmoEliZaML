{
 "cells": [
  {
   "cell_type": "code",
   "execution_count": 10,
   "id": "16633cf4",
   "metadata": {},
   "outputs": [
    {
     "name": "stdout",
     "output_type": "stream",
     "text": [
      "Collecting category_encoders\n",
      "  Downloading category_encoders-2.8.1-py3-none-any.whl.metadata (7.9 kB)\n",
      "Requirement already satisfied: numpy>=1.14.0 in c:\\users\\preet\\anaconda\\anaconda3\\lib\\site-packages (from category_encoders) (1.26.4)\n",
      "Requirement already satisfied: pandas>=1.0.5 in c:\\users\\preet\\anaconda\\anaconda3\\lib\\site-packages (from category_encoders) (2.2.3)\n",
      "Requirement already satisfied: patsy>=0.5.1 in c:\\users\\preet\\anaconda\\anaconda3\\lib\\site-packages (from category_encoders) (1.0.1)\n",
      "Requirement already satisfied: scikit-learn>=1.6.0 in c:\\users\\preet\\anaconda\\anaconda3\\lib\\site-packages (from category_encoders) (1.6.1)\n",
      "Requirement already satisfied: scipy>=1.0.0 in c:\\users\\preet\\anaconda\\anaconda3\\lib\\site-packages (from category_encoders) (1.13.1)\n",
      "Requirement already satisfied: statsmodels>=0.9.0 in c:\\users\\preet\\anaconda\\anaconda3\\lib\\site-packages (from category_encoders) (0.14.4)\n",
      "Requirement already satisfied: python-dateutil>=2.8.2 in c:\\users\\preet\\anaconda\\anaconda3\\lib\\site-packages (from pandas>=1.0.5->category_encoders) (2.9.0.post0)\n",
      "Requirement already satisfied: pytz>=2020.1 in c:\\users\\preet\\anaconda\\anaconda3\\lib\\site-packages (from pandas>=1.0.5->category_encoders) (2024.1)\n",
      "Requirement already satisfied: tzdata>=2022.7 in c:\\users\\preet\\anaconda\\anaconda3\\lib\\site-packages (from pandas>=1.0.5->category_encoders) (2025.2)\n",
      "Requirement already satisfied: joblib>=1.2.0 in c:\\users\\preet\\anaconda\\anaconda3\\lib\\site-packages (from scikit-learn>=1.6.0->category_encoders) (1.4.2)\n",
      "Requirement already satisfied: threadpoolctl>=3.1.0 in c:\\users\\preet\\anaconda\\anaconda3\\lib\\site-packages (from scikit-learn>=1.6.0->category_encoders) (3.5.0)\n",
      "Requirement already satisfied: packaging>=21.3 in c:\\users\\preet\\anaconda\\anaconda3\\lib\\site-packages (from statsmodels>=0.9.0->category_encoders) (24.2)\n",
      "Requirement already satisfied: six>=1.5 in c:\\users\\preet\\anaconda\\anaconda3\\lib\\site-packages (from python-dateutil>=2.8.2->pandas>=1.0.5->category_encoders) (1.17.0)\n",
      "Downloading category_encoders-2.8.1-py3-none-any.whl (85 kB)\n",
      "   ---------------------------------------- 0.0/85.7 kB ? eta -:--:--\n",
      "   ---------------------------------------- 85.7/85.7 kB 4.7 MB/s eta 0:00:00\n",
      "Installing collected packages: category_encoders\n",
      "Successfully installed category_encoders-2.8.1\n"
     ]
    }
   ],
   "source": [
    "!pip install category_encoders"
   ]
  },
  {
   "cell_type": "code",
   "execution_count": null,
   "id": "c1b86bc2",
   "metadata": {},
   "outputs": [],
   "source": [
    "import pandas as pd\n",
    "import numpy as np\n",
    "import matplotlib.pyplot as plt\n",
    "from  sklearn.preprocessing import LabelEncoder, StandardScaler, OneHotEncoder\n",
    "from sklearn.model_selection import train_test_split\n",
    "from sklearn.linear_model import LinearRegression, Ridge, Lasso, ElasticNet\n",
    "from sklearn.tree import DecisionTreeRegressor\n",
    "from sklearn.ensemble import RandomForestRegressor\n",
    "from xgboost import XGBRegressor\n",
    "from catboost import CatBoostRegressor, Pool\n",
    "from sklearn.decomposition import PCA\n",
    "from sklearn.model_selection import GridSearchCV\n",
    "from sklearn.metrics import accuracy_score, mean_absolute_percentage_error, mean_squared_error, r2_score,mean_absolute_error\n",
    "!pip install optuna-integration[catboost]\n",
    "#from  typing import\n",
    "from scipy import sparse\n",
    "import warnings\n",
    "warnings.filterwarnings('ignore')\n",
    "import optuna\n",
    "import logging\n",
    "import sys\n",
    "from optuna.integration.xgboost import XGBoostPruningCallback\n",
    "# EarlyStopping is directly from XGBoost's own callback module\n",
    "from xgboost.callback import EarlyStopping"
   ]
  },
  {
   "cell_type": "code",
   "execution_count": 4,
   "id": "b2348b80",
   "metadata": {},
   "outputs": [],
   "source": [
    "df=pd.read_csv(\"data/cleaned_data_after_imputation.csv\")\n",
    "df.columns\n",
    "df.dtypes\n",
    "numeric_columns=[\"bedroomCount\",\"toilet_and_bath\",\"habitableSurface\",\"facedeCount\",\"hasTerrace\",\"totalParkingCount\"]\n",
    "categorical_columns=[\"type\",\"subtype\",\"province\",\"locality\",\"postCode\",\"buildingCondition\",\"epcScore\"]\n",
    "\n",
    "encoder = OneHotEncoder(sparse_output=False, drop=\"first\")\n",
    "one_hot_encoded = encoder.fit_transform(df[categorical_columns])\n",
    "one_hot_df = pd.DataFrame(one_hot_encoded, columns=encoder.get_feature_names_out(categorical_columns))\n",
    "df = pd.concat([df, one_hot_df], axis=1)\n",
    "df = df.drop(categorical_columns, axis=1)"
   ]
  },
  {
   "cell_type": "code",
   "execution_count": null,
   "id": "6e140f84",
   "metadata": {},
   "outputs": [
    {
     "name": "stdout",
     "output_type": "stream",
     "text": [
      "\n",
      "Features (X) shape after encoding: (56379, 4620)\n",
      "Target (y) shape: (56379,)\n",
      "\n",
      "Data splitting complete.\n",
      "X_train shape: (39465, 4620), y_train shape: (39465,)\n",
      "X_val shape: (8457, 4620), y_val shape: (8457,)\n",
      "X_test shape: (8457, 4620), y_test shape: (8457,)\n"
     ]
    },
    {
     "name": "stderr",
     "output_type": "stream",
     "text": [
      "[I 2025-06-30 17:20:24,186] A new study created in memory with name: no-name-bd89960a-8217-4837-86e4-23de06852684\n"
     ]
    },
    {
     "name": "stdout",
     "output_type": "stream",
     "text": [
      "--- Data Preprocessing Complete ---\n",
      "A new study created in memory with name: no-name-bd89960a-8217-4837-86e4-23de06852684\n",
      "A new study created in memory with name: no-name-bd89960a-8217-4837-86e4-23de06852684\n",
      "A new study created in memory with name: no-name-bd89960a-8217-4837-86e4-23de06852684\n",
      "A new study created in memory with name: no-name-bd89960a-8217-4837-86e4-23de06852684\n",
      "\n",
      "--- Starting Optuna optimization ---\n"
     ]
    },
    {
     "name": "stderr",
     "output_type": "stream",
     "text": [
      "[I 2025-06-30 17:20:51,264] Trial 0 finished with value: 193164.08466508074 and parameters: {'iterations': 437, 'learning_rate': 0.22648248189516848, 'depth': 9, 'l2_leaf_reg': 0.6251373574521749, 'subsample': 0.6624074561769746, 'colsample_bylevel': 0.662397808134481, 'min_data_in_leaf': 2, 'early_stopping_rounds': 45}. Best is trial 0 with value: 193164.08466508074.\n"
     ]
    },
    {
     "name": "stdout",
     "output_type": "stream",
     "text": [
      "Trial 0 finished with value: 193164.08466508074 and parameters: {'iterations': 437, 'learning_rate': 0.22648248189516848, 'depth': 9, 'l2_leaf_reg': 0.6251373574521749, 'subsample': 0.6624074561769746, 'colsample_bylevel': 0.662397808134481, 'min_data_in_leaf': 2, 'early_stopping_rounds': 45}. Best is trial 0 with value: 193164.08466508074.\n",
      "Trial 0 finished with value: 193164.08466508074 and parameters: {'iterations': 437, 'learning_rate': 0.22648248189516848, 'depth': 9, 'l2_leaf_reg': 0.6251373574521749, 'subsample': 0.6624074561769746, 'colsample_bylevel': 0.662397808134481, 'min_data_in_leaf': 2, 'early_stopping_rounds': 45}. Best is trial 0 with value: 193164.08466508074.\n",
      "Trial 0 finished with value: 193164.08466508074 and parameters: {'iterations': 437, 'learning_rate': 0.22648248189516848, 'depth': 9, 'l2_leaf_reg': 0.6251373574521749, 'subsample': 0.6624074561769746, 'colsample_bylevel': 0.662397808134481, 'min_data_in_leaf': 2, 'early_stopping_rounds': 45}. Best is trial 0 with value: 193164.08466508074.\n",
      "Trial 0 finished with value: 193164.08466508074 and parameters: {'iterations': 437, 'learning_rate': 0.22648248189516848, 'depth': 9, 'l2_leaf_reg': 0.6251373574521749, 'subsample': 0.6624074561769746, 'colsample_bylevel': 0.662397808134481, 'min_data_in_leaf': 2, 'early_stopping_rounds': 45}. Best is trial 0 with value: 193164.08466508074.\n"
     ]
    },
    {
     "name": "stderr",
     "output_type": "stream",
     "text": [
      "[I 2025-06-30 17:21:01,402] Trial 1 finished with value: 213233.10502586202 and parameters: {'iterations': 641, 'learning_rate': 0.05675206026988748, 'depth': 4, 'l2_leaf_reg': 8.123245085588687, 'subsample': 0.9329770563201687, 'colsample_bylevel': 0.6849356442713105, 'min_data_in_leaf': 6, 'early_stopping_rounds': 17}. Best is trial 0 with value: 193164.08466508074.\n"
     ]
    },
    {
     "name": "stdout",
     "output_type": "stream",
     "text": [
      "Trial 1 finished with value: 213233.10502586202 and parameters: {'iterations': 641, 'learning_rate': 0.05675206026988748, 'depth': 4, 'l2_leaf_reg': 8.123245085588687, 'subsample': 0.9329770563201687, 'colsample_bylevel': 0.6849356442713105, 'min_data_in_leaf': 6, 'early_stopping_rounds': 17}. Best is trial 0 with value: 193164.08466508074.\n",
      "Trial 1 finished with value: 213233.10502586202 and parameters: {'iterations': 641, 'learning_rate': 0.05675206026988748, 'depth': 4, 'l2_leaf_reg': 8.123245085588687, 'subsample': 0.9329770563201687, 'colsample_bylevel': 0.6849356442713105, 'min_data_in_leaf': 6, 'early_stopping_rounds': 17}. Best is trial 0 with value: 193164.08466508074.\n",
      "Trial 1 finished with value: 213233.10502586202 and parameters: {'iterations': 641, 'learning_rate': 0.05675206026988748, 'depth': 4, 'l2_leaf_reg': 8.123245085588687, 'subsample': 0.9329770563201687, 'colsample_bylevel': 0.6849356442713105, 'min_data_in_leaf': 6, 'early_stopping_rounds': 17}. Best is trial 0 with value: 193164.08466508074.\n",
      "Trial 1 finished with value: 213233.10502586202 and parameters: {'iterations': 641, 'learning_rate': 0.05675206026988748, 'depth': 4, 'l2_leaf_reg': 8.123245085588687, 'subsample': 0.9329770563201687, 'colsample_bylevel': 0.6849356442713105, 'min_data_in_leaf': 6, 'early_stopping_rounds': 17}. Best is trial 0 with value: 193164.08466508074.\n"
     ]
    },
    {
     "name": "stderr",
     "output_type": "stream",
     "text": [
      "[I 2025-06-30 17:21:12,473] Trial 2 finished with value: 219006.47559242797 and parameters: {'iterations': 374, 'learning_rate': 0.0199473547030745, 'depth': 7, 'l2_leaf_reg': 0.07476312062252301, 'subsample': 0.8447411578889518, 'colsample_bylevel': 0.6557975442608167, 'min_data_in_leaf': 9, 'early_stopping_rounds': 25}. Best is trial 0 with value: 193164.08466508074.\n"
     ]
    },
    {
     "name": "stdout",
     "output_type": "stream",
     "text": [
      "Trial 2 finished with value: 219006.47559242797 and parameters: {'iterations': 374, 'learning_rate': 0.0199473547030745, 'depth': 7, 'l2_leaf_reg': 0.07476312062252301, 'subsample': 0.8447411578889518, 'colsample_bylevel': 0.6557975442608167, 'min_data_in_leaf': 9, 'early_stopping_rounds': 25}. Best is trial 0 with value: 193164.08466508074.\n",
      "Trial 2 finished with value: 219006.47559242797 and parameters: {'iterations': 374, 'learning_rate': 0.0199473547030745, 'depth': 7, 'l2_leaf_reg': 0.07476312062252301, 'subsample': 0.8447411578889518, 'colsample_bylevel': 0.6557975442608167, 'min_data_in_leaf': 9, 'early_stopping_rounds': 25}. Best is trial 0 with value: 193164.08466508074.\n",
      "Trial 2 finished with value: 219006.47559242797 and parameters: {'iterations': 374, 'learning_rate': 0.0199473547030745, 'depth': 7, 'l2_leaf_reg': 0.07476312062252301, 'subsample': 0.8447411578889518, 'colsample_bylevel': 0.6557975442608167, 'min_data_in_leaf': 9, 'early_stopping_rounds': 25}. Best is trial 0 with value: 193164.08466508074.\n",
      "Trial 2 finished with value: 219006.47559242797 and parameters: {'iterations': 374, 'learning_rate': 0.0199473547030745, 'depth': 7, 'l2_leaf_reg': 0.07476312062252301, 'subsample': 0.8447411578889518, 'colsample_bylevel': 0.6557975442608167, 'min_data_in_leaf': 9, 'early_stopping_rounds': 25}. Best is trial 0 with value: 193164.08466508074.\n"
     ]
    },
    {
     "name": "stderr",
     "output_type": "stream",
     "text": [
      "[I 2025-06-30 17:21:22,589] Trial 3 finished with value: 202730.51843127175 and parameters: {'iterations': 510, 'learning_rate': 0.08810003129071789, 'depth': 5, 'l2_leaf_reg': 0.34890188454913873, 'subsample': 0.836965827544817, 'colsample_bylevel': 0.6185801650879991, 'min_data_in_leaf': 19, 'early_stopping_rounds': 16}. Best is trial 0 with value: 193164.08466508074.\n"
     ]
    },
    {
     "name": "stdout",
     "output_type": "stream",
     "text": [
      "Trial 3 finished with value: 202730.51843127175 and parameters: {'iterations': 510, 'learning_rate': 0.08810003129071789, 'depth': 5, 'l2_leaf_reg': 0.34890188454913873, 'subsample': 0.836965827544817, 'colsample_bylevel': 0.6185801650879991, 'min_data_in_leaf': 19, 'early_stopping_rounds': 16}. Best is trial 0 with value: 193164.08466508074.\n",
      "Trial 3 finished with value: 202730.51843127175 and parameters: {'iterations': 510, 'learning_rate': 0.08810003129071789, 'depth': 5, 'l2_leaf_reg': 0.34890188454913873, 'subsample': 0.836965827544817, 'colsample_bylevel': 0.6185801650879991, 'min_data_in_leaf': 19, 'early_stopping_rounds': 16}. Best is trial 0 with value: 193164.08466508074.\n",
      "Trial 3 finished with value: 202730.51843127175 and parameters: {'iterations': 510, 'learning_rate': 0.08810003129071789, 'depth': 5, 'l2_leaf_reg': 0.34890188454913873, 'subsample': 0.836965827544817, 'colsample_bylevel': 0.6185801650879991, 'min_data_in_leaf': 19, 'early_stopping_rounds': 16}. Best is trial 0 with value: 193164.08466508074.\n",
      "Trial 3 finished with value: 202730.51843127175 and parameters: {'iterations': 510, 'learning_rate': 0.08810003129071789, 'depth': 5, 'l2_leaf_reg': 0.34890188454913873, 'subsample': 0.836965827544817, 'colsample_bylevel': 0.6185801650879991, 'min_data_in_leaf': 19, 'early_stopping_rounds': 16}. Best is trial 0 with value: 193164.08466508074.\n"
     ]
    },
    {
     "name": "stderr",
     "output_type": "stream",
     "text": [
      "[I 2025-06-30 17:21:38,466] Trial 4 finished with value: 200398.3155203107 and parameters: {'iterations': 158, 'learning_rate': 0.22413234378101138, 'depth': 10, 'l2_leaf_reg': 2.6619018884890564, 'subsample': 0.7218455076693483, 'colsample_bylevel': 0.6390688456025535, 'min_data_in_leaf': 21, 'early_stopping_rounds': 28}. Best is trial 0 with value: 193164.08466508074.\n"
     ]
    },
    {
     "name": "stdout",
     "output_type": "stream",
     "text": [
      "Trial 4 finished with value: 200398.3155203107 and parameters: {'iterations': 158, 'learning_rate': 0.22413234378101138, 'depth': 10, 'l2_leaf_reg': 2.6619018884890564, 'subsample': 0.7218455076693483, 'colsample_bylevel': 0.6390688456025535, 'min_data_in_leaf': 21, 'early_stopping_rounds': 28}. Best is trial 0 with value: 193164.08466508074.\n",
      "Trial 4 finished with value: 200398.3155203107 and parameters: {'iterations': 158, 'learning_rate': 0.22413234378101138, 'depth': 10, 'l2_leaf_reg': 2.6619018884890564, 'subsample': 0.7218455076693483, 'colsample_bylevel': 0.6390688456025535, 'min_data_in_leaf': 21, 'early_stopping_rounds': 28}. Best is trial 0 with value: 193164.08466508074.\n",
      "Trial 4 finished with value: 200398.3155203107 and parameters: {'iterations': 158, 'learning_rate': 0.22413234378101138, 'depth': 10, 'l2_leaf_reg': 2.6619018884890564, 'subsample': 0.7218455076693483, 'colsample_bylevel': 0.6390688456025535, 'min_data_in_leaf': 21, 'early_stopping_rounds': 28}. Best is trial 0 with value: 193164.08466508074.\n",
      "Trial 4 finished with value: 200398.3155203107 and parameters: {'iterations': 158, 'learning_rate': 0.22413234378101138, 'depth': 10, 'l2_leaf_reg': 2.6619018884890564, 'subsample': 0.7218455076693483, 'colsample_bylevel': 0.6390688456025535, 'min_data_in_leaf': 21, 'early_stopping_rounds': 28}. Best is trial 0 with value: 193164.08466508074.\n"
     ]
    },
    {
     "name": "stderr",
     "output_type": "stream",
     "text": [
      "[I 2025-06-30 17:21:40,159] Trial 5 finished with value: 394421.5608890197 and parameters: {'iterations': 209, 'learning_rate': 0.016850517723339092, 'depth': 4, 'l2_leaf_reg': 5.345166110646819, 'subsample': 0.7035119926400067, 'colsample_bylevel': 0.8650089137415928, 'min_data_in_leaf': 10, 'early_stopping_rounds': 31}. Best is trial 0 with value: 193164.08466508074.\n"
     ]
    },
    {
     "name": "stdout",
     "output_type": "stream",
     "text": [
      "Trial 5 finished with value: 394421.5608890197 and parameters: {'iterations': 209, 'learning_rate': 0.016850517723339092, 'depth': 4, 'l2_leaf_reg': 5.345166110646819, 'subsample': 0.7035119926400067, 'colsample_bylevel': 0.8650089137415928, 'min_data_in_leaf': 10, 'early_stopping_rounds': 31}. Best is trial 0 with value: 193164.08466508074.\n",
      "Trial 5 finished with value: 394421.5608890197 and parameters: {'iterations': 209, 'learning_rate': 0.016850517723339092, 'depth': 4, 'l2_leaf_reg': 5.345166110646819, 'subsample': 0.7035119926400067, 'colsample_bylevel': 0.8650089137415928, 'min_data_in_leaf': 10, 'early_stopping_rounds': 31}. Best is trial 0 with value: 193164.08466508074.\n",
      "Trial 5 finished with value: 394421.5608890197 and parameters: {'iterations': 209, 'learning_rate': 0.016850517723339092, 'depth': 4, 'l2_leaf_reg': 5.345166110646819, 'subsample': 0.7035119926400067, 'colsample_bylevel': 0.8650089137415928, 'min_data_in_leaf': 10, 'early_stopping_rounds': 31}. Best is trial 0 with value: 193164.08466508074.\n",
      "Trial 5 finished with value: 394421.5608890197 and parameters: {'iterations': 209, 'learning_rate': 0.016850517723339092, 'depth': 4, 'l2_leaf_reg': 5.345166110646819, 'subsample': 0.7035119926400067, 'colsample_bylevel': 0.8650089137415928, 'min_data_in_leaf': 10, 'early_stopping_rounds': 31}. Best is trial 0 with value: 193164.08466508074.\n"
     ]
    },
    {
     "name": "stderr",
     "output_type": "stream",
     "text": [
      "[I 2025-06-30 17:21:42,902] Trial 6 finished with value: 419852.1247820057 and parameters: {'iterations': 592, 'learning_rate': 0.002870165242185818, 'depth': 10, 'l2_leaf_reg': 2.1154290797261215, 'subsample': 0.9757995766256756, 'colsample_bylevel': 0.9579309401710595, 'min_data_in_leaf': 18, 'early_stopping_rounds': 47}. Best is trial 0 with value: 193164.08466508074.\n"
     ]
    },
    {
     "name": "stdout",
     "output_type": "stream",
     "text": [
      "Trial 6 finished with value: 419852.1247820057 and parameters: {'iterations': 592, 'learning_rate': 0.002870165242185818, 'depth': 10, 'l2_leaf_reg': 2.1154290797261215, 'subsample': 0.9757995766256756, 'colsample_bylevel': 0.9579309401710595, 'min_data_in_leaf': 18, 'early_stopping_rounds': 47}. Best is trial 0 with value: 193164.08466508074.\n",
      "Trial 6 finished with value: 419852.1247820057 and parameters: {'iterations': 592, 'learning_rate': 0.002870165242185818, 'depth': 10, 'l2_leaf_reg': 2.1154290797261215, 'subsample': 0.9757995766256756, 'colsample_bylevel': 0.9579309401710595, 'min_data_in_leaf': 18, 'early_stopping_rounds': 47}. Best is trial 0 with value: 193164.08466508074.\n",
      "Trial 6 finished with value: 419852.1247820057 and parameters: {'iterations': 592, 'learning_rate': 0.002870165242185818, 'depth': 10, 'l2_leaf_reg': 2.1154290797261215, 'subsample': 0.9757995766256756, 'colsample_bylevel': 0.9579309401710595, 'min_data_in_leaf': 18, 'early_stopping_rounds': 47}. Best is trial 0 with value: 193164.08466508074.\n",
      "Trial 6 finished with value: 419852.1247820057 and parameters: {'iterations': 592, 'learning_rate': 0.002870165242185818, 'depth': 10, 'l2_leaf_reg': 2.1154290797261215, 'subsample': 0.9757995766256756, 'colsample_bylevel': 0.9579309401710595, 'min_data_in_leaf': 18, 'early_stopping_rounds': 47}. Best is trial 0 with value: 193164.08466508074.\n"
     ]
    },
    {
     "name": "stderr",
     "output_type": "stream",
     "text": [
      "[I 2025-06-30 17:21:44,541] Trial 7 finished with value: 420620.724283256 and parameters: {'iterations': 179, 'learning_rate': 0.0030582523213789677, 'depth': 4, 'l2_leaf_reg': 0.09462175356461491, 'subsample': 0.7554709158757928, 'colsample_bylevel': 0.7085396127095583, 'min_data_in_leaf': 25, 'early_stopping_rounds': 24}. Best is trial 0 with value: 193164.08466508074.\n"
     ]
    },
    {
     "name": "stdout",
     "output_type": "stream",
     "text": [
      "Trial 7 finished with value: 420620.724283256 and parameters: {'iterations': 179, 'learning_rate': 0.0030582523213789677, 'depth': 4, 'l2_leaf_reg': 0.09462175356461491, 'subsample': 0.7554709158757928, 'colsample_bylevel': 0.7085396127095583, 'min_data_in_leaf': 25, 'early_stopping_rounds': 24}. Best is trial 0 with value: 193164.08466508074.\n",
      "Trial 7 finished with value: 420620.724283256 and parameters: {'iterations': 179, 'learning_rate': 0.0030582523213789677, 'depth': 4, 'l2_leaf_reg': 0.09462175356461491, 'subsample': 0.7554709158757928, 'colsample_bylevel': 0.7085396127095583, 'min_data_in_leaf': 25, 'early_stopping_rounds': 24}. Best is trial 0 with value: 193164.08466508074.\n",
      "Trial 7 finished with value: 420620.724283256 and parameters: {'iterations': 179, 'learning_rate': 0.0030582523213789677, 'depth': 4, 'l2_leaf_reg': 0.09462175356461491, 'subsample': 0.7554709158757928, 'colsample_bylevel': 0.7085396127095583, 'min_data_in_leaf': 25, 'early_stopping_rounds': 24}. Best is trial 0 with value: 193164.08466508074.\n",
      "Trial 7 finished with value: 420620.724283256 and parameters: {'iterations': 179, 'learning_rate': 0.0030582523213789677, 'depth': 4, 'l2_leaf_reg': 0.09462175356461491, 'subsample': 0.7554709158757928, 'colsample_bylevel': 0.7085396127095583, 'min_data_in_leaf': 25, 'early_stopping_rounds': 24}. Best is trial 0 with value: 193164.08466508074.\n"
     ]
    },
    {
     "name": "stderr",
     "output_type": "stream",
     "text": [
      "[I 2025-06-30 17:21:46,410] Trial 8 finished with value: 383816.238887606 and parameters: {'iterations': 353, 'learning_rate': 0.022096526145513846, 'depth': 4, 'l2_leaf_reg': 2.5502980701628926, 'subsample': 0.6298202574719083, 'colsample_bylevel': 0.9947547746402069, 'min_data_in_leaf': 24, 'early_stopping_rounds': 18}. Best is trial 0 with value: 193164.08466508074.\n"
     ]
    },
    {
     "name": "stdout",
     "output_type": "stream",
     "text": [
      "Trial 8 finished with value: 383816.238887606 and parameters: {'iterations': 353, 'learning_rate': 0.022096526145513846, 'depth': 4, 'l2_leaf_reg': 2.5502980701628926, 'subsample': 0.6298202574719083, 'colsample_bylevel': 0.9947547746402069, 'min_data_in_leaf': 24, 'early_stopping_rounds': 18}. Best is trial 0 with value: 193164.08466508074.\n",
      "Trial 8 finished with value: 383816.238887606 and parameters: {'iterations': 353, 'learning_rate': 0.022096526145513846, 'depth': 4, 'l2_leaf_reg': 2.5502980701628926, 'subsample': 0.6298202574719083, 'colsample_bylevel': 0.9947547746402069, 'min_data_in_leaf': 24, 'early_stopping_rounds': 18}. Best is trial 0 with value: 193164.08466508074.\n",
      "Trial 8 finished with value: 383816.238887606 and parameters: {'iterations': 353, 'learning_rate': 0.022096526145513846, 'depth': 4, 'l2_leaf_reg': 2.5502980701628926, 'subsample': 0.6298202574719083, 'colsample_bylevel': 0.9947547746402069, 'min_data_in_leaf': 24, 'early_stopping_rounds': 18}. Best is trial 0 with value: 193164.08466508074.\n",
      "Trial 8 finished with value: 383816.238887606 and parameters: {'iterations': 353, 'learning_rate': 0.022096526145513846, 'depth': 4, 'l2_leaf_reg': 2.5502980701628926, 'subsample': 0.6298202574719083, 'colsample_bylevel': 0.9947547746402069, 'min_data_in_leaf': 24, 'early_stopping_rounds': 18}. Best is trial 0 with value: 193164.08466508074.\n"
     ]
    },
    {
     "name": "stderr",
     "output_type": "stream",
     "text": [
      "[I 2025-06-30 17:21:52,495] Trial 9 finished with value: 212370.7638043208 and parameters: {'iterations': 104, 'learning_rate': 0.10471209213501693, 'depth': 8, 'l2_leaf_reg': 1.5382308040278996, 'subsample': 0.9085081386743783, 'colsample_bylevel': 0.6296178606936361, 'min_data_in_leaf': 11, 'early_stopping_rounds': 14}. Best is trial 0 with value: 193164.08466508074.\n"
     ]
    },
    {
     "name": "stdout",
     "output_type": "stream",
     "text": [
      "Trial 9 finished with value: 212370.7638043208 and parameters: {'iterations': 104, 'learning_rate': 0.10471209213501693, 'depth': 8, 'l2_leaf_reg': 1.5382308040278996, 'subsample': 0.9085081386743783, 'colsample_bylevel': 0.6296178606936361, 'min_data_in_leaf': 11, 'early_stopping_rounds': 14}. Best is trial 0 with value: 193164.08466508074.\n",
      "Trial 9 finished with value: 212370.7638043208 and parameters: {'iterations': 104, 'learning_rate': 0.10471209213501693, 'depth': 8, 'l2_leaf_reg': 1.5382308040278996, 'subsample': 0.9085081386743783, 'colsample_bylevel': 0.6296178606936361, 'min_data_in_leaf': 11, 'early_stopping_rounds': 14}. Best is trial 0 with value: 193164.08466508074.\n",
      "Trial 9 finished with value: 212370.7638043208 and parameters: {'iterations': 104, 'learning_rate': 0.10471209213501693, 'depth': 8, 'l2_leaf_reg': 1.5382308040278996, 'subsample': 0.9085081386743783, 'colsample_bylevel': 0.6296178606936361, 'min_data_in_leaf': 11, 'early_stopping_rounds': 14}. Best is trial 0 with value: 193164.08466508074.\n",
      "Trial 9 finished with value: 212370.7638043208 and parameters: {'iterations': 104, 'learning_rate': 0.10471209213501693, 'depth': 8, 'l2_leaf_reg': 1.5382308040278996, 'subsample': 0.9085081386743783, 'colsample_bylevel': 0.6296178606936361, 'min_data_in_leaf': 11, 'early_stopping_rounds': 14}. Best is trial 0 with value: 193164.08466508074.\n"
     ]
    },
    {
     "name": "stderr",
     "output_type": "stream",
     "text": [
      "[I 2025-06-30 17:21:54,660] Trial 10 finished with value: 424416.6124620543 and parameters: {'iterations': 906, 'learning_rate': 0.0010347984019709355, 'depth': 8, 'l2_leaf_reg': 0.01132102180423038, 'subsample': 0.6061470949312417, 'colsample_bylevel': 0.775232370984732, 'min_data_in_leaf': 1, 'early_stopping_rounds': 50}. Best is trial 0 with value: 193164.08466508074.\n"
     ]
    },
    {
     "name": "stdout",
     "output_type": "stream",
     "text": [
      "Trial 10 finished with value: 424416.6124620543 and parameters: {'iterations': 906, 'learning_rate': 0.0010347984019709355, 'depth': 8, 'l2_leaf_reg': 0.01132102180423038, 'subsample': 0.6061470949312417, 'colsample_bylevel': 0.775232370984732, 'min_data_in_leaf': 1, 'early_stopping_rounds': 50}. Best is trial 0 with value: 193164.08466508074.\n",
      "Trial 10 finished with value: 424416.6124620543 and parameters: {'iterations': 906, 'learning_rate': 0.0010347984019709355, 'depth': 8, 'l2_leaf_reg': 0.01132102180423038, 'subsample': 0.6061470949312417, 'colsample_bylevel': 0.775232370984732, 'min_data_in_leaf': 1, 'early_stopping_rounds': 50}. Best is trial 0 with value: 193164.08466508074.\n",
      "Trial 10 finished with value: 424416.6124620543 and parameters: {'iterations': 906, 'learning_rate': 0.0010347984019709355, 'depth': 8, 'l2_leaf_reg': 0.01132102180423038, 'subsample': 0.6061470949312417, 'colsample_bylevel': 0.775232370984732, 'min_data_in_leaf': 1, 'early_stopping_rounds': 50}. Best is trial 0 with value: 193164.08466508074.\n",
      "Trial 10 finished with value: 424416.6124620543 and parameters: {'iterations': 906, 'learning_rate': 0.0010347984019709355, 'depth': 8, 'l2_leaf_reg': 0.01132102180423038, 'subsample': 0.6061470949312417, 'colsample_bylevel': 0.775232370984732, 'min_data_in_leaf': 1, 'early_stopping_rounds': 50}. Best is trial 0 with value: 193164.08466508074.\n"
     ]
    },
    {
     "name": "stderr",
     "output_type": "stream",
     "text": [
      "[I 2025-06-30 17:22:43,648] Trial 11 finished with value: 197127.6718143651 and parameters: {'iterations': 806, 'learning_rate': 0.2928900386183503, 'depth': 10, 'l2_leaf_reg': 0.5990937895571765, 'subsample': 0.693378857415877, 'colsample_bylevel': 0.7580270214839643, 'min_data_in_leaf': 29, 'early_stopping_rounds': 39}. Best is trial 0 with value: 193164.08466508074.\n"
     ]
    },
    {
     "name": "stdout",
     "output_type": "stream",
     "text": [
      "Trial 11 finished with value: 197127.6718143651 and parameters: {'iterations': 806, 'learning_rate': 0.2928900386183503, 'depth': 10, 'l2_leaf_reg': 0.5990937895571765, 'subsample': 0.693378857415877, 'colsample_bylevel': 0.7580270214839643, 'min_data_in_leaf': 29, 'early_stopping_rounds': 39}. Best is trial 0 with value: 193164.08466508074.\n",
      "Trial 11 finished with value: 197127.6718143651 and parameters: {'iterations': 806, 'learning_rate': 0.2928900386183503, 'depth': 10, 'l2_leaf_reg': 0.5990937895571765, 'subsample': 0.693378857415877, 'colsample_bylevel': 0.7580270214839643, 'min_data_in_leaf': 29, 'early_stopping_rounds': 39}. Best is trial 0 with value: 193164.08466508074.\n",
      "Trial 11 finished with value: 197127.6718143651 and parameters: {'iterations': 806, 'learning_rate': 0.2928900386183503, 'depth': 10, 'l2_leaf_reg': 0.5990937895571765, 'subsample': 0.693378857415877, 'colsample_bylevel': 0.7580270214839643, 'min_data_in_leaf': 29, 'early_stopping_rounds': 39}. Best is trial 0 with value: 193164.08466508074.\n",
      "Trial 11 finished with value: 197127.6718143651 and parameters: {'iterations': 806, 'learning_rate': 0.2928900386183503, 'depth': 10, 'l2_leaf_reg': 0.5990937895571765, 'subsample': 0.693378857415877, 'colsample_bylevel': 0.7580270214839643, 'min_data_in_leaf': 29, 'early_stopping_rounds': 39}. Best is trial 0 with value: 193164.08466508074.\n"
     ]
    },
    {
     "name": "stderr",
     "output_type": "stream",
     "text": [
      "[I 2025-06-30 17:23:36,049] Trial 12 finished with value: 193778.8699970946 and parameters: {'iterations': 853, 'learning_rate': 0.29830637260334764, 'depth': 9, 'l2_leaf_reg': 0.4529796795685664, 'subsample': 0.669200985181719, 'colsample_bylevel': 0.7457769212953824, 'min_data_in_leaf': 30, 'early_stopping_rounds': 39}. Best is trial 0 with value: 193164.08466508074.\n"
     ]
    },
    {
     "name": "stdout",
     "output_type": "stream",
     "text": [
      "Trial 12 finished with value: 193778.8699970946 and parameters: {'iterations': 853, 'learning_rate': 0.29830637260334764, 'depth': 9, 'l2_leaf_reg': 0.4529796795685664, 'subsample': 0.669200985181719, 'colsample_bylevel': 0.7457769212953824, 'min_data_in_leaf': 30, 'early_stopping_rounds': 39}. Best is trial 0 with value: 193164.08466508074.\n",
      "Trial 12 finished with value: 193778.8699970946 and parameters: {'iterations': 853, 'learning_rate': 0.29830637260334764, 'depth': 9, 'l2_leaf_reg': 0.4529796795685664, 'subsample': 0.669200985181719, 'colsample_bylevel': 0.7457769212953824, 'min_data_in_leaf': 30, 'early_stopping_rounds': 39}. Best is trial 0 with value: 193164.08466508074.\n",
      "Trial 12 finished with value: 193778.8699970946 and parameters: {'iterations': 853, 'learning_rate': 0.29830637260334764, 'depth': 9, 'l2_leaf_reg': 0.4529796795685664, 'subsample': 0.669200985181719, 'colsample_bylevel': 0.7457769212953824, 'min_data_in_leaf': 30, 'early_stopping_rounds': 39}. Best is trial 0 with value: 193164.08466508074.\n",
      "Trial 12 finished with value: 193778.8699970946 and parameters: {'iterations': 853, 'learning_rate': 0.29830637260334764, 'depth': 9, 'l2_leaf_reg': 0.4529796795685664, 'subsample': 0.669200985181719, 'colsample_bylevel': 0.7457769212953824, 'min_data_in_leaf': 30, 'early_stopping_rounds': 39}. Best is trial 0 with value: 193164.08466508074.\n"
     ]
    },
    {
     "name": "stderr",
     "output_type": "stream",
     "text": [
      "[I 2025-06-30 17:23:44,289] Trial 13 finished with value: 205917.74996166502 and parameters: {'iterations': 985, 'learning_rate': 0.15735554323803275, 'depth': 8, 'l2_leaf_reg': 0.1268936930890743, 'subsample': 0.6572788586594467, 'colsample_bylevel': 0.8567997340268858, 'min_data_in_leaf': 1, 'early_stopping_rounds': 40}. Best is trial 0 with value: 193164.08466508074.\n"
     ]
    },
    {
     "name": "stdout",
     "output_type": "stream",
     "text": [
      "Trial 13 finished with value: 205917.74996166502 and parameters: {'iterations': 985, 'learning_rate': 0.15735554323803275, 'depth': 8, 'l2_leaf_reg': 0.1268936930890743, 'subsample': 0.6572788586594467, 'colsample_bylevel': 0.8567997340268858, 'min_data_in_leaf': 1, 'early_stopping_rounds': 40}. Best is trial 0 with value: 193164.08466508074.\n",
      "Trial 13 finished with value: 205917.74996166502 and parameters: {'iterations': 985, 'learning_rate': 0.15735554323803275, 'depth': 8, 'l2_leaf_reg': 0.1268936930890743, 'subsample': 0.6572788586594467, 'colsample_bylevel': 0.8567997340268858, 'min_data_in_leaf': 1, 'early_stopping_rounds': 40}. Best is trial 0 with value: 193164.08466508074.\n",
      "Trial 13 finished with value: 205917.74996166502 and parameters: {'iterations': 985, 'learning_rate': 0.15735554323803275, 'depth': 8, 'l2_leaf_reg': 0.1268936930890743, 'subsample': 0.6572788586594467, 'colsample_bylevel': 0.8567997340268858, 'min_data_in_leaf': 1, 'early_stopping_rounds': 40}. Best is trial 0 with value: 193164.08466508074.\n",
      "Trial 13 finished with value: 205917.74996166502 and parameters: {'iterations': 985, 'learning_rate': 0.15735554323803275, 'depth': 8, 'l2_leaf_reg': 0.1268936930890743, 'subsample': 0.6572788586594467, 'colsample_bylevel': 0.8567997340268858, 'min_data_in_leaf': 1, 'early_stopping_rounds': 40}. Best is trial 0 with value: 193164.08466508074.\n"
     ]
    },
    {
     "name": "stderr",
     "output_type": "stream",
     "text": [
      "[I 2025-06-30 17:23:47,150] Trial 14 finished with value: 336010.49078546284 and parameters: {'iterations': 706, 'learning_rate': 0.044084653694835274, 'depth': 9, 'l2_leaf_reg': 0.7756818983394322, 'subsample': 0.7826974821185181, 'colsample_bylevel': 0.7219922567707062, 'min_data_in_leaf': 14, 'early_stopping_rounds': 40}. Best is trial 0 with value: 193164.08466508074.\n"
     ]
    },
    {
     "name": "stdout",
     "output_type": "stream",
     "text": [
      "Trial 14 finished with value: 336010.49078546284 and parameters: {'iterations': 706, 'learning_rate': 0.044084653694835274, 'depth': 9, 'l2_leaf_reg': 0.7756818983394322, 'subsample': 0.7826974821185181, 'colsample_bylevel': 0.7219922567707062, 'min_data_in_leaf': 14, 'early_stopping_rounds': 40}. Best is trial 0 with value: 193164.08466508074.\n",
      "Trial 14 finished with value: 336010.49078546284 and parameters: {'iterations': 706, 'learning_rate': 0.044084653694835274, 'depth': 9, 'l2_leaf_reg': 0.7756818983394322, 'subsample': 0.7826974821185181, 'colsample_bylevel': 0.7219922567707062, 'min_data_in_leaf': 14, 'early_stopping_rounds': 40}. Best is trial 0 with value: 193164.08466508074.\n",
      "Trial 14 finished with value: 336010.49078546284 and parameters: {'iterations': 706, 'learning_rate': 0.044084653694835274, 'depth': 9, 'l2_leaf_reg': 0.7756818983394322, 'subsample': 0.7826974821185181, 'colsample_bylevel': 0.7219922567707062, 'min_data_in_leaf': 14, 'early_stopping_rounds': 40}. Best is trial 0 with value: 193164.08466508074.\n",
      "Trial 14 finished with value: 336010.49078546284 and parameters: {'iterations': 706, 'learning_rate': 0.044084653694835274, 'depth': 9, 'l2_leaf_reg': 0.7756818983394322, 'subsample': 0.7826974821185181, 'colsample_bylevel': 0.7219922567707062, 'min_data_in_leaf': 14, 'early_stopping_rounds': 40}. Best is trial 0 with value: 193164.08466508074.\n"
     ]
    },
    {
     "name": "stderr",
     "output_type": "stream",
     "text": [
      "[I 2025-06-30 17:23:49,986] Trial 15 finished with value: 226753.61021385095 and parameters: {'iterations': 463, 'learning_rate': 0.2588385652483153, 'depth': 6, 'l2_leaf_reg': 0.2594228347889954, 'subsample': 0.6795895602142985, 'colsample_bylevel': 0.8297365118287333, 'min_data_in_leaf': 30, 'early_stopping_rounds': 34}. Best is trial 0 with value: 193164.08466508074.\n"
     ]
    },
    {
     "name": "stdout",
     "output_type": "stream",
     "text": [
      "Trial 15 finished with value: 226753.61021385095 and parameters: {'iterations': 463, 'learning_rate': 0.2588385652483153, 'depth': 6, 'l2_leaf_reg': 0.2594228347889954, 'subsample': 0.6795895602142985, 'colsample_bylevel': 0.8297365118287333, 'min_data_in_leaf': 30, 'early_stopping_rounds': 34}. Best is trial 0 with value: 193164.08466508074.\n",
      "Trial 15 finished with value: 226753.61021385095 and parameters: {'iterations': 463, 'learning_rate': 0.2588385652483153, 'depth': 6, 'l2_leaf_reg': 0.2594228347889954, 'subsample': 0.6795895602142985, 'colsample_bylevel': 0.8297365118287333, 'min_data_in_leaf': 30, 'early_stopping_rounds': 34}. Best is trial 0 with value: 193164.08466508074.\n",
      "Trial 15 finished with value: 226753.61021385095 and parameters: {'iterations': 463, 'learning_rate': 0.2588385652483153, 'depth': 6, 'l2_leaf_reg': 0.2594228347889954, 'subsample': 0.6795895602142985, 'colsample_bylevel': 0.8297365118287333, 'min_data_in_leaf': 30, 'early_stopping_rounds': 34}. Best is trial 0 with value: 193164.08466508074.\n",
      "Trial 15 finished with value: 226753.61021385095 and parameters: {'iterations': 463, 'learning_rate': 0.2588385652483153, 'depth': 6, 'l2_leaf_reg': 0.2594228347889954, 'subsample': 0.6795895602142985, 'colsample_bylevel': 0.8297365118287333, 'min_data_in_leaf': 30, 'early_stopping_rounds': 34}. Best is trial 0 with value: 193164.08466508074.\n"
     ]
    },
    {
     "name": "stderr",
     "output_type": "stream",
     "text": [
      "[I 2025-06-30 17:23:53,075] Trial 16 finished with value: 407801.4653134753 and parameters: {'iterations': 744, 'learning_rate': 0.007426116718087666, 'depth': 9, 'l2_leaf_reg': 0.2468877195053605, 'subsample': 0.7492431962333567, 'colsample_bylevel': 0.74246023582073, 'min_data_in_leaf': 15, 'early_stopping_rounds': 46}. Best is trial 0 with value: 193164.08466508074.\n"
     ]
    },
    {
     "name": "stdout",
     "output_type": "stream",
     "text": [
      "Trial 16 finished with value: 407801.4653134753 and parameters: {'iterations': 744, 'learning_rate': 0.007426116718087666, 'depth': 9, 'l2_leaf_reg': 0.2468877195053605, 'subsample': 0.7492431962333567, 'colsample_bylevel': 0.74246023582073, 'min_data_in_leaf': 15, 'early_stopping_rounds': 46}. Best is trial 0 with value: 193164.08466508074.\n",
      "Trial 16 finished with value: 407801.4653134753 and parameters: {'iterations': 744, 'learning_rate': 0.007426116718087666, 'depth': 9, 'l2_leaf_reg': 0.2468877195053605, 'subsample': 0.7492431962333567, 'colsample_bylevel': 0.74246023582073, 'min_data_in_leaf': 15, 'early_stopping_rounds': 46}. Best is trial 0 with value: 193164.08466508074.\n",
      "Trial 16 finished with value: 407801.4653134753 and parameters: {'iterations': 744, 'learning_rate': 0.007426116718087666, 'depth': 9, 'l2_leaf_reg': 0.2468877195053605, 'subsample': 0.7492431962333567, 'colsample_bylevel': 0.74246023582073, 'min_data_in_leaf': 15, 'early_stopping_rounds': 46}. Best is trial 0 with value: 193164.08466508074.\n",
      "Trial 16 finished with value: 407801.4653134753 and parameters: {'iterations': 744, 'learning_rate': 0.007426116718087666, 'depth': 9, 'l2_leaf_reg': 0.2468877195053605, 'subsample': 0.7492431962333567, 'colsample_bylevel': 0.74246023582073, 'min_data_in_leaf': 15, 'early_stopping_rounds': 46}. Best is trial 0 with value: 193164.08466508074.\n"
     ]
    },
    {
     "name": "stderr",
     "output_type": "stream",
     "text": [
      "[I 2025-06-30 17:23:56,623] Trial 17 finished with value: 261743.75264054636 and parameters: {'iterations': 329, 'learning_rate': 0.11777517005248574, 'depth': 9, 'l2_leaf_reg': 0.03333924313244961, 'subsample': 0.6003864820323297, 'colsample_bylevel': 0.8037521393242067, 'min_data_in_leaf': 6, 'early_stopping_rounds': 43}. Best is trial 0 with value: 193164.08466508074.\n"
     ]
    },
    {
     "name": "stdout",
     "output_type": "stream",
     "text": [
      "Trial 17 finished with value: 261743.75264054636 and parameters: {'iterations': 329, 'learning_rate': 0.11777517005248574, 'depth': 9, 'l2_leaf_reg': 0.03333924313244961, 'subsample': 0.6003864820323297, 'colsample_bylevel': 0.8037521393242067, 'min_data_in_leaf': 6, 'early_stopping_rounds': 43}. Best is trial 0 with value: 193164.08466508074.\n",
      "Trial 17 finished with value: 261743.75264054636 and parameters: {'iterations': 329, 'learning_rate': 0.11777517005248574, 'depth': 9, 'l2_leaf_reg': 0.03333924313244961, 'subsample': 0.6003864820323297, 'colsample_bylevel': 0.8037521393242067, 'min_data_in_leaf': 6, 'early_stopping_rounds': 43}. Best is trial 0 with value: 193164.08466508074.\n",
      "Trial 17 finished with value: 261743.75264054636 and parameters: {'iterations': 329, 'learning_rate': 0.11777517005248574, 'depth': 9, 'l2_leaf_reg': 0.03333924313244961, 'subsample': 0.6003864820323297, 'colsample_bylevel': 0.8037521393242067, 'min_data_in_leaf': 6, 'early_stopping_rounds': 43}. Best is trial 0 with value: 193164.08466508074.\n",
      "Trial 17 finished with value: 261743.75264054636 and parameters: {'iterations': 329, 'learning_rate': 0.11777517005248574, 'depth': 9, 'l2_leaf_reg': 0.03333924313244961, 'subsample': 0.6003864820323297, 'colsample_bylevel': 0.8037521393242067, 'min_data_in_leaf': 6, 'early_stopping_rounds': 43}. Best is trial 0 with value: 193164.08466508074.\n"
     ]
    },
    {
     "name": "stderr",
     "output_type": "stream",
     "text": [
      "[I 2025-06-30 17:24:01,227] Trial 18 finished with value: 331557.2575971118 and parameters: {'iterations': 847, 'learning_rate': 0.05134970681560025, 'depth': 7, 'l2_leaf_reg': 0.8707603686462977, 'subsample': 0.6532788044008354, 'colsample_bylevel': 0.6811148233933808, 'min_data_in_leaf': 26, 'early_stopping_rounds': 35}. Best is trial 0 with value: 193164.08466508074.\n"
     ]
    },
    {
     "name": "stdout",
     "output_type": "stream",
     "text": [
      "Trial 18 finished with value: 331557.2575971118 and parameters: {'iterations': 847, 'learning_rate': 0.05134970681560025, 'depth': 7, 'l2_leaf_reg': 0.8707603686462977, 'subsample': 0.6532788044008354, 'colsample_bylevel': 0.6811148233933808, 'min_data_in_leaf': 26, 'early_stopping_rounds': 35}. Best is trial 0 with value: 193164.08466508074.\n",
      "Trial 18 finished with value: 331557.2575971118 and parameters: {'iterations': 847, 'learning_rate': 0.05134970681560025, 'depth': 7, 'l2_leaf_reg': 0.8707603686462977, 'subsample': 0.6532788044008354, 'colsample_bylevel': 0.6811148233933808, 'min_data_in_leaf': 26, 'early_stopping_rounds': 35}. Best is trial 0 with value: 193164.08466508074.\n",
      "Trial 18 finished with value: 331557.2575971118 and parameters: {'iterations': 847, 'learning_rate': 0.05134970681560025, 'depth': 7, 'l2_leaf_reg': 0.8707603686462977, 'subsample': 0.6532788044008354, 'colsample_bylevel': 0.6811148233933808, 'min_data_in_leaf': 26, 'early_stopping_rounds': 35}. Best is trial 0 with value: 193164.08466508074.\n",
      "Trial 18 finished with value: 331557.2575971118 and parameters: {'iterations': 847, 'learning_rate': 0.05134970681560025, 'depth': 7, 'l2_leaf_reg': 0.8707603686462977, 'subsample': 0.6532788044008354, 'colsample_bylevel': 0.6811148233933808, 'min_data_in_leaf': 26, 'early_stopping_rounds': 35}. Best is trial 0 with value: 193164.08466508074.\n"
     ]
    },
    {
     "name": "stderr",
     "output_type": "stream",
     "text": [
      "[I 2025-06-30 17:24:03,919] Trial 19 finished with value: 244082.83250688456 and parameters: {'iterations': 999, 'learning_rate': 0.18947684534767115, 'depth': 7, 'l2_leaf_reg': 0.4933157849953325, 'subsample': 0.8246753253615013, 'colsample_bylevel': 0.8984553239225072, 'min_data_in_leaf': 4, 'early_stopping_rounds': 35}. Best is trial 0 with value: 193164.08466508074.\n"
     ]
    },
    {
     "name": "stdout",
     "output_type": "stream",
     "text": [
      "Trial 19 finished with value: 244082.83250688456 and parameters: {'iterations': 999, 'learning_rate': 0.18947684534767115, 'depth': 7, 'l2_leaf_reg': 0.4933157849953325, 'subsample': 0.8246753253615013, 'colsample_bylevel': 0.8984553239225072, 'min_data_in_leaf': 4, 'early_stopping_rounds': 35}. Best is trial 0 with value: 193164.08466508074.\n",
      "Trial 19 finished with value: 244082.83250688456 and parameters: {'iterations': 999, 'learning_rate': 0.18947684534767115, 'depth': 7, 'l2_leaf_reg': 0.4933157849953325, 'subsample': 0.8246753253615013, 'colsample_bylevel': 0.8984553239225072, 'min_data_in_leaf': 4, 'early_stopping_rounds': 35}. Best is trial 0 with value: 193164.08466508074.\n",
      "Trial 19 finished with value: 244082.83250688456 and parameters: {'iterations': 999, 'learning_rate': 0.18947684534767115, 'depth': 7, 'l2_leaf_reg': 0.4933157849953325, 'subsample': 0.8246753253615013, 'colsample_bylevel': 0.8984553239225072, 'min_data_in_leaf': 4, 'early_stopping_rounds': 35}. Best is trial 0 with value: 193164.08466508074.\n",
      "Trial 19 finished with value: 244082.83250688456 and parameters: {'iterations': 999, 'learning_rate': 0.18947684534767115, 'depth': 7, 'l2_leaf_reg': 0.4933157849953325, 'subsample': 0.8246753253615013, 'colsample_bylevel': 0.8984553239225072, 'min_data_in_leaf': 4, 'early_stopping_rounds': 35}. Best is trial 0 with value: 193164.08466508074.\n"
     ]
    },
    {
     "name": "stderr",
     "output_type": "stream",
     "text": [
      "[I 2025-06-30 17:24:06,376] Trial 20 finished with value: 352919.17107680393 and parameters: {'iterations': 459, 'learning_rate': 0.0326559345206202, 'depth': 9, 'l2_leaf_reg': 0.040187488201804136, 'subsample': 0.7204121973301069, 'colsample_bylevel': 0.7970940974893838, 'min_data_in_leaf': 22, 'early_stopping_rounds': 50}. Best is trial 0 with value: 193164.08466508074.\n"
     ]
    },
    {
     "name": "stdout",
     "output_type": "stream",
     "text": [
      "Trial 20 finished with value: 352919.17107680393 and parameters: {'iterations': 459, 'learning_rate': 0.0326559345206202, 'depth': 9, 'l2_leaf_reg': 0.040187488201804136, 'subsample': 0.7204121973301069, 'colsample_bylevel': 0.7970940974893838, 'min_data_in_leaf': 22, 'early_stopping_rounds': 50}. Best is trial 0 with value: 193164.08466508074.\n",
      "Trial 20 finished with value: 352919.17107680393 and parameters: {'iterations': 459, 'learning_rate': 0.0326559345206202, 'depth': 9, 'l2_leaf_reg': 0.040187488201804136, 'subsample': 0.7204121973301069, 'colsample_bylevel': 0.7970940974893838, 'min_data_in_leaf': 22, 'early_stopping_rounds': 50}. Best is trial 0 with value: 193164.08466508074.\n",
      "Trial 20 finished with value: 352919.17107680393 and parameters: {'iterations': 459, 'learning_rate': 0.0326559345206202, 'depth': 9, 'l2_leaf_reg': 0.040187488201804136, 'subsample': 0.7204121973301069, 'colsample_bylevel': 0.7970940974893838, 'min_data_in_leaf': 22, 'early_stopping_rounds': 50}. Best is trial 0 with value: 193164.08466508074.\n",
      "Trial 20 finished with value: 352919.17107680393 and parameters: {'iterations': 459, 'learning_rate': 0.0326559345206202, 'depth': 9, 'l2_leaf_reg': 0.040187488201804136, 'subsample': 0.7204121973301069, 'colsample_bylevel': 0.7970940974893838, 'min_data_in_leaf': 22, 'early_stopping_rounds': 50}. Best is trial 0 with value: 193164.08466508074.\n"
     ]
    },
    {
     "name": "stderr",
     "output_type": "stream",
     "text": [
      "[I 2025-06-30 17:24:50,880] Trial 21 finished with value: 193869.37837896758 and parameters: {'iterations': 809, 'learning_rate': 0.2877420636662859, 'depth': 10, 'l2_leaf_reg': 0.9813453667931464, 'subsample': 0.6827783923992456, 'colsample_bylevel': 0.7547782653977205, 'min_data_in_leaf': 30, 'early_stopping_rounds': 40}. Best is trial 0 with value: 193164.08466508074.\n"
     ]
    },
    {
     "name": "stdout",
     "output_type": "stream",
     "text": [
      "Trial 21 finished with value: 193869.37837896758 and parameters: {'iterations': 809, 'learning_rate': 0.2877420636662859, 'depth': 10, 'l2_leaf_reg': 0.9813453667931464, 'subsample': 0.6827783923992456, 'colsample_bylevel': 0.7547782653977205, 'min_data_in_leaf': 30, 'early_stopping_rounds': 40}. Best is trial 0 with value: 193164.08466508074.\n",
      "Trial 21 finished with value: 193869.37837896758 and parameters: {'iterations': 809, 'learning_rate': 0.2877420636662859, 'depth': 10, 'l2_leaf_reg': 0.9813453667931464, 'subsample': 0.6827783923992456, 'colsample_bylevel': 0.7547782653977205, 'min_data_in_leaf': 30, 'early_stopping_rounds': 40}. Best is trial 0 with value: 193164.08466508074.\n",
      "Trial 21 finished with value: 193869.37837896758 and parameters: {'iterations': 809, 'learning_rate': 0.2877420636662859, 'depth': 10, 'l2_leaf_reg': 0.9813453667931464, 'subsample': 0.6827783923992456, 'colsample_bylevel': 0.7547782653977205, 'min_data_in_leaf': 30, 'early_stopping_rounds': 40}. Best is trial 0 with value: 193164.08466508074.\n",
      "Trial 21 finished with value: 193869.37837896758 and parameters: {'iterations': 809, 'learning_rate': 0.2877420636662859, 'depth': 10, 'l2_leaf_reg': 0.9813453667931464, 'subsample': 0.6827783923992456, 'colsample_bylevel': 0.7547782653977205, 'min_data_in_leaf': 30, 'early_stopping_rounds': 40}. Best is trial 0 with value: 193164.08466508074.\n"
     ]
    },
    {
     "name": "stderr",
     "output_type": "stream",
     "text": [
      "[I 2025-06-30 17:24:53,969] Trial 22 finished with value: 287039.7045608816 and parameters: {'iterations': 653, 'learning_rate': 0.0787611816301395, 'depth': 10, 'l2_leaf_reg': 0.8853068880055763, 'subsample': 0.6649920756193268, 'colsample_bylevel': 0.7121201545013595, 'min_data_in_leaf': 27, 'early_stopping_rounds': 43}. Best is trial 0 with value: 193164.08466508074.\n"
     ]
    },
    {
     "name": "stdout",
     "output_type": "stream",
     "text": [
      "Trial 22 finished with value: 287039.7045608816 and parameters: {'iterations': 653, 'learning_rate': 0.0787611816301395, 'depth': 10, 'l2_leaf_reg': 0.8853068880055763, 'subsample': 0.6649920756193268, 'colsample_bylevel': 0.7121201545013595, 'min_data_in_leaf': 27, 'early_stopping_rounds': 43}. Best is trial 0 with value: 193164.08466508074.\n",
      "Trial 22 finished with value: 287039.7045608816 and parameters: {'iterations': 653, 'learning_rate': 0.0787611816301395, 'depth': 10, 'l2_leaf_reg': 0.8853068880055763, 'subsample': 0.6649920756193268, 'colsample_bylevel': 0.7121201545013595, 'min_data_in_leaf': 27, 'early_stopping_rounds': 43}. Best is trial 0 with value: 193164.08466508074.\n",
      "Trial 22 finished with value: 287039.7045608816 and parameters: {'iterations': 653, 'learning_rate': 0.0787611816301395, 'depth': 10, 'l2_leaf_reg': 0.8853068880055763, 'subsample': 0.6649920756193268, 'colsample_bylevel': 0.7121201545013595, 'min_data_in_leaf': 27, 'early_stopping_rounds': 43}. Best is trial 0 with value: 193164.08466508074.\n",
      "Trial 22 finished with value: 287039.7045608816 and parameters: {'iterations': 653, 'learning_rate': 0.0787611816301395, 'depth': 10, 'l2_leaf_reg': 0.8853068880055763, 'subsample': 0.6649920756193268, 'colsample_bylevel': 0.7121201545013595, 'min_data_in_leaf': 27, 'early_stopping_rounds': 43}. Best is trial 0 with value: 193164.08466508074.\n"
     ]
    },
    {
     "name": "stderr",
     "output_type": "stream",
     "text": [
      "[I 2025-06-30 17:24:56,556] Trial 23 finished with value: 248864.47635146996 and parameters: {'iterations': 866, 'learning_rate': 0.15213334123354433, 'depth': 9, 'l2_leaf_reg': 1.3350554959592684, 'subsample': 0.6337909883971027, 'colsample_bylevel': 0.6802407359630315, 'min_data_in_leaf': 28, 'early_stopping_rounds': 44}. Best is trial 0 with value: 193164.08466508074.\n"
     ]
    },
    {
     "name": "stdout",
     "output_type": "stream",
     "text": [
      "Trial 23 finished with value: 248864.47635146996 and parameters: {'iterations': 866, 'learning_rate': 0.15213334123354433, 'depth': 9, 'l2_leaf_reg': 1.3350554959592684, 'subsample': 0.6337909883971027, 'colsample_bylevel': 0.6802407359630315, 'min_data_in_leaf': 28, 'early_stopping_rounds': 44}. Best is trial 0 with value: 193164.08466508074.\n",
      "Trial 23 finished with value: 248864.47635146996 and parameters: {'iterations': 866, 'learning_rate': 0.15213334123354433, 'depth': 9, 'l2_leaf_reg': 1.3350554959592684, 'subsample': 0.6337909883971027, 'colsample_bylevel': 0.6802407359630315, 'min_data_in_leaf': 28, 'early_stopping_rounds': 44}. Best is trial 0 with value: 193164.08466508074.\n",
      "Trial 23 finished with value: 248864.47635146996 and parameters: {'iterations': 866, 'learning_rate': 0.15213334123354433, 'depth': 9, 'l2_leaf_reg': 1.3350554959592684, 'subsample': 0.6337909883971027, 'colsample_bylevel': 0.6802407359630315, 'min_data_in_leaf': 28, 'early_stopping_rounds': 44}. Best is trial 0 with value: 193164.08466508074.\n",
      "Trial 23 finished with value: 248864.47635146996 and parameters: {'iterations': 866, 'learning_rate': 0.15213334123354433, 'depth': 9, 'l2_leaf_reg': 1.3350554959592684, 'subsample': 0.6337909883971027, 'colsample_bylevel': 0.6802407359630315, 'min_data_in_leaf': 28, 'early_stopping_rounds': 44}. Best is trial 0 with value: 193164.08466508074.\n"
     ]
    },
    {
     "name": "stderr",
     "output_type": "stream",
     "text": [
      "[I 2025-06-30 17:25:19,097] Trial 24 finished with value: 191651.15446141362 and parameters: {'iterations': 748, 'learning_rate': 0.2897824765207468, 'depth': 8, 'l2_leaf_reg': 0.17705520918925982, 'subsample': 0.746108781457228, 'colsample_bylevel': 0.7507458766924474, 'min_data_in_leaf': 30, 'early_stopping_rounds': 38}. Best is trial 24 with value: 191651.15446141362.\n"
     ]
    },
    {
     "name": "stdout",
     "output_type": "stream",
     "text": [
      "Trial 24 finished with value: 191651.15446141362 and parameters: {'iterations': 748, 'learning_rate': 0.2897824765207468, 'depth': 8, 'l2_leaf_reg': 0.17705520918925982, 'subsample': 0.746108781457228, 'colsample_bylevel': 0.7507458766924474, 'min_data_in_leaf': 30, 'early_stopping_rounds': 38}. Best is trial 24 with value: 191651.15446141362.\n",
      "Trial 24 finished with value: 191651.15446141362 and parameters: {'iterations': 748, 'learning_rate': 0.2897824765207468, 'depth': 8, 'l2_leaf_reg': 0.17705520918925982, 'subsample': 0.746108781457228, 'colsample_bylevel': 0.7507458766924474, 'min_data_in_leaf': 30, 'early_stopping_rounds': 38}. Best is trial 24 with value: 191651.15446141362.\n",
      "Trial 24 finished with value: 191651.15446141362 and parameters: {'iterations': 748, 'learning_rate': 0.2897824765207468, 'depth': 8, 'l2_leaf_reg': 0.17705520918925982, 'subsample': 0.746108781457228, 'colsample_bylevel': 0.7507458766924474, 'min_data_in_leaf': 30, 'early_stopping_rounds': 38}. Best is trial 24 with value: 191651.15446141362.\n",
      "Trial 24 finished with value: 191651.15446141362 and parameters: {'iterations': 748, 'learning_rate': 0.2897824765207468, 'depth': 8, 'l2_leaf_reg': 0.17705520918925982, 'subsample': 0.746108781457228, 'colsample_bylevel': 0.7507458766924474, 'min_data_in_leaf': 30, 'early_stopping_rounds': 38}. Best is trial 24 with value: 191651.15446141362.\n"
     ]
    },
    {
     "name": "stderr",
     "output_type": "stream",
     "text": [
      "[I 2025-06-30 17:25:21,783] Trial 25 finished with value: 251713.44822104333 and parameters: {'iterations': 724, 'learning_rate': 0.15008884402716377, 'depth': 8, 'l2_leaf_reg': 0.17529731728332265, 'subsample': 0.7642586473542406, 'colsample_bylevel': 0.7923054641818716, 'min_data_in_leaf': 23, 'early_stopping_rounds': 37}. Best is trial 24 with value: 191651.15446141362.\n"
     ]
    },
    {
     "name": "stdout",
     "output_type": "stream",
     "text": [
      "Trial 25 finished with value: 251713.44822104333 and parameters: {'iterations': 724, 'learning_rate': 0.15008884402716377, 'depth': 8, 'l2_leaf_reg': 0.17529731728332265, 'subsample': 0.7642586473542406, 'colsample_bylevel': 0.7923054641818716, 'min_data_in_leaf': 23, 'early_stopping_rounds': 37}. Best is trial 24 with value: 191651.15446141362.\n",
      "Trial 25 finished with value: 251713.44822104333 and parameters: {'iterations': 724, 'learning_rate': 0.15008884402716377, 'depth': 8, 'l2_leaf_reg': 0.17529731728332265, 'subsample': 0.7642586473542406, 'colsample_bylevel': 0.7923054641818716, 'min_data_in_leaf': 23, 'early_stopping_rounds': 37}. Best is trial 24 with value: 191651.15446141362.\n",
      "Trial 25 finished with value: 251713.44822104333 and parameters: {'iterations': 724, 'learning_rate': 0.15008884402716377, 'depth': 8, 'l2_leaf_reg': 0.17529731728332265, 'subsample': 0.7642586473542406, 'colsample_bylevel': 0.7923054641818716, 'min_data_in_leaf': 23, 'early_stopping_rounds': 37}. Best is trial 24 with value: 191651.15446141362.\n",
      "Trial 25 finished with value: 251713.44822104333 and parameters: {'iterations': 724, 'learning_rate': 0.15008884402716377, 'depth': 8, 'l2_leaf_reg': 0.17529731728332265, 'subsample': 0.7642586473542406, 'colsample_bylevel': 0.7923054641818716, 'min_data_in_leaf': 23, 'early_stopping_rounds': 37}. Best is trial 24 with value: 191651.15446141362.\n"
     ]
    },
    {
     "name": "stderr",
     "output_type": "stream",
     "text": [
      "[I 2025-06-30 17:25:24,062] Trial 26 finished with value: 400852.2781417089 and parameters: {'iterations': 574, 'learning_rate': 0.010709697515312202, 'depth': 8, 'l2_leaf_reg': 0.39755344928802744, 'subsample': 0.7290562036590932, 'colsample_bylevel': 0.7332956679369176, 'min_data_in_leaf': 13, 'early_stopping_rounds': 32}. Best is trial 24 with value: 191651.15446141362.\n"
     ]
    },
    {
     "name": "stdout",
     "output_type": "stream",
     "text": [
      "Trial 26 finished with value: 400852.2781417089 and parameters: {'iterations': 574, 'learning_rate': 0.010709697515312202, 'depth': 8, 'l2_leaf_reg': 0.39755344928802744, 'subsample': 0.7290562036590932, 'colsample_bylevel': 0.7332956679369176, 'min_data_in_leaf': 13, 'early_stopping_rounds': 32}. Best is trial 24 with value: 191651.15446141362.\n",
      "Trial 26 finished with value: 400852.2781417089 and parameters: {'iterations': 574, 'learning_rate': 0.010709697515312202, 'depth': 8, 'l2_leaf_reg': 0.39755344928802744, 'subsample': 0.7290562036590932, 'colsample_bylevel': 0.7332956679369176, 'min_data_in_leaf': 13, 'early_stopping_rounds': 32}. Best is trial 24 with value: 191651.15446141362.\n",
      "Trial 26 finished with value: 400852.2781417089 and parameters: {'iterations': 574, 'learning_rate': 0.010709697515312202, 'depth': 8, 'l2_leaf_reg': 0.39755344928802744, 'subsample': 0.7290562036590932, 'colsample_bylevel': 0.7332956679369176, 'min_data_in_leaf': 13, 'early_stopping_rounds': 32}. Best is trial 24 with value: 191651.15446141362.\n",
      "Trial 26 finished with value: 400852.2781417089 and parameters: {'iterations': 574, 'learning_rate': 0.010709697515312202, 'depth': 8, 'l2_leaf_reg': 0.39755344928802744, 'subsample': 0.7290562036590932, 'colsample_bylevel': 0.7332956679369176, 'min_data_in_leaf': 13, 'early_stopping_rounds': 32}. Best is trial 24 with value: 191651.15446141362.\n"
     ]
    },
    {
     "name": "stderr",
     "output_type": "stream",
     "text": [
      "[I 2025-06-30 17:25:26,478] Trial 27 finished with value: 311164.37992117874 and parameters: {'iterations': 272, 'learning_rate': 0.06924696589563263, 'depth': 7, 'l2_leaf_reg': 0.16424863759692604, 'subsample': 0.7912108321984976, 'colsample_bylevel': 0.6055590232716066, 'min_data_in_leaf': 20, 'early_stopping_rounds': 47}. Best is trial 24 with value: 191651.15446141362.\n"
     ]
    },
    {
     "name": "stdout",
     "output_type": "stream",
     "text": [
      "Trial 27 finished with value: 311164.37992117874 and parameters: {'iterations': 272, 'learning_rate': 0.06924696589563263, 'depth': 7, 'l2_leaf_reg': 0.16424863759692604, 'subsample': 0.7912108321984976, 'colsample_bylevel': 0.6055590232716066, 'min_data_in_leaf': 20, 'early_stopping_rounds': 47}. Best is trial 24 with value: 191651.15446141362.\n",
      "Trial 27 finished with value: 311164.37992117874 and parameters: {'iterations': 272, 'learning_rate': 0.06924696589563263, 'depth': 7, 'l2_leaf_reg': 0.16424863759692604, 'subsample': 0.7912108321984976, 'colsample_bylevel': 0.6055590232716066, 'min_data_in_leaf': 20, 'early_stopping_rounds': 47}. Best is trial 24 with value: 191651.15446141362.\n",
      "Trial 27 finished with value: 311164.37992117874 and parameters: {'iterations': 272, 'learning_rate': 0.06924696589563263, 'depth': 7, 'l2_leaf_reg': 0.16424863759692604, 'subsample': 0.7912108321984976, 'colsample_bylevel': 0.6055590232716066, 'min_data_in_leaf': 20, 'early_stopping_rounds': 47}. Best is trial 24 with value: 191651.15446141362.\n",
      "Trial 27 finished with value: 311164.37992117874 and parameters: {'iterations': 272, 'learning_rate': 0.06924696589563263, 'depth': 7, 'l2_leaf_reg': 0.16424863759692604, 'subsample': 0.7912108321984976, 'colsample_bylevel': 0.6055590232716066, 'min_data_in_leaf': 20, 'early_stopping_rounds': 47}. Best is trial 24 with value: 191651.15446141362.\n"
     ]
    },
    {
     "name": "stderr",
     "output_type": "stream",
     "text": [
      "[I 2025-06-30 17:25:28,654] Trial 28 finished with value: 269533.18270147825 and parameters: {'iterations': 923, 'learning_rate': 0.12996736870231101, 'depth': 6, 'l2_leaf_reg': 0.059206430572784914, 'subsample': 0.8660698517703785, 'colsample_bylevel': 0.6648447237835107, 'min_data_in_leaf': 17, 'early_stopping_rounds': 28}. Best is trial 24 with value: 191651.15446141362.\n"
     ]
    },
    {
     "name": "stdout",
     "output_type": "stream",
     "text": [
      "Trial 28 finished with value: 269533.18270147825 and parameters: {'iterations': 923, 'learning_rate': 0.12996736870231101, 'depth': 6, 'l2_leaf_reg': 0.059206430572784914, 'subsample': 0.8660698517703785, 'colsample_bylevel': 0.6648447237835107, 'min_data_in_leaf': 17, 'early_stopping_rounds': 28}. Best is trial 24 with value: 191651.15446141362.\n",
      "Trial 28 finished with value: 269533.18270147825 and parameters: {'iterations': 923, 'learning_rate': 0.12996736870231101, 'depth': 6, 'l2_leaf_reg': 0.059206430572784914, 'subsample': 0.8660698517703785, 'colsample_bylevel': 0.6648447237835107, 'min_data_in_leaf': 17, 'early_stopping_rounds': 28}. Best is trial 24 with value: 191651.15446141362.\n",
      "Trial 28 finished with value: 269533.18270147825 and parameters: {'iterations': 923, 'learning_rate': 0.12996736870231101, 'depth': 6, 'l2_leaf_reg': 0.059206430572784914, 'subsample': 0.8660698517703785, 'colsample_bylevel': 0.6648447237835107, 'min_data_in_leaf': 17, 'early_stopping_rounds': 28}. Best is trial 24 with value: 191651.15446141362.\n",
      "Trial 28 finished with value: 269533.18270147825 and parameters: {'iterations': 923, 'learning_rate': 0.12996736870231101, 'depth': 6, 'l2_leaf_reg': 0.059206430572784914, 'subsample': 0.8660698517703785, 'colsample_bylevel': 0.6648447237835107, 'min_data_in_leaf': 17, 'early_stopping_rounds': 28}. Best is trial 24 with value: 191651.15446141362.\n"
     ]
    },
    {
     "name": "stderr",
     "output_type": "stream",
     "text": [
      "[I 2025-06-30 17:25:31,456] Trial 29 finished with value: 236763.83625969017 and parameters: {'iterations': 669, 'learning_rate': 0.18789327248041002, 'depth': 9, 'l2_leaf_reg': 4.3639837346239405, 'subsample': 0.6248611510517292, 'colsample_bylevel': 0.686510507186421, 'min_data_in_leaf': 5, 'early_stopping_rounds': 37}. Best is trial 24 with value: 191651.15446141362.\n"
     ]
    },
    {
     "name": "stdout",
     "output_type": "stream",
     "text": [
      "Trial 29 finished with value: 236763.83625969017 and parameters: {'iterations': 669, 'learning_rate': 0.18789327248041002, 'depth': 9, 'l2_leaf_reg': 4.3639837346239405, 'subsample': 0.6248611510517292, 'colsample_bylevel': 0.686510507186421, 'min_data_in_leaf': 5, 'early_stopping_rounds': 37}. Best is trial 24 with value: 191651.15446141362.\n",
      "Trial 29 finished with value: 236763.83625969017 and parameters: {'iterations': 669, 'learning_rate': 0.18789327248041002, 'depth': 9, 'l2_leaf_reg': 4.3639837346239405, 'subsample': 0.6248611510517292, 'colsample_bylevel': 0.686510507186421, 'min_data_in_leaf': 5, 'early_stopping_rounds': 37}. Best is trial 24 with value: 191651.15446141362.\n",
      "Trial 29 finished with value: 236763.83625969017 and parameters: {'iterations': 669, 'learning_rate': 0.18789327248041002, 'depth': 9, 'l2_leaf_reg': 4.3639837346239405, 'subsample': 0.6248611510517292, 'colsample_bylevel': 0.686510507186421, 'min_data_in_leaf': 5, 'early_stopping_rounds': 37}. Best is trial 24 with value: 191651.15446141362.\n",
      "Trial 29 finished with value: 236763.83625969017 and parameters: {'iterations': 669, 'learning_rate': 0.18789327248041002, 'depth': 9, 'l2_leaf_reg': 4.3639837346239405, 'subsample': 0.6248611510517292, 'colsample_bylevel': 0.686510507186421, 'min_data_in_leaf': 5, 'early_stopping_rounds': 37}. Best is trial 24 with value: 191651.15446141362.\n"
     ]
    },
    {
     "name": "stderr",
     "output_type": "stream",
     "text": [
      "[I 2025-06-30 17:25:34,385] Trial 30 finished with value: 360726.37271938997 and parameters: {'iterations': 777, 'learning_rate': 0.03234366496474334, 'depth': 6, 'l2_leaf_reg': 0.019989211752082094, 'subsample': 0.7026984528096858, 'colsample_bylevel': 0.8278042860212953, 'min_data_in_leaf': 7, 'early_stopping_rounds': 43}. Best is trial 24 with value: 191651.15446141362.\n"
     ]
    },
    {
     "name": "stdout",
     "output_type": "stream",
     "text": [
      "Trial 30 finished with value: 360726.37271938997 and parameters: {'iterations': 777, 'learning_rate': 0.03234366496474334, 'depth': 6, 'l2_leaf_reg': 0.019989211752082094, 'subsample': 0.7026984528096858, 'colsample_bylevel': 0.8278042860212953, 'min_data_in_leaf': 7, 'early_stopping_rounds': 43}. Best is trial 24 with value: 191651.15446141362.\n",
      "Trial 30 finished with value: 360726.37271938997 and parameters: {'iterations': 777, 'learning_rate': 0.03234366496474334, 'depth': 6, 'l2_leaf_reg': 0.019989211752082094, 'subsample': 0.7026984528096858, 'colsample_bylevel': 0.8278042860212953, 'min_data_in_leaf': 7, 'early_stopping_rounds': 43}. Best is trial 24 with value: 191651.15446141362.\n",
      "Trial 30 finished with value: 360726.37271938997 and parameters: {'iterations': 777, 'learning_rate': 0.03234366496474334, 'depth': 6, 'l2_leaf_reg': 0.019989211752082094, 'subsample': 0.7026984528096858, 'colsample_bylevel': 0.8278042860212953, 'min_data_in_leaf': 7, 'early_stopping_rounds': 43}. Best is trial 24 with value: 191651.15446141362.\n",
      "Trial 30 finished with value: 360726.37271938997 and parameters: {'iterations': 777, 'learning_rate': 0.03234366496474334, 'depth': 6, 'l2_leaf_reg': 0.019989211752082094, 'subsample': 0.7026984528096858, 'colsample_bylevel': 0.8278042860212953, 'min_data_in_leaf': 7, 'early_stopping_rounds': 43}. Best is trial 24 with value: 191651.15446141362.\n"
     ]
    },
    {
     "name": "stderr",
     "output_type": "stream",
     "text": [
      "[I 2025-06-30 17:26:36,082] Trial 31 finished with value: 192449.43755492102 and parameters: {'iterations': 819, 'learning_rate': 0.2869798748467506, 'depth': 10, 'l2_leaf_reg': 1.1656735858275957, 'subsample': 0.6785875889638864, 'colsample_bylevel': 0.7607644789358028, 'min_data_in_leaf': 30, 'early_stopping_rounds': 40}. Best is trial 24 with value: 191651.15446141362.\n"
     ]
    },
    {
     "name": "stdout",
     "output_type": "stream",
     "text": [
      "Trial 31 finished with value: 192449.43755492102 and parameters: {'iterations': 819, 'learning_rate': 0.2869798748467506, 'depth': 10, 'l2_leaf_reg': 1.1656735858275957, 'subsample': 0.6785875889638864, 'colsample_bylevel': 0.7607644789358028, 'min_data_in_leaf': 30, 'early_stopping_rounds': 40}. Best is trial 24 with value: 191651.15446141362.\n",
      "Trial 31 finished with value: 192449.43755492102 and parameters: {'iterations': 819, 'learning_rate': 0.2869798748467506, 'depth': 10, 'l2_leaf_reg': 1.1656735858275957, 'subsample': 0.6785875889638864, 'colsample_bylevel': 0.7607644789358028, 'min_data_in_leaf': 30, 'early_stopping_rounds': 40}. Best is trial 24 with value: 191651.15446141362.\n",
      "Trial 31 finished with value: 192449.43755492102 and parameters: {'iterations': 819, 'learning_rate': 0.2869798748467506, 'depth': 10, 'l2_leaf_reg': 1.1656735858275957, 'subsample': 0.6785875889638864, 'colsample_bylevel': 0.7607644789358028, 'min_data_in_leaf': 30, 'early_stopping_rounds': 40}. Best is trial 24 with value: 191651.15446141362.\n",
      "Trial 31 finished with value: 192449.43755492102 and parameters: {'iterations': 819, 'learning_rate': 0.2869798748467506, 'depth': 10, 'l2_leaf_reg': 1.1656735858275957, 'subsample': 0.6785875889638864, 'colsample_bylevel': 0.7607644789358028, 'min_data_in_leaf': 30, 'early_stopping_rounds': 40}. Best is trial 24 with value: 191651.15446141362.\n"
     ]
    },
    {
     "name": "stderr",
     "output_type": "stream",
     "text": [
      "[I 2025-06-30 17:27:02,142] Trial 32 finished with value: 192799.30223112373 and parameters: {'iterations': 931, 'learning_rate': 0.22065733366088336, 'depth': 9, 'l2_leaf_reg': 0.546384482735498, 'subsample': 0.6515215790189713, 'colsample_bylevel': 0.7013370737909197, 'min_data_in_leaf': 28, 'early_stopping_rounds': 38}. Best is trial 24 with value: 191651.15446141362.\n"
     ]
    },
    {
     "name": "stdout",
     "output_type": "stream",
     "text": [
      "Trial 32 finished with value: 192799.30223112373 and parameters: {'iterations': 931, 'learning_rate': 0.22065733366088336, 'depth': 9, 'l2_leaf_reg': 0.546384482735498, 'subsample': 0.6515215790189713, 'colsample_bylevel': 0.7013370737909197, 'min_data_in_leaf': 28, 'early_stopping_rounds': 38}. Best is trial 24 with value: 191651.15446141362.\n",
      "Trial 32 finished with value: 192799.30223112373 and parameters: {'iterations': 931, 'learning_rate': 0.22065733366088336, 'depth': 9, 'l2_leaf_reg': 0.546384482735498, 'subsample': 0.6515215790189713, 'colsample_bylevel': 0.7013370737909197, 'min_data_in_leaf': 28, 'early_stopping_rounds': 38}. Best is trial 24 with value: 191651.15446141362.\n",
      "Trial 32 finished with value: 192799.30223112373 and parameters: {'iterations': 931, 'learning_rate': 0.22065733366088336, 'depth': 9, 'l2_leaf_reg': 0.546384482735498, 'subsample': 0.6515215790189713, 'colsample_bylevel': 0.7013370737909197, 'min_data_in_leaf': 28, 'early_stopping_rounds': 38}. Best is trial 24 with value: 191651.15446141362.\n",
      "Trial 32 finished with value: 192799.30223112373 and parameters: {'iterations': 931, 'learning_rate': 0.22065733366088336, 'depth': 9, 'l2_leaf_reg': 0.546384482735498, 'subsample': 0.6515215790189713, 'colsample_bylevel': 0.7013370737909197, 'min_data_in_leaf': 28, 'early_stopping_rounds': 38}. Best is trial 24 with value: 191651.15446141362.\n"
     ]
    },
    {
     "name": "stderr",
     "output_type": "stream",
     "text": [
      "[I 2025-06-30 17:27:04,765] Trial 33 finished with value: 264877.4136321198 and parameters: {'iterations': 928, 'learning_rate': 0.107620188885818, 'depth': 10, 'l2_leaf_reg': 0.2983431233189096, 'subsample': 0.6461440694363485, 'colsample_bylevel': 0.7006117412055323, 'min_data_in_leaf': 27, 'early_stopping_rounds': 37}. Best is trial 24 with value: 191651.15446141362.\n"
     ]
    },
    {
     "name": "stdout",
     "output_type": "stream",
     "text": [
      "Trial 33 finished with value: 264877.4136321198 and parameters: {'iterations': 928, 'learning_rate': 0.107620188885818, 'depth': 10, 'l2_leaf_reg': 0.2983431233189096, 'subsample': 0.6461440694363485, 'colsample_bylevel': 0.7006117412055323, 'min_data_in_leaf': 27, 'early_stopping_rounds': 37}. Best is trial 24 with value: 191651.15446141362.\n",
      "Trial 33 finished with value: 264877.4136321198 and parameters: {'iterations': 928, 'learning_rate': 0.107620188885818, 'depth': 10, 'l2_leaf_reg': 0.2983431233189096, 'subsample': 0.6461440694363485, 'colsample_bylevel': 0.7006117412055323, 'min_data_in_leaf': 27, 'early_stopping_rounds': 37}. Best is trial 24 with value: 191651.15446141362.\n",
      "Trial 33 finished with value: 264877.4136321198 and parameters: {'iterations': 928, 'learning_rate': 0.107620188885818, 'depth': 10, 'l2_leaf_reg': 0.2983431233189096, 'subsample': 0.6461440694363485, 'colsample_bylevel': 0.7006117412055323, 'min_data_in_leaf': 27, 'early_stopping_rounds': 37}. Best is trial 24 with value: 191651.15446141362.\n",
      "Trial 33 finished with value: 264877.4136321198 and parameters: {'iterations': 928, 'learning_rate': 0.107620188885818, 'depth': 10, 'l2_leaf_reg': 0.2983431233189096, 'subsample': 0.6461440694363485, 'colsample_bylevel': 0.7006117412055323, 'min_data_in_leaf': 27, 'early_stopping_rounds': 37}. Best is trial 24 with value: 191651.15446141362.\n"
     ]
    },
    {
     "name": "stderr",
     "output_type": "stream",
     "text": [
      "[I 2025-06-30 17:27:06,600] Trial 34 finished with value: 247909.29572866237 and parameters: {'iterations': 422, 'learning_rate': 0.20145250365448275, 'depth': 8, 'l2_leaf_reg': 9.8966921839684, 'subsample': 0.7317879282909067, 'colsample_bylevel': 0.6423292054011528, 'min_data_in_leaf': 25, 'early_stopping_rounds': 42}. Best is trial 24 with value: 191651.15446141362.\n"
     ]
    },
    {
     "name": "stdout",
     "output_type": "stream",
     "text": [
      "Trial 34 finished with value: 247909.29572866237 and parameters: {'iterations': 422, 'learning_rate': 0.20145250365448275, 'depth': 8, 'l2_leaf_reg': 9.8966921839684, 'subsample': 0.7317879282909067, 'colsample_bylevel': 0.6423292054011528, 'min_data_in_leaf': 25, 'early_stopping_rounds': 42}. Best is trial 24 with value: 191651.15446141362.\n",
      "Trial 34 finished with value: 247909.29572866237 and parameters: {'iterations': 422, 'learning_rate': 0.20145250365448275, 'depth': 8, 'l2_leaf_reg': 9.8966921839684, 'subsample': 0.7317879282909067, 'colsample_bylevel': 0.6423292054011528, 'min_data_in_leaf': 25, 'early_stopping_rounds': 42}. Best is trial 24 with value: 191651.15446141362.\n",
      "Trial 34 finished with value: 247909.29572866237 and parameters: {'iterations': 422, 'learning_rate': 0.20145250365448275, 'depth': 8, 'l2_leaf_reg': 9.8966921839684, 'subsample': 0.7317879282909067, 'colsample_bylevel': 0.6423292054011528, 'min_data_in_leaf': 25, 'early_stopping_rounds': 42}. Best is trial 24 with value: 191651.15446141362.\n",
      "Trial 34 finished with value: 247909.29572866237 and parameters: {'iterations': 422, 'learning_rate': 0.20145250365448275, 'depth': 8, 'l2_leaf_reg': 9.8966921839684, 'subsample': 0.7317879282909067, 'colsample_bylevel': 0.6423292054011528, 'min_data_in_leaf': 25, 'early_stopping_rounds': 42}. Best is trial 24 with value: 191651.15446141362.\n"
     ]
    },
    {
     "name": "stderr",
     "output_type": "stream",
     "text": [
      "[I 2025-06-30 17:27:08,930] Trial 35 finished with value: 297063.44828331994 and parameters: {'iterations': 506, 'learning_rate': 0.07731295771222205, 'depth': 9, 'l2_leaf_reg': 1.421664527640886, 'subsample': 0.7090586177904379, 'colsample_bylevel': 0.6561707039150337, 'min_data_in_leaf': 28, 'early_stopping_rounds': 46}. Best is trial 24 with value: 191651.15446141362.\n"
     ]
    },
    {
     "name": "stdout",
     "output_type": "stream",
     "text": [
      "Trial 35 finished with value: 297063.44828331994 and parameters: {'iterations': 506, 'learning_rate': 0.07731295771222205, 'depth': 9, 'l2_leaf_reg': 1.421664527640886, 'subsample': 0.7090586177904379, 'colsample_bylevel': 0.6561707039150337, 'min_data_in_leaf': 28, 'early_stopping_rounds': 46}. Best is trial 24 with value: 191651.15446141362.\n",
      "Trial 35 finished with value: 297063.44828331994 and parameters: {'iterations': 506, 'learning_rate': 0.07731295771222205, 'depth': 9, 'l2_leaf_reg': 1.421664527640886, 'subsample': 0.7090586177904379, 'colsample_bylevel': 0.6561707039150337, 'min_data_in_leaf': 28, 'early_stopping_rounds': 46}. Best is trial 24 with value: 191651.15446141362.\n",
      "Trial 35 finished with value: 297063.44828331994 and parameters: {'iterations': 506, 'learning_rate': 0.07731295771222205, 'depth': 9, 'l2_leaf_reg': 1.421664527640886, 'subsample': 0.7090586177904379, 'colsample_bylevel': 0.6561707039150337, 'min_data_in_leaf': 28, 'early_stopping_rounds': 46}. Best is trial 24 with value: 191651.15446141362.\n",
      "Trial 35 finished with value: 297063.44828331994 and parameters: {'iterations': 506, 'learning_rate': 0.07731295771222205, 'depth': 9, 'l2_leaf_reg': 1.421664527640886, 'subsample': 0.7090586177904379, 'colsample_bylevel': 0.6561707039150337, 'min_data_in_leaf': 28, 'early_stopping_rounds': 46}. Best is trial 24 with value: 191651.15446141362.\n"
     ]
    },
    {
     "name": "stderr",
     "output_type": "stream",
     "text": [
      "[I 2025-06-30 17:27:12,301] Trial 36 finished with value: 232703.14723365277 and parameters: {'iterations': 532, 'learning_rate': 0.20937878849954358, 'depth': 10, 'l2_leaf_reg': 0.5722294511033635, 'subsample': 0.6842688901983758, 'colsample_bylevel': 0.7801769492941018, 'min_data_in_leaf': 28, 'early_stopping_rounds': 25}. Best is trial 24 with value: 191651.15446141362.\n"
     ]
    },
    {
     "name": "stdout",
     "output_type": "stream",
     "text": [
      "Trial 36 finished with value: 232703.14723365277 and parameters: {'iterations': 532, 'learning_rate': 0.20937878849954358, 'depth': 10, 'l2_leaf_reg': 0.5722294511033635, 'subsample': 0.6842688901983758, 'colsample_bylevel': 0.7801769492941018, 'min_data_in_leaf': 28, 'early_stopping_rounds': 25}. Best is trial 24 with value: 191651.15446141362.\n",
      "Trial 36 finished with value: 232703.14723365277 and parameters: {'iterations': 532, 'learning_rate': 0.20937878849954358, 'depth': 10, 'l2_leaf_reg': 0.5722294511033635, 'subsample': 0.6842688901983758, 'colsample_bylevel': 0.7801769492941018, 'min_data_in_leaf': 28, 'early_stopping_rounds': 25}. Best is trial 24 with value: 191651.15446141362.\n",
      "Trial 36 finished with value: 232703.14723365277 and parameters: {'iterations': 532, 'learning_rate': 0.20937878849954358, 'depth': 10, 'l2_leaf_reg': 0.5722294511033635, 'subsample': 0.6842688901983758, 'colsample_bylevel': 0.7801769492941018, 'min_data_in_leaf': 28, 'early_stopping_rounds': 25}. Best is trial 24 with value: 191651.15446141362.\n",
      "Trial 36 finished with value: 232703.14723365277 and parameters: {'iterations': 532, 'learning_rate': 0.20937878849954358, 'depth': 10, 'l2_leaf_reg': 0.5722294511033635, 'subsample': 0.6842688901983758, 'colsample_bylevel': 0.7801769492941018, 'min_data_in_leaf': 28, 'early_stopping_rounds': 25}. Best is trial 24 with value: 191651.15446141362.\n"
     ]
    },
    {
     "name": "stderr",
     "output_type": "stream",
     "text": [
      "[I 2025-06-30 17:27:14,951] Trial 37 finished with value: 239292.14964538466 and parameters: {'iterations': 610, 'learning_rate': 0.21407871078206217, 'depth': 8, 'l2_leaf_reg': 4.440998416566279, 'subsample': 0.7659325196641714, 'colsample_bylevel': 0.7001100940963497, 'min_data_in_leaf': 21, 'early_stopping_rounds': 31}. Best is trial 24 with value: 191651.15446141362.\n"
     ]
    },
    {
     "name": "stdout",
     "output_type": "stream",
     "text": [
      "Trial 37 finished with value: 239292.14964538466 and parameters: {'iterations': 610, 'learning_rate': 0.21407871078206217, 'depth': 8, 'l2_leaf_reg': 4.440998416566279, 'subsample': 0.7659325196641714, 'colsample_bylevel': 0.7001100940963497, 'min_data_in_leaf': 21, 'early_stopping_rounds': 31}. Best is trial 24 with value: 191651.15446141362.\n",
      "Trial 37 finished with value: 239292.14964538466 and parameters: {'iterations': 610, 'learning_rate': 0.21407871078206217, 'depth': 8, 'l2_leaf_reg': 4.440998416566279, 'subsample': 0.7659325196641714, 'colsample_bylevel': 0.7001100940963497, 'min_data_in_leaf': 21, 'early_stopping_rounds': 31}. Best is trial 24 with value: 191651.15446141362.\n",
      "Trial 37 finished with value: 239292.14964538466 and parameters: {'iterations': 610, 'learning_rate': 0.21407871078206217, 'depth': 8, 'l2_leaf_reg': 4.440998416566279, 'subsample': 0.7659325196641714, 'colsample_bylevel': 0.7001100940963497, 'min_data_in_leaf': 21, 'early_stopping_rounds': 31}. Best is trial 24 with value: 191651.15446141362.\n",
      "Trial 37 finished with value: 239292.14964538466 and parameters: {'iterations': 610, 'learning_rate': 0.21407871078206217, 'depth': 8, 'l2_leaf_reg': 4.440998416566279, 'subsample': 0.7659325196641714, 'colsample_bylevel': 0.7001100940963497, 'min_data_in_leaf': 21, 'early_stopping_rounds': 31}. Best is trial 24 with value: 191651.15446141362.\n"
     ]
    },
    {
     "name": "stderr",
     "output_type": "stream",
     "text": [
      "[I 2025-06-30 17:27:17,595] Trial 38 finished with value: 275728.59798840724 and parameters: {'iterations': 767, 'learning_rate': 0.09944967659279592, 'depth': 10, 'l2_leaf_reg': 0.1998214614108932, 'subsample': 0.7448798581966226, 'colsample_bylevel': 0.6010671845109126, 'min_data_in_leaf': 24, 'early_stopping_rounds': 33}. Best is trial 24 with value: 191651.15446141362.\n"
     ]
    },
    {
     "name": "stdout",
     "output_type": "stream",
     "text": [
      "Trial 38 finished with value: 275728.59798840724 and parameters: {'iterations': 767, 'learning_rate': 0.09944967659279592, 'depth': 10, 'l2_leaf_reg': 0.1998214614108932, 'subsample': 0.7448798581966226, 'colsample_bylevel': 0.6010671845109126, 'min_data_in_leaf': 24, 'early_stopping_rounds': 33}. Best is trial 24 with value: 191651.15446141362.\n",
      "Trial 38 finished with value: 275728.59798840724 and parameters: {'iterations': 767, 'learning_rate': 0.09944967659279592, 'depth': 10, 'l2_leaf_reg': 0.1998214614108932, 'subsample': 0.7448798581966226, 'colsample_bylevel': 0.6010671845109126, 'min_data_in_leaf': 24, 'early_stopping_rounds': 33}. Best is trial 24 with value: 191651.15446141362.\n",
      "Trial 38 finished with value: 275728.59798840724 and parameters: {'iterations': 767, 'learning_rate': 0.09944967659279592, 'depth': 10, 'l2_leaf_reg': 0.1998214614108932, 'subsample': 0.7448798581966226, 'colsample_bylevel': 0.6010671845109126, 'min_data_in_leaf': 24, 'early_stopping_rounds': 33}. Best is trial 24 with value: 191651.15446141362.\n",
      "Trial 38 finished with value: 275728.59798840724 and parameters: {'iterations': 767, 'learning_rate': 0.09944967659279592, 'depth': 10, 'l2_leaf_reg': 0.1998214614108932, 'subsample': 0.7448798581966226, 'colsample_bylevel': 0.6010671845109126, 'min_data_in_leaf': 24, 'early_stopping_rounds': 33}. Best is trial 24 with value: 191651.15446141362.\n"
     ]
    },
    {
     "name": "stderr",
     "output_type": "stream",
     "text": [
      "[I 2025-06-30 17:27:19,798] Trial 39 finished with value: 311771.9051539933 and parameters: {'iterations': 956, 'learning_rate': 0.06228491504630561, 'depth': 9, 'l2_leaf_reg': 0.11188485004435174, 'subsample': 0.9919381085597447, 'colsample_bylevel': 0.7664083609866857, 'min_data_in_leaf': 26, 'early_stopping_rounds': 45}. Best is trial 24 with value: 191651.15446141362.\n"
     ]
    },
    {
     "name": "stdout",
     "output_type": "stream",
     "text": [
      "Trial 39 finished with value: 311771.9051539933 and parameters: {'iterations': 956, 'learning_rate': 0.06228491504630561, 'depth': 9, 'l2_leaf_reg': 0.11188485004435174, 'subsample': 0.9919381085597447, 'colsample_bylevel': 0.7664083609866857, 'min_data_in_leaf': 26, 'early_stopping_rounds': 45}. Best is trial 24 with value: 191651.15446141362.\n",
      "Trial 39 finished with value: 311771.9051539933 and parameters: {'iterations': 956, 'learning_rate': 0.06228491504630561, 'depth': 9, 'l2_leaf_reg': 0.11188485004435174, 'subsample': 0.9919381085597447, 'colsample_bylevel': 0.7664083609866857, 'min_data_in_leaf': 26, 'early_stopping_rounds': 45}. Best is trial 24 with value: 191651.15446141362.\n",
      "Trial 39 finished with value: 311771.9051539933 and parameters: {'iterations': 956, 'learning_rate': 0.06228491504630561, 'depth': 9, 'l2_leaf_reg': 0.11188485004435174, 'subsample': 0.9919381085597447, 'colsample_bylevel': 0.7664083609866857, 'min_data_in_leaf': 26, 'early_stopping_rounds': 45}. Best is trial 24 with value: 191651.15446141362.\n",
      "Trial 39 finished with value: 311771.9051539933 and parameters: {'iterations': 956, 'learning_rate': 0.06228491504630561, 'depth': 9, 'l2_leaf_reg': 0.11188485004435174, 'subsample': 0.9919381085597447, 'colsample_bylevel': 0.7664083609866857, 'min_data_in_leaf': 26, 'early_stopping_rounds': 45}. Best is trial 24 with value: 191651.15446141362.\n"
     ]
    },
    {
     "name": "stderr",
     "output_type": "stream",
     "text": [
      "[I 2025-06-30 17:27:21,923] Trial 40 finished with value: 255680.75589863322 and parameters: {'iterations': 678, 'learning_rate': 0.14417883555192706, 'depth': 8, 'l2_leaf_reg': 2.0557025251149685, 'subsample': 0.806142746929753, 'colsample_bylevel': 0.7296731116104603, 'min_data_in_leaf': 12, 'early_stopping_rounds': 20}. Best is trial 24 with value: 191651.15446141362.\n"
     ]
    },
    {
     "name": "stdout",
     "output_type": "stream",
     "text": [
      "Trial 40 finished with value: 255680.75589863322 and parameters: {'iterations': 678, 'learning_rate': 0.14417883555192706, 'depth': 8, 'l2_leaf_reg': 2.0557025251149685, 'subsample': 0.806142746929753, 'colsample_bylevel': 0.7296731116104603, 'min_data_in_leaf': 12, 'early_stopping_rounds': 20}. Best is trial 24 with value: 191651.15446141362.\n",
      "Trial 40 finished with value: 255680.75589863322 and parameters: {'iterations': 678, 'learning_rate': 0.14417883555192706, 'depth': 8, 'l2_leaf_reg': 2.0557025251149685, 'subsample': 0.806142746929753, 'colsample_bylevel': 0.7296731116104603, 'min_data_in_leaf': 12, 'early_stopping_rounds': 20}. Best is trial 24 with value: 191651.15446141362.\n",
      "Trial 40 finished with value: 255680.75589863322 and parameters: {'iterations': 678, 'learning_rate': 0.14417883555192706, 'depth': 8, 'l2_leaf_reg': 2.0557025251149685, 'subsample': 0.806142746929753, 'colsample_bylevel': 0.7296731116104603, 'min_data_in_leaf': 12, 'early_stopping_rounds': 20}. Best is trial 24 with value: 191651.15446141362.\n",
      "Trial 40 finished with value: 255680.75589863322 and parameters: {'iterations': 678, 'learning_rate': 0.14417883555192706, 'depth': 8, 'l2_leaf_reg': 2.0557025251149685, 'subsample': 0.806142746929753, 'colsample_bylevel': 0.7296731116104603, 'min_data_in_leaf': 12, 'early_stopping_rounds': 20}. Best is trial 24 with value: 191651.15446141362.\n"
     ]
    },
    {
     "name": "stderr",
     "output_type": "stream",
     "text": [
      "[I 2025-06-30 17:27:53,558] Trial 41 finished with value: 192215.1141401687 and parameters: {'iterations': 867, 'learning_rate': 0.2909605123637478, 'depth': 9, 'l2_leaf_reg': 0.35639530229324357, 'subsample': 0.6212658144187087, 'colsample_bylevel': 0.7408682523315459, 'min_data_in_leaf': 30, 'early_stopping_rounds': 38}. Best is trial 24 with value: 191651.15446141362.\n"
     ]
    },
    {
     "name": "stdout",
     "output_type": "stream",
     "text": [
      "Trial 41 finished with value: 192215.1141401687 and parameters: {'iterations': 867, 'learning_rate': 0.2909605123637478, 'depth': 9, 'l2_leaf_reg': 0.35639530229324357, 'subsample': 0.6212658144187087, 'colsample_bylevel': 0.7408682523315459, 'min_data_in_leaf': 30, 'early_stopping_rounds': 38}. Best is trial 24 with value: 191651.15446141362.\n",
      "Trial 41 finished with value: 192215.1141401687 and parameters: {'iterations': 867, 'learning_rate': 0.2909605123637478, 'depth': 9, 'l2_leaf_reg': 0.35639530229324357, 'subsample': 0.6212658144187087, 'colsample_bylevel': 0.7408682523315459, 'min_data_in_leaf': 30, 'early_stopping_rounds': 38}. Best is trial 24 with value: 191651.15446141362.\n",
      "Trial 41 finished with value: 192215.1141401687 and parameters: {'iterations': 867, 'learning_rate': 0.2909605123637478, 'depth': 9, 'l2_leaf_reg': 0.35639530229324357, 'subsample': 0.6212658144187087, 'colsample_bylevel': 0.7408682523315459, 'min_data_in_leaf': 30, 'early_stopping_rounds': 38}. Best is trial 24 with value: 191651.15446141362.\n",
      "Trial 41 finished with value: 192215.1141401687 and parameters: {'iterations': 867, 'learning_rate': 0.2909605123637478, 'depth': 9, 'l2_leaf_reg': 0.35639530229324357, 'subsample': 0.6212658144187087, 'colsample_bylevel': 0.7408682523315459, 'min_data_in_leaf': 30, 'early_stopping_rounds': 38}. Best is trial 24 with value: 191651.15446141362.\n"
     ]
    },
    {
     "name": "stderr",
     "output_type": "stream",
     "text": [
      "[I 2025-06-30 17:27:56,625] Trial 42 finished with value: 219302.74619005053 and parameters: {'iterations': 895, 'learning_rate': 0.23600853748172307, 'depth': 9, 'l2_leaf_reg': 0.35847709814917617, 'subsample': 0.6190945643557945, 'colsample_bylevel': 0.6635191982237458, 'min_data_in_leaf': 9, 'early_stopping_rounds': 41}. Best is trial 24 with value: 191651.15446141362.\n"
     ]
    },
    {
     "name": "stdout",
     "output_type": "stream",
     "text": [
      "Trial 42 finished with value: 219302.74619005053 and parameters: {'iterations': 895, 'learning_rate': 0.23600853748172307, 'depth': 9, 'l2_leaf_reg': 0.35847709814917617, 'subsample': 0.6190945643557945, 'colsample_bylevel': 0.6635191982237458, 'min_data_in_leaf': 9, 'early_stopping_rounds': 41}. Best is trial 24 with value: 191651.15446141362.\n",
      "Trial 42 finished with value: 219302.74619005053 and parameters: {'iterations': 895, 'learning_rate': 0.23600853748172307, 'depth': 9, 'l2_leaf_reg': 0.35847709814917617, 'subsample': 0.6190945643557945, 'colsample_bylevel': 0.6635191982237458, 'min_data_in_leaf': 9, 'early_stopping_rounds': 41}. Best is trial 24 with value: 191651.15446141362.\n",
      "Trial 42 finished with value: 219302.74619005053 and parameters: {'iterations': 895, 'learning_rate': 0.23600853748172307, 'depth': 9, 'l2_leaf_reg': 0.35847709814917617, 'subsample': 0.6190945643557945, 'colsample_bylevel': 0.6635191982237458, 'min_data_in_leaf': 9, 'early_stopping_rounds': 41}. Best is trial 24 with value: 191651.15446141362.\n",
      "Trial 42 finished with value: 219302.74619005053 and parameters: {'iterations': 895, 'learning_rate': 0.23600853748172307, 'depth': 9, 'l2_leaf_reg': 0.35847709814917617, 'subsample': 0.6190945643557945, 'colsample_bylevel': 0.6635191982237458, 'min_data_in_leaf': 9, 'early_stopping_rounds': 41}. Best is trial 24 with value: 191651.15446141362.\n"
     ]
    },
    {
     "name": "stderr",
     "output_type": "stream",
     "text": [
      "[I 2025-06-30 17:28:41,506] Trial 43 finished with value: 191104.37863729885 and parameters: {'iterations': 821, 'learning_rate': 0.2801695218255082, 'depth': 10, 'l2_leaf_reg': 0.6670438837278988, 'subsample': 0.6378212262786854, 'colsample_bylevel': 0.7203717250461328, 'min_data_in_leaf': 29, 'early_stopping_rounds': 37}. Best is trial 43 with value: 191104.37863729885.\n"
     ]
    },
    {
     "name": "stdout",
     "output_type": "stream",
     "text": [
      "Trial 43 finished with value: 191104.37863729885 and parameters: {'iterations': 821, 'learning_rate': 0.2801695218255082, 'depth': 10, 'l2_leaf_reg': 0.6670438837278988, 'subsample': 0.6378212262786854, 'colsample_bylevel': 0.7203717250461328, 'min_data_in_leaf': 29, 'early_stopping_rounds': 37}. Best is trial 43 with value: 191104.37863729885.\n",
      "Trial 43 finished with value: 191104.37863729885 and parameters: {'iterations': 821, 'learning_rate': 0.2801695218255082, 'depth': 10, 'l2_leaf_reg': 0.6670438837278988, 'subsample': 0.6378212262786854, 'colsample_bylevel': 0.7203717250461328, 'min_data_in_leaf': 29, 'early_stopping_rounds': 37}. Best is trial 43 with value: 191104.37863729885.\n",
      "Trial 43 finished with value: 191104.37863729885 and parameters: {'iterations': 821, 'learning_rate': 0.2801695218255082, 'depth': 10, 'l2_leaf_reg': 0.6670438837278988, 'subsample': 0.6378212262786854, 'colsample_bylevel': 0.7203717250461328, 'min_data_in_leaf': 29, 'early_stopping_rounds': 37}. Best is trial 43 with value: 191104.37863729885.\n",
      "Trial 43 finished with value: 191104.37863729885 and parameters: {'iterations': 821, 'learning_rate': 0.2801695218255082, 'depth': 10, 'l2_leaf_reg': 0.6670438837278988, 'subsample': 0.6378212262786854, 'colsample_bylevel': 0.7203717250461328, 'min_data_in_leaf': 29, 'early_stopping_rounds': 37}. Best is trial 43 with value: 191104.37863729885.\n"
     ]
    },
    {
     "name": "stderr",
     "output_type": "stream",
     "text": [
      "[I 2025-06-30 17:28:53,634] Trial 44 finished with value: 201086.33980749716 and parameters: {'iterations': 814, 'learning_rate': 0.2984420500623529, 'depth': 10, 'l2_leaf_reg': 1.150352803105226, 'subsample': 0.6432535628230747, 'colsample_bylevel': 0.8160275061798552, 'min_data_in_leaf': 29, 'early_stopping_rounds': 37}. Best is trial 43 with value: 191104.37863729885.\n"
     ]
    },
    {
     "name": "stdout",
     "output_type": "stream",
     "text": [
      "Trial 44 finished with value: 201086.33980749716 and parameters: {'iterations': 814, 'learning_rate': 0.2984420500623529, 'depth': 10, 'l2_leaf_reg': 1.150352803105226, 'subsample': 0.6432535628230747, 'colsample_bylevel': 0.8160275061798552, 'min_data_in_leaf': 29, 'early_stopping_rounds': 37}. Best is trial 43 with value: 191104.37863729885.\n",
      "Trial 44 finished with value: 201086.33980749716 and parameters: {'iterations': 814, 'learning_rate': 0.2984420500623529, 'depth': 10, 'l2_leaf_reg': 1.150352803105226, 'subsample': 0.6432535628230747, 'colsample_bylevel': 0.8160275061798552, 'min_data_in_leaf': 29, 'early_stopping_rounds': 37}. Best is trial 43 with value: 191104.37863729885.\n",
      "Trial 44 finished with value: 201086.33980749716 and parameters: {'iterations': 814, 'learning_rate': 0.2984420500623529, 'depth': 10, 'l2_leaf_reg': 1.150352803105226, 'subsample': 0.6432535628230747, 'colsample_bylevel': 0.8160275061798552, 'min_data_in_leaf': 29, 'early_stopping_rounds': 37}. Best is trial 43 with value: 191104.37863729885.\n",
      "Trial 44 finished with value: 201086.33980749716 and parameters: {'iterations': 814, 'learning_rate': 0.2984420500623529, 'depth': 10, 'l2_leaf_reg': 1.150352803105226, 'subsample': 0.6432535628230747, 'colsample_bylevel': 0.8160275061798552, 'min_data_in_leaf': 29, 'early_stopping_rounds': 37}. Best is trial 43 with value: 191104.37863729885.\n"
     ]
    },
    {
     "name": "stderr",
     "output_type": "stream",
     "text": [
      "[I 2025-06-30 17:28:56,412] Trial 45 finished with value: 236175.32035587236 and parameters: {'iterations': 869, 'learning_rate': 0.18141561242178256, 'depth': 10, 'l2_leaf_reg': 0.682608647678517, 'subsample': 0.6191272150084564, 'colsample_bylevel': 0.7173246772847339, 'min_data_in_leaf': 30, 'early_stopping_rounds': 30}. Best is trial 43 with value: 191104.37863729885.\n"
     ]
    },
    {
     "name": "stdout",
     "output_type": "stream",
     "text": [
      "Trial 45 finished with value: 236175.32035587236 and parameters: {'iterations': 869, 'learning_rate': 0.18141561242178256, 'depth': 10, 'l2_leaf_reg': 0.682608647678517, 'subsample': 0.6191272150084564, 'colsample_bylevel': 0.7173246772847339, 'min_data_in_leaf': 30, 'early_stopping_rounds': 30}. Best is trial 43 with value: 191104.37863729885.\n",
      "Trial 45 finished with value: 236175.32035587236 and parameters: {'iterations': 869, 'learning_rate': 0.18141561242178256, 'depth': 10, 'l2_leaf_reg': 0.682608647678517, 'subsample': 0.6191272150084564, 'colsample_bylevel': 0.7173246772847339, 'min_data_in_leaf': 30, 'early_stopping_rounds': 30}. Best is trial 43 with value: 191104.37863729885.\n",
      "Trial 45 finished with value: 236175.32035587236 and parameters: {'iterations': 869, 'learning_rate': 0.18141561242178256, 'depth': 10, 'l2_leaf_reg': 0.682608647678517, 'subsample': 0.6191272150084564, 'colsample_bylevel': 0.7173246772847339, 'min_data_in_leaf': 30, 'early_stopping_rounds': 30}. Best is trial 43 with value: 191104.37863729885.\n",
      "Trial 45 finished with value: 236175.32035587236 and parameters: {'iterations': 869, 'learning_rate': 0.18141561242178256, 'depth': 10, 'l2_leaf_reg': 0.682608647678517, 'subsample': 0.6191272150084564, 'colsample_bylevel': 0.7173246772847339, 'min_data_in_leaf': 30, 'early_stopping_rounds': 30}. Best is trial 43 with value: 191104.37863729885.\n"
     ]
    },
    {
     "name": "stderr",
     "output_type": "stream",
     "text": [
      "[I 2025-06-30 17:28:59,039] Trial 46 finished with value: 416681.3967162321 and parameters: {'iterations': 825, 'learning_rate': 0.0039016007699125463, 'depth': 10, 'l2_leaf_reg': 0.08506476591569744, 'subsample': 0.6647463959061239, 'colsample_bylevel': 0.7754500454372192, 'min_data_in_leaf': 26, 'early_stopping_rounds': 35}. Best is trial 43 with value: 191104.37863729885.\n"
     ]
    },
    {
     "name": "stdout",
     "output_type": "stream",
     "text": [
      "Trial 46 finished with value: 416681.3967162321 and parameters: {'iterations': 825, 'learning_rate': 0.0039016007699125463, 'depth': 10, 'l2_leaf_reg': 0.08506476591569744, 'subsample': 0.6647463959061239, 'colsample_bylevel': 0.7754500454372192, 'min_data_in_leaf': 26, 'early_stopping_rounds': 35}. Best is trial 43 with value: 191104.37863729885.\n",
      "Trial 46 finished with value: 416681.3967162321 and parameters: {'iterations': 825, 'learning_rate': 0.0039016007699125463, 'depth': 10, 'l2_leaf_reg': 0.08506476591569744, 'subsample': 0.6647463959061239, 'colsample_bylevel': 0.7754500454372192, 'min_data_in_leaf': 26, 'early_stopping_rounds': 35}. Best is trial 43 with value: 191104.37863729885.\n",
      "Trial 46 finished with value: 416681.3967162321 and parameters: {'iterations': 825, 'learning_rate': 0.0039016007699125463, 'depth': 10, 'l2_leaf_reg': 0.08506476591569744, 'subsample': 0.6647463959061239, 'colsample_bylevel': 0.7754500454372192, 'min_data_in_leaf': 26, 'early_stopping_rounds': 35}. Best is trial 43 with value: 191104.37863729885.\n",
      "Trial 46 finished with value: 416681.3967162321 and parameters: {'iterations': 825, 'learning_rate': 0.0039016007699125463, 'depth': 10, 'l2_leaf_reg': 0.08506476591569744, 'subsample': 0.6647463959061239, 'colsample_bylevel': 0.7754500454372192, 'min_data_in_leaf': 26, 'early_stopping_rounds': 35}. Best is trial 43 with value: 191104.37863729885.\n"
     ]
    },
    {
     "name": "stderr",
     "output_type": "stream",
     "text": [
      "[I 2025-06-30 17:29:01,154] Trial 47 finished with value: 424164.5951591037 and parameters: {'iterations': 950, 'learning_rate': 0.0011455971996089888, 'depth': 9, 'l2_leaf_reg': 1.9792772454519436, 'subsample': 0.6400316993833451, 'colsample_bylevel': 0.7578869068699705, 'min_data_in_leaf': 29, 'early_stopping_rounds': 38}. Best is trial 43 with value: 191104.37863729885.\n"
     ]
    },
    {
     "name": "stdout",
     "output_type": "stream",
     "text": [
      "Trial 47 finished with value: 424164.5951591037 and parameters: {'iterations': 950, 'learning_rate': 0.0011455971996089888, 'depth': 9, 'l2_leaf_reg': 1.9792772454519436, 'subsample': 0.6400316993833451, 'colsample_bylevel': 0.7578869068699705, 'min_data_in_leaf': 29, 'early_stopping_rounds': 38}. Best is trial 43 with value: 191104.37863729885.\n",
      "Trial 47 finished with value: 424164.5951591037 and parameters: {'iterations': 950, 'learning_rate': 0.0011455971996089888, 'depth': 9, 'l2_leaf_reg': 1.9792772454519436, 'subsample': 0.6400316993833451, 'colsample_bylevel': 0.7578869068699705, 'min_data_in_leaf': 29, 'early_stopping_rounds': 38}. Best is trial 43 with value: 191104.37863729885.\n",
      "Trial 47 finished with value: 424164.5951591037 and parameters: {'iterations': 950, 'learning_rate': 0.0011455971996089888, 'depth': 9, 'l2_leaf_reg': 1.9792772454519436, 'subsample': 0.6400316993833451, 'colsample_bylevel': 0.7578869068699705, 'min_data_in_leaf': 29, 'early_stopping_rounds': 38}. Best is trial 43 with value: 191104.37863729885.\n",
      "Trial 47 finished with value: 424164.5951591037 and parameters: {'iterations': 950, 'learning_rate': 0.0011455971996089888, 'depth': 9, 'l2_leaf_reg': 1.9792772454519436, 'subsample': 0.6400316993833451, 'colsample_bylevel': 0.7578869068699705, 'min_data_in_leaf': 29, 'early_stopping_rounds': 38}. Best is trial 43 with value: 191104.37863729885.\n"
     ]
    },
    {
     "name": "stderr",
     "output_type": "stream",
     "text": [
      "[I 2025-06-30 17:29:12,954] Trial 48 finished with value: 202144.32793141753 and parameters: {'iterations': 780, 'learning_rate': 0.24056800772739648, 'depth': 10, 'l2_leaf_reg': 2.9151208029052, 'subsample': 0.6003847334191734, 'colsample_bylevel': 0.7395838685537687, 'min_data_in_leaf': 27, 'early_stopping_rounds': 28}. Best is trial 43 with value: 191104.37863729885.\n"
     ]
    },
    {
     "name": "stdout",
     "output_type": "stream",
     "text": [
      "Trial 48 finished with value: 202144.32793141753 and parameters: {'iterations': 780, 'learning_rate': 0.24056800772739648, 'depth': 10, 'l2_leaf_reg': 2.9151208029052, 'subsample': 0.6003847334191734, 'colsample_bylevel': 0.7395838685537687, 'min_data_in_leaf': 27, 'early_stopping_rounds': 28}. Best is trial 43 with value: 191104.37863729885.\n",
      "Trial 48 finished with value: 202144.32793141753 and parameters: {'iterations': 780, 'learning_rate': 0.24056800772739648, 'depth': 10, 'l2_leaf_reg': 2.9151208029052, 'subsample': 0.6003847334191734, 'colsample_bylevel': 0.7395838685537687, 'min_data_in_leaf': 27, 'early_stopping_rounds': 28}. Best is trial 43 with value: 191104.37863729885.\n",
      "Trial 48 finished with value: 202144.32793141753 and parameters: {'iterations': 780, 'learning_rate': 0.24056800772739648, 'depth': 10, 'l2_leaf_reg': 2.9151208029052, 'subsample': 0.6003847334191734, 'colsample_bylevel': 0.7395838685537687, 'min_data_in_leaf': 27, 'early_stopping_rounds': 28}. Best is trial 43 with value: 191104.37863729885.\n",
      "Trial 48 finished with value: 202144.32793141753 and parameters: {'iterations': 780, 'learning_rate': 0.24056800772739648, 'depth': 10, 'l2_leaf_reg': 2.9151208029052, 'subsample': 0.6003847334191734, 'colsample_bylevel': 0.7395838685537687, 'min_data_in_leaf': 27, 'early_stopping_rounds': 28}. Best is trial 43 with value: 191104.37863729885.\n"
     ]
    },
    {
     "name": "stderr",
     "output_type": "stream",
     "text": [
      "[I 2025-06-30 17:29:14,958] Trial 49 finished with value: 247581.05166034037 and parameters: {'iterations': 891, 'learning_rate': 0.1649062241974827, 'depth': 8, 'l2_leaf_reg': 0.22802987601361496, 'subsample': 0.696435625302284, 'colsample_bylevel': 0.9100222982935362, 'min_data_in_leaf': 24, 'early_stopping_rounds': 41}. Best is trial 43 with value: 191104.37863729885.\n"
     ]
    },
    {
     "name": "stdout",
     "output_type": "stream",
     "text": [
      "Trial 49 finished with value: 247581.05166034037 and parameters: {'iterations': 891, 'learning_rate': 0.1649062241974827, 'depth': 8, 'l2_leaf_reg': 0.22802987601361496, 'subsample': 0.696435625302284, 'colsample_bylevel': 0.9100222982935362, 'min_data_in_leaf': 24, 'early_stopping_rounds': 41}. Best is trial 43 with value: 191104.37863729885.\n",
      "Trial 49 finished with value: 247581.05166034037 and parameters: {'iterations': 891, 'learning_rate': 0.1649062241974827, 'depth': 8, 'l2_leaf_reg': 0.22802987601361496, 'subsample': 0.696435625302284, 'colsample_bylevel': 0.9100222982935362, 'min_data_in_leaf': 24, 'early_stopping_rounds': 41}. Best is trial 43 with value: 191104.37863729885.\n",
      "Trial 49 finished with value: 247581.05166034037 and parameters: {'iterations': 891, 'learning_rate': 0.1649062241974827, 'depth': 8, 'l2_leaf_reg': 0.22802987601361496, 'subsample': 0.696435625302284, 'colsample_bylevel': 0.9100222982935362, 'min_data_in_leaf': 24, 'early_stopping_rounds': 41}. Best is trial 43 with value: 191104.37863729885.\n",
      "Trial 49 finished with value: 247581.05166034037 and parameters: {'iterations': 891, 'learning_rate': 0.1649062241974827, 'depth': 8, 'l2_leaf_reg': 0.22802987601361496, 'subsample': 0.696435625302284, 'colsample_bylevel': 0.9100222982935362, 'min_data_in_leaf': 24, 'early_stopping_rounds': 41}. Best is trial 43 with value: 191104.37863729885.\n",
      "\n",
      "--- Optimization finished ---\n",
      "Number of finished trials: 50\n",
      "Number of pruned trials: 0\n",
      "\n",
      "Best trial:\n",
      "  Value (RMSE on validation set): 191104.3786\n",
      "  Best Hyperparameters:\n",
      "    iterations: 821\n",
      "    learning_rate: 0.2801695218255082\n",
      "    depth: 10\n",
      "    l2_leaf_reg: 0.6670438837278988\n",
      "    subsample: 0.6378212262786854\n",
      "    colsample_bylevel: 0.7203717250461328\n",
      "    min_data_in_leaf: 29\n",
      "    early_stopping_rounds: 37\n",
      "\n",
      "--- Training final model with best hyperparameters ---\n",
      "0:\tlearn: 357012.1443106\ttest: 359396.9761499\tbest: 359396.9761499 (0)\ttotal: 146ms\tremaining: 24m 22s\n",
      "100:\tlearn: 143027.8049133\ttest: 199785.4039950\tbest: 199767.7083758 (99)\ttotal: 9.53s\tremaining: 15m 33s\n",
      "200:\tlearn: 122756.8558279\ttest: 197379.6776548\tbest: 197212.4263574 (166)\ttotal: 18.7s\tremaining: 15m 11s\n",
      "300:\tlearn: 110659.7878307\ttest: 194991.3180715\tbest: 194934.1814091 (297)\ttotal: 27.5s\tremaining: 14m 45s\n",
      "400:\tlearn: 102466.0134435\ttest: 194381.0767423\tbest: 194350.4553482 (393)\ttotal: 36.4s\tremaining: 14m 31s\n",
      "500:\tlearn: 95339.4991679\ttest: 193520.8189360\tbest: 193520.8189360 (500)\ttotal: 45.1s\tremaining: 14m 15s\n",
      "600:\tlearn: 89753.5692947\ttest: 193055.8781254\tbest: 193026.7242298 (598)\ttotal: 54.4s\tremaining: 14m 10s\n",
      "700:\tlearn: 84923.7742166\ttest: 192455.2971190\tbest: 192455.2971190 (700)\ttotal: 1m 3s\tremaining: 14m 6s\n",
      "Stopped by overfitting detector  (50 iterations wait)\n",
      "\n",
      "bestTest = 192181.7848\n",
      "bestIteration = 748\n",
      "\n",
      "Shrink model to first 749 iterations.\n",
      "Best iteration of final model: 748\n",
      "\n",
      "--- Final Model Performance on Test Set ---\n",
      "  MSE: 31857745580.7577\n",
      "  RMSE: 178487.3821\n",
      "  R-squared: 0.8189\n",
      "\n",
      "--- Generating Optuna Visualizations (requires plotly and kaleido) ---\n"
     ]
    },
    {
     "data": {
      "application/vnd.plotly.v1+json": {
       "config": {
        "plotlyServerURL": "https://plot.ly"
       },
       "data": [
        {
         "mode": "markers",
         "name": "Objective Value",
         "type": "scatter",
         "x": [
          0,
          1,
          2,
          3,
          4,
          5,
          6,
          7,
          8,
          9,
          10,
          11,
          12,
          13,
          14,
          15,
          16,
          17,
          18,
          19,
          20,
          21,
          22,
          23,
          24,
          25,
          26,
          27,
          28,
          29,
          30,
          31,
          32,
          33,
          34,
          35,
          36,
          37,
          38,
          39,
          40,
          41,
          42,
          43,
          44,
          45,
          46,
          47,
          48,
          49
         ],
         "y": [
          193164.08466508074,
          213233.10502586202,
          219006.47559242797,
          202730.51843127175,
          200398.3155203107,
          394421.5608890197,
          419852.1247820057,
          420620.724283256,
          383816.238887606,
          212370.7638043208,
          424416.6124620543,
          197127.6718143651,
          193778.8699970946,
          205917.74996166502,
          336010.49078546284,
          226753.61021385095,
          407801.4653134753,
          261743.75264054636,
          331557.2575971118,
          244082.83250688456,
          352919.17107680393,
          193869.37837896758,
          287039.7045608816,
          248864.47635146996,
          191651.15446141362,
          251713.44822104333,
          400852.2781417089,
          311164.37992117874,
          269533.18270147825,
          236763.83625969017,
          360726.37271938997,
          192449.43755492102,
          192799.30223112373,
          264877.4136321198,
          247909.29572866237,
          297063.44828331994,
          232703.14723365277,
          239292.14964538466,
          275728.59798840724,
          311771.9051539933,
          255680.75589863322,
          192215.1141401687,
          219302.74619005053,
          191104.37863729885,
          201086.33980749716,
          236175.32035587236,
          416681.3967162321,
          424164.5951591037,
          202144.32793141753,
          247581.05166034037
         ]
        },
        {
         "mode": "lines",
         "name": "Best Value",
         "type": "scatter",
         "x": [
          0,
          1,
          2,
          3,
          4,
          5,
          6,
          7,
          8,
          9,
          10,
          11,
          12,
          13,
          14,
          15,
          16,
          17,
          18,
          19,
          20,
          21,
          22,
          23,
          24,
          25,
          26,
          27,
          28,
          29,
          30,
          31,
          32,
          33,
          34,
          35,
          36,
          37,
          38,
          39,
          40,
          41,
          42,
          43,
          44,
          45,
          46,
          47,
          48,
          49
         ],
         "y": [
          193164.08466508074,
          193164.08466508074,
          193164.08466508074,
          193164.08466508074,
          193164.08466508074,
          193164.08466508074,
          193164.08466508074,
          193164.08466508074,
          193164.08466508074,
          193164.08466508074,
          193164.08466508074,
          193164.08466508074,
          193164.08466508074,
          193164.08466508074,
          193164.08466508074,
          193164.08466508074,
          193164.08466508074,
          193164.08466508074,
          193164.08466508074,
          193164.08466508074,
          193164.08466508074,
          193164.08466508074,
          193164.08466508074,
          193164.08466508074,
          191651.15446141362,
          191651.15446141362,
          191651.15446141362,
          191651.15446141362,
          191651.15446141362,
          191651.15446141362,
          191651.15446141362,
          191651.15446141362,
          191651.15446141362,
          191651.15446141362,
          191651.15446141362,
          191651.15446141362,
          191651.15446141362,
          191651.15446141362,
          191651.15446141362,
          191651.15446141362,
          191651.15446141362,
          191651.15446141362,
          191651.15446141362,
          191104.37863729885,
          191104.37863729885,
          191104.37863729885,
          191104.37863729885,
          191104.37863729885,
          191104.37863729885,
          191104.37863729885
         ]
        },
        {
         "marker": {
          "color": "#cccccc"
         },
         "mode": "markers",
         "name": "Infeasible Trial",
         "showlegend": false,
         "type": "scatter",
         "x": [],
         "y": []
        }
       ],
       "layout": {
        "template": {
         "data": {
          "bar": [
           {
            "error_x": {
             "color": "#2a3f5f"
            },
            "error_y": {
             "color": "#2a3f5f"
            },
            "marker": {
             "line": {
              "color": "#E5ECF6",
              "width": 0.5
             },
             "pattern": {
              "fillmode": "overlay",
              "size": 10,
              "solidity": 0.2
             }
            },
            "type": "bar"
           }
          ],
          "barpolar": [
           {
            "marker": {
             "line": {
              "color": "#E5ECF6",
              "width": 0.5
             },
             "pattern": {
              "fillmode": "overlay",
              "size": 10,
              "solidity": 0.2
             }
            },
            "type": "barpolar"
           }
          ],
          "carpet": [
           {
            "aaxis": {
             "endlinecolor": "#2a3f5f",
             "gridcolor": "white",
             "linecolor": "white",
             "minorgridcolor": "white",
             "startlinecolor": "#2a3f5f"
            },
            "baxis": {
             "endlinecolor": "#2a3f5f",
             "gridcolor": "white",
             "linecolor": "white",
             "minorgridcolor": "white",
             "startlinecolor": "#2a3f5f"
            },
            "type": "carpet"
           }
          ],
          "choropleth": [
           {
            "colorbar": {
             "outlinewidth": 0,
             "ticks": ""
            },
            "type": "choropleth"
           }
          ],
          "contour": [
           {
            "colorbar": {
             "outlinewidth": 0,
             "ticks": ""
            },
            "colorscale": [
             [
              0,
              "#0d0887"
             ],
             [
              0.1111111111111111,
              "#46039f"
             ],
             [
              0.2222222222222222,
              "#7201a8"
             ],
             [
              0.3333333333333333,
              "#9c179e"
             ],
             [
              0.4444444444444444,
              "#bd3786"
             ],
             [
              0.5555555555555556,
              "#d8576b"
             ],
             [
              0.6666666666666666,
              "#ed7953"
             ],
             [
              0.7777777777777778,
              "#fb9f3a"
             ],
             [
              0.8888888888888888,
              "#fdca26"
             ],
             [
              1,
              "#f0f921"
             ]
            ],
            "type": "contour"
           }
          ],
          "contourcarpet": [
           {
            "colorbar": {
             "outlinewidth": 0,
             "ticks": ""
            },
            "type": "contourcarpet"
           }
          ],
          "heatmap": [
           {
            "colorbar": {
             "outlinewidth": 0,
             "ticks": ""
            },
            "colorscale": [
             [
              0,
              "#0d0887"
             ],
             [
              0.1111111111111111,
              "#46039f"
             ],
             [
              0.2222222222222222,
              "#7201a8"
             ],
             [
              0.3333333333333333,
              "#9c179e"
             ],
             [
              0.4444444444444444,
              "#bd3786"
             ],
             [
              0.5555555555555556,
              "#d8576b"
             ],
             [
              0.6666666666666666,
              "#ed7953"
             ],
             [
              0.7777777777777778,
              "#fb9f3a"
             ],
             [
              0.8888888888888888,
              "#fdca26"
             ],
             [
              1,
              "#f0f921"
             ]
            ],
            "type": "heatmap"
           }
          ],
          "histogram": [
           {
            "marker": {
             "pattern": {
              "fillmode": "overlay",
              "size": 10,
              "solidity": 0.2
             }
            },
            "type": "histogram"
           }
          ],
          "histogram2d": [
           {
            "colorbar": {
             "outlinewidth": 0,
             "ticks": ""
            },
            "colorscale": [
             [
              0,
              "#0d0887"
             ],
             [
              0.1111111111111111,
              "#46039f"
             ],
             [
              0.2222222222222222,
              "#7201a8"
             ],
             [
              0.3333333333333333,
              "#9c179e"
             ],
             [
              0.4444444444444444,
              "#bd3786"
             ],
             [
              0.5555555555555556,
              "#d8576b"
             ],
             [
              0.6666666666666666,
              "#ed7953"
             ],
             [
              0.7777777777777778,
              "#fb9f3a"
             ],
             [
              0.8888888888888888,
              "#fdca26"
             ],
             [
              1,
              "#f0f921"
             ]
            ],
            "type": "histogram2d"
           }
          ],
          "histogram2dcontour": [
           {
            "colorbar": {
             "outlinewidth": 0,
             "ticks": ""
            },
            "colorscale": [
             [
              0,
              "#0d0887"
             ],
             [
              0.1111111111111111,
              "#46039f"
             ],
             [
              0.2222222222222222,
              "#7201a8"
             ],
             [
              0.3333333333333333,
              "#9c179e"
             ],
             [
              0.4444444444444444,
              "#bd3786"
             ],
             [
              0.5555555555555556,
              "#d8576b"
             ],
             [
              0.6666666666666666,
              "#ed7953"
             ],
             [
              0.7777777777777778,
              "#fb9f3a"
             ],
             [
              0.8888888888888888,
              "#fdca26"
             ],
             [
              1,
              "#f0f921"
             ]
            ],
            "type": "histogram2dcontour"
           }
          ],
          "mesh3d": [
           {
            "colorbar": {
             "outlinewidth": 0,
             "ticks": ""
            },
            "type": "mesh3d"
           }
          ],
          "parcoords": [
           {
            "line": {
             "colorbar": {
              "outlinewidth": 0,
              "ticks": ""
             }
            },
            "type": "parcoords"
           }
          ],
          "pie": [
           {
            "automargin": true,
            "type": "pie"
           }
          ],
          "scatter": [
           {
            "fillpattern": {
             "fillmode": "overlay",
             "size": 10,
             "solidity": 0.2
            },
            "type": "scatter"
           }
          ],
          "scatter3d": [
           {
            "line": {
             "colorbar": {
              "outlinewidth": 0,
              "ticks": ""
             }
            },
            "marker": {
             "colorbar": {
              "outlinewidth": 0,
              "ticks": ""
             }
            },
            "type": "scatter3d"
           }
          ],
          "scattercarpet": [
           {
            "marker": {
             "colorbar": {
              "outlinewidth": 0,
              "ticks": ""
             }
            },
            "type": "scattercarpet"
           }
          ],
          "scattergeo": [
           {
            "marker": {
             "colorbar": {
              "outlinewidth": 0,
              "ticks": ""
             }
            },
            "type": "scattergeo"
           }
          ],
          "scattergl": [
           {
            "marker": {
             "colorbar": {
              "outlinewidth": 0,
              "ticks": ""
             }
            },
            "type": "scattergl"
           }
          ],
          "scattermap": [
           {
            "marker": {
             "colorbar": {
              "outlinewidth": 0,
              "ticks": ""
             }
            },
            "type": "scattermap"
           }
          ],
          "scattermapbox": [
           {
            "marker": {
             "colorbar": {
              "outlinewidth": 0,
              "ticks": ""
             }
            },
            "type": "scattermapbox"
           }
          ],
          "scatterpolar": [
           {
            "marker": {
             "colorbar": {
              "outlinewidth": 0,
              "ticks": ""
             }
            },
            "type": "scatterpolar"
           }
          ],
          "scatterpolargl": [
           {
            "marker": {
             "colorbar": {
              "outlinewidth": 0,
              "ticks": ""
             }
            },
            "type": "scatterpolargl"
           }
          ],
          "scatterternary": [
           {
            "marker": {
             "colorbar": {
              "outlinewidth": 0,
              "ticks": ""
             }
            },
            "type": "scatterternary"
           }
          ],
          "surface": [
           {
            "colorbar": {
             "outlinewidth": 0,
             "ticks": ""
            },
            "colorscale": [
             [
              0,
              "#0d0887"
             ],
             [
              0.1111111111111111,
              "#46039f"
             ],
             [
              0.2222222222222222,
              "#7201a8"
             ],
             [
              0.3333333333333333,
              "#9c179e"
             ],
             [
              0.4444444444444444,
              "#bd3786"
             ],
             [
              0.5555555555555556,
              "#d8576b"
             ],
             [
              0.6666666666666666,
              "#ed7953"
             ],
             [
              0.7777777777777778,
              "#fb9f3a"
             ],
             [
              0.8888888888888888,
              "#fdca26"
             ],
             [
              1,
              "#f0f921"
             ]
            ],
            "type": "surface"
           }
          ],
          "table": [
           {
            "cells": {
             "fill": {
              "color": "#EBF0F8"
             },
             "line": {
              "color": "white"
             }
            },
            "header": {
             "fill": {
              "color": "#C8D4E3"
             },
             "line": {
              "color": "white"
             }
            },
            "type": "table"
           }
          ]
         },
         "layout": {
          "annotationdefaults": {
           "arrowcolor": "#2a3f5f",
           "arrowhead": 0,
           "arrowwidth": 1
          },
          "autotypenumbers": "strict",
          "coloraxis": {
           "colorbar": {
            "outlinewidth": 0,
            "ticks": ""
           }
          },
          "colorscale": {
           "diverging": [
            [
             0,
             "#8e0152"
            ],
            [
             0.1,
             "#c51b7d"
            ],
            [
             0.2,
             "#de77ae"
            ],
            [
             0.3,
             "#f1b6da"
            ],
            [
             0.4,
             "#fde0ef"
            ],
            [
             0.5,
             "#f7f7f7"
            ],
            [
             0.6,
             "#e6f5d0"
            ],
            [
             0.7,
             "#b8e186"
            ],
            [
             0.8,
             "#7fbc41"
            ],
            [
             0.9,
             "#4d9221"
            ],
            [
             1,
             "#276419"
            ]
           ],
           "sequential": [
            [
             0,
             "#0d0887"
            ],
            [
             0.1111111111111111,
             "#46039f"
            ],
            [
             0.2222222222222222,
             "#7201a8"
            ],
            [
             0.3333333333333333,
             "#9c179e"
            ],
            [
             0.4444444444444444,
             "#bd3786"
            ],
            [
             0.5555555555555556,
             "#d8576b"
            ],
            [
             0.6666666666666666,
             "#ed7953"
            ],
            [
             0.7777777777777778,
             "#fb9f3a"
            ],
            [
             0.8888888888888888,
             "#fdca26"
            ],
            [
             1,
             "#f0f921"
            ]
           ],
           "sequentialminus": [
            [
             0,
             "#0d0887"
            ],
            [
             0.1111111111111111,
             "#46039f"
            ],
            [
             0.2222222222222222,
             "#7201a8"
            ],
            [
             0.3333333333333333,
             "#9c179e"
            ],
            [
             0.4444444444444444,
             "#bd3786"
            ],
            [
             0.5555555555555556,
             "#d8576b"
            ],
            [
             0.6666666666666666,
             "#ed7953"
            ],
            [
             0.7777777777777778,
             "#fb9f3a"
            ],
            [
             0.8888888888888888,
             "#fdca26"
            ],
            [
             1,
             "#f0f921"
            ]
           ]
          },
          "colorway": [
           "#636efa",
           "#EF553B",
           "#00cc96",
           "#ab63fa",
           "#FFA15A",
           "#19d3f3",
           "#FF6692",
           "#B6E880",
           "#FF97FF",
           "#FECB52"
          ],
          "font": {
           "color": "#2a3f5f"
          },
          "geo": {
           "bgcolor": "white",
           "lakecolor": "white",
           "landcolor": "#E5ECF6",
           "showlakes": true,
           "showland": true,
           "subunitcolor": "white"
          },
          "hoverlabel": {
           "align": "left"
          },
          "hovermode": "closest",
          "mapbox": {
           "style": "light"
          },
          "paper_bgcolor": "white",
          "plot_bgcolor": "#E5ECF6",
          "polar": {
           "angularaxis": {
            "gridcolor": "white",
            "linecolor": "white",
            "ticks": ""
           },
           "bgcolor": "#E5ECF6",
           "radialaxis": {
            "gridcolor": "white",
            "linecolor": "white",
            "ticks": ""
           }
          },
          "scene": {
           "xaxis": {
            "backgroundcolor": "#E5ECF6",
            "gridcolor": "white",
            "gridwidth": 2,
            "linecolor": "white",
            "showbackground": true,
            "ticks": "",
            "zerolinecolor": "white"
           },
           "yaxis": {
            "backgroundcolor": "#E5ECF6",
            "gridcolor": "white",
            "gridwidth": 2,
            "linecolor": "white",
            "showbackground": true,
            "ticks": "",
            "zerolinecolor": "white"
           },
           "zaxis": {
            "backgroundcolor": "#E5ECF6",
            "gridcolor": "white",
            "gridwidth": 2,
            "linecolor": "white",
            "showbackground": true,
            "ticks": "",
            "zerolinecolor": "white"
           }
          },
          "shapedefaults": {
           "line": {
            "color": "#2a3f5f"
           }
          },
          "ternary": {
           "aaxis": {
            "gridcolor": "white",
            "linecolor": "white",
            "ticks": ""
           },
           "baxis": {
            "gridcolor": "white",
            "linecolor": "white",
            "ticks": ""
           },
           "bgcolor": "#E5ECF6",
           "caxis": {
            "gridcolor": "white",
            "linecolor": "white",
            "ticks": ""
           }
          },
          "title": {
           "x": 0.05
          },
          "xaxis": {
           "automargin": true,
           "gridcolor": "white",
           "linecolor": "white",
           "ticks": "",
           "title": {
            "standoff": 15
           },
           "zerolinecolor": "white",
           "zerolinewidth": 2
          },
          "yaxis": {
           "automargin": true,
           "gridcolor": "white",
           "linecolor": "white",
           "ticks": "",
           "title": {
            "standoff": 15
           },
           "zerolinecolor": "white",
           "zerolinewidth": 2
          }
         }
        },
        "title": {
         "text": "Optimization History Plot"
        },
        "xaxis": {
         "title": {
          "text": "Trial"
         }
        },
        "yaxis": {
         "title": {
          "text": "Objective Value"
         }
        }
       }
      }
     },
     "metadata": {},
     "output_type": "display_data"
    },
    {
     "data": {
      "application/vnd.plotly.v1+json": {
       "config": {
        "plotlyServerURL": "https://plot.ly"
       },
       "data": [
        {
         "dimensions": [
          {
           "label": "Objective Value",
           "range": [
            191104.37863729885,
            424416.6124620543
           ],
           "values": [
            193164.08466508074,
            213233.10502586202,
            219006.47559242797,
            202730.51843127175,
            200398.3155203107,
            394421.5608890197,
            419852.1247820057,
            420620.724283256,
            383816.238887606,
            212370.7638043208,
            424416.6124620543,
            197127.6718143651,
            193778.8699970946,
            205917.74996166502,
            336010.49078546284,
            226753.61021385095,
            407801.4653134753,
            261743.75264054636,
            331557.2575971118,
            244082.83250688456,
            352919.17107680393,
            193869.37837896758,
            287039.7045608816,
            248864.47635146996,
            191651.15446141362,
            251713.44822104333,
            400852.2781417089,
            311164.37992117874,
            269533.18270147825,
            236763.83625969017,
            360726.37271938997,
            192449.43755492102,
            192799.30223112373,
            264877.4136321198,
            247909.29572866237,
            297063.44828331994,
            232703.14723365277,
            239292.14964538466,
            275728.59798840724,
            311771.9051539933,
            255680.75589863322,
            192215.1141401687,
            219302.74619005053,
            191104.37863729885,
            201086.33980749716,
            236175.32035587236,
            416681.3967162321,
            424164.5951591037,
            202144.32793141753,
            247581.05166034037
           ]
          },
          {
           "label": "colsample_bylevel",
           "range": [
            0.6010671845109126,
            0.9947547746402069
           ],
           "values": [
            0.662397808134481,
            0.6849356442713105,
            0.6557975442608167,
            0.6185801650879991,
            0.6390688456025535,
            0.8650089137415928,
            0.9579309401710595,
            0.7085396127095583,
            0.9947547746402069,
            0.6296178606936361,
            0.775232370984732,
            0.7580270214839643,
            0.7457769212953824,
            0.8567997340268858,
            0.7219922567707062,
            0.8297365118287333,
            0.74246023582073,
            0.8037521393242067,
            0.6811148233933808,
            0.8984553239225072,
            0.7970940974893838,
            0.7547782653977205,
            0.7121201545013595,
            0.6802407359630315,
            0.7507458766924474,
            0.7923054641818716,
            0.7332956679369176,
            0.6055590232716066,
            0.6648447237835107,
            0.686510507186421,
            0.8278042860212953,
            0.7607644789358028,
            0.7013370737909197,
            0.7006117412055323,
            0.6423292054011528,
            0.6561707039150337,
            0.7801769492941018,
            0.7001100940963497,
            0.6010671845109126,
            0.7664083609866857,
            0.7296731116104603,
            0.7408682523315459,
            0.6635191982237458,
            0.7203717250461328,
            0.8160275061798552,
            0.7173246772847339,
            0.7754500454372192,
            0.7578869068699705,
            0.7395838685537687,
            0.9100222982935362
           ]
          },
          {
           "label": "depth",
           "range": [
            4,
            10
           ],
           "values": [
            9,
            4,
            7,
            5,
            10,
            4,
            10,
            4,
            4,
            8,
            8,
            10,
            9,
            8,
            9,
            6,
            9,
            9,
            7,
            7,
            9,
            10,
            10,
            9,
            8,
            8,
            8,
            7,
            6,
            9,
            6,
            10,
            9,
            10,
            8,
            9,
            10,
            8,
            10,
            9,
            8,
            9,
            9,
            10,
            10,
            10,
            10,
            9,
            10,
            8
           ]
          },
          {
           "label": "early_stopping_ro...",
           "range": [
            14,
            50
           ],
           "values": [
            45,
            17,
            25,
            16,
            28,
            31,
            47,
            24,
            18,
            14,
            50,
            39,
            39,
            40,
            40,
            34,
            46,
            43,
            35,
            35,
            50,
            40,
            43,
            44,
            38,
            37,
            32,
            47,
            28,
            37,
            43,
            40,
            38,
            37,
            42,
            46,
            25,
            31,
            33,
            45,
            20,
            38,
            41,
            37,
            37,
            30,
            35,
            38,
            28,
            41
           ]
          },
          {
           "label": "iterations",
           "range": [
            104,
            999
           ],
           "values": [
            437,
            641,
            374,
            510,
            158,
            209,
            592,
            179,
            353,
            104,
            906,
            806,
            853,
            985,
            706,
            463,
            744,
            329,
            847,
            999,
            459,
            809,
            653,
            866,
            748,
            724,
            574,
            272,
            923,
            669,
            777,
            819,
            931,
            928,
            422,
            506,
            532,
            610,
            767,
            956,
            678,
            867,
            895,
            821,
            814,
            869,
            825,
            950,
            780,
            891
           ]
          },
          {
           "label": "l2_leaf_reg",
           "range": [
            -1.9461143731555404,
            0.9954900626482632
           ],
           "ticktext": [
            "0.0113",
            "0.1",
            "1",
            "9.9"
           ],
           "tickvals": [
            -1.9461143731555404,
            -1,
            0,
            0.9954900626482632
           ],
           "values": [
            -0.20402454740889003,
            0.9097295564859832,
            -1.1263125794058741,
            -0.457296684759165,
            0.4251920443493836,
            0.7279612062363464,
            0.3253984700833436,
            -1.0240090077102066,
            0.4065909422621193,
            0.18702150412296203,
            -1.9461143731555404,
            -0.22250518245441597,
            -0.34392127977344217,
            -0.8965599628121549,
            -0.11031634332831221,
            -0.585991799314438,
            -0.6075005118651453,
            -1.4770442637501175,
            -0.060101345443872994,
            -0.3068749878691157,
            -1.395909137231351,
            -0.008178123612808504,
            -0.052906156800172584,
            0.12549931894998764,
            -0.7518912912223332,
            -0.7562247302151873,
            -0.40060447412610717,
            -0.7844982241218564,
            -1.2276311208006327,
            0.6398831232233086,
            -1.6992043313681626,
            0.06657695546589847,
            -0.2625016430711082,
            -0.5252839680061407,
            0.9954900626482632,
            0.15279712734815226,
            -0.24242979399226244,
            0.647480618326423,
            -0.6993578691041383,
            -0.9512287158628562,
            0.3129602693465331,
            -0.4480680291064532,
            -0.44553858466882745,
            -0.17584559361876506,
            0.06083105508727556,
            -0.16582821413052407,
            -1.0702502887639544,
            0.296506631870179,
            0.4646565566758403,
            -0.6420082488862182
           ]
          },
          {
           "label": "learning_rate",
           "range": [
            -2.9851442506317025,
            -0.525139985410393
           ],
           "ticktext": [
            "0.00103",
            "0.01",
            "0.1",
            "0.298"
           ],
           "tickvals": [
            -2.9851442506317025,
            -2,
            -1,
            -0.525139985410393
           ],
           "values": [
            -0.6449653844259347,
            -1.2460183676572738,
            -1.7001146896529382,
            -1.055023937338421,
            -0.6494954673736821,
            -1.7733867511169648,
            -2.5420930991880866,
            -2.514526685940736,
            -1.6556759975555932,
            -0.9800031631704729,
            -2.9851442506317025,
            -0.533295398706417,
            -0.5253374688742511,
            -0.8031179533844709,
            -1.3557125664405576,
            -0.5869710161534405,
            -2.129238229143922,
            -0.9289462600228395,
            -1.2894620316914447,
            -0.7224438545726636,
            -1.4860378834438375,
            -0.5409966459899886,
            -1.1036877768965438,
            -0.8177755964207819,
            -0.537927880357053,
            -0.823651587287043,
            -1.9702227952079132,
            -1.1595992507638995,
            -0.8861656736272167,
            -0.7260887695372625,
            -1.4902107703361684,
            -0.5421485581421811,
            -0.6562816339746578,
            -0.9681062500520553,
            -0.6958273308242766,
            -1.1117477118862522,
            -0.6790673174241607,
            -0.6694265192986791,
            -1.0023966248491738,
            -1.205617123572376,
            -0.8410984863406482,
            -0.5361659471865295,
            -0.6270722863767689,
            -0.5525791111021324,
            -0.525139985410393,
            -0.7413253407772209,
            -2.4087571717160756,
            -2.940968056659692,
            -0.6187621284146083,
            -0.7827629520958875
           ]
          },
          {
           "label": "min_data_in_leaf",
           "range": [
            1,
            30
           ],
           "values": [
            2,
            6,
            9,
            19,
            21,
            10,
            18,
            25,
            24,
            11,
            1,
            29,
            30,
            1,
            14,
            30,
            15,
            6,
            26,
            4,
            22,
            30,
            27,
            28,
            30,
            23,
            13,
            20,
            17,
            5,
            7,
            30,
            28,
            27,
            25,
            28,
            28,
            21,
            24,
            26,
            12,
            30,
            9,
            29,
            29,
            30,
            26,
            29,
            27,
            24
           ]
          },
          {
           "label": "subsample",
           "range": [
            0.6003847334191734,
            0.9919381085597447
           ],
           "values": [
            0.6624074561769746,
            0.9329770563201687,
            0.8447411578889518,
            0.836965827544817,
            0.7218455076693483,
            0.7035119926400067,
            0.9757995766256756,
            0.7554709158757928,
            0.6298202574719083,
            0.9085081386743783,
            0.6061470949312417,
            0.693378857415877,
            0.669200985181719,
            0.6572788586594467,
            0.7826974821185181,
            0.6795895602142985,
            0.7492431962333567,
            0.6003864820323297,
            0.6532788044008354,
            0.8246753253615013,
            0.7204121973301069,
            0.6827783923992456,
            0.6649920756193268,
            0.6337909883971027,
            0.746108781457228,
            0.7642586473542406,
            0.7290562036590932,
            0.7912108321984976,
            0.8660698517703785,
            0.6248611510517292,
            0.7026984528096858,
            0.6785875889638864,
            0.6515215790189713,
            0.6461440694363485,
            0.7317879282909067,
            0.7090586177904379,
            0.6842688901983758,
            0.7659325196641714,
            0.7448798581966226,
            0.9919381085597447,
            0.806142746929753,
            0.6212658144187087,
            0.6190945643557945,
            0.6378212262786854,
            0.6432535628230747,
            0.6191272150084564,
            0.6647463959061239,
            0.6400316993833451,
            0.6003847334191734,
            0.696435625302284
           ]
          }
         ],
         "labelangle": 30,
         "labelside": "bottom",
         "line": {
          "color": [
           193164.08466508074,
           213233.10502586202,
           219006.47559242797,
           202730.51843127175,
           200398.3155203107,
           394421.5608890197,
           419852.1247820057,
           420620.724283256,
           383816.238887606,
           212370.7638043208,
           424416.6124620543,
           197127.6718143651,
           193778.8699970946,
           205917.74996166502,
           336010.49078546284,
           226753.61021385095,
           407801.4653134753,
           261743.75264054636,
           331557.2575971118,
           244082.83250688456,
           352919.17107680393,
           193869.37837896758,
           287039.7045608816,
           248864.47635146996,
           191651.15446141362,
           251713.44822104333,
           400852.2781417089,
           311164.37992117874,
           269533.18270147825,
           236763.83625969017,
           360726.37271938997,
           192449.43755492102,
           192799.30223112373,
           264877.4136321198,
           247909.29572866237,
           297063.44828331994,
           232703.14723365277,
           239292.14964538466,
           275728.59798840724,
           311771.9051539933,
           255680.75589863322,
           192215.1141401687,
           219302.74619005053,
           191104.37863729885,
           201086.33980749716,
           236175.32035587236,
           416681.3967162321,
           424164.5951591037,
           202144.32793141753,
           247581.05166034037
          ],
          "colorbar": {
           "title": {
            "text": "Objective Value"
           }
          },
          "colorscale": [
           [
            0,
            "rgb(247,251,255)"
           ],
           [
            0.125,
            "rgb(222,235,247)"
           ],
           [
            0.25,
            "rgb(198,219,239)"
           ],
           [
            0.375,
            "rgb(158,202,225)"
           ],
           [
            0.5,
            "rgb(107,174,214)"
           ],
           [
            0.625,
            "rgb(66,146,198)"
           ],
           [
            0.75,
            "rgb(33,113,181)"
           ],
           [
            0.875,
            "rgb(8,81,156)"
           ],
           [
            1,
            "rgb(8,48,107)"
           ]
          ],
          "reversescale": true,
          "showscale": true
         },
         "type": "parcoords"
        }
       ],
       "layout": {
        "template": {
         "data": {
          "bar": [
           {
            "error_x": {
             "color": "#2a3f5f"
            },
            "error_y": {
             "color": "#2a3f5f"
            },
            "marker": {
             "line": {
              "color": "#E5ECF6",
              "width": 0.5
             },
             "pattern": {
              "fillmode": "overlay",
              "size": 10,
              "solidity": 0.2
             }
            },
            "type": "bar"
           }
          ],
          "barpolar": [
           {
            "marker": {
             "line": {
              "color": "#E5ECF6",
              "width": 0.5
             },
             "pattern": {
              "fillmode": "overlay",
              "size": 10,
              "solidity": 0.2
             }
            },
            "type": "barpolar"
           }
          ],
          "carpet": [
           {
            "aaxis": {
             "endlinecolor": "#2a3f5f",
             "gridcolor": "white",
             "linecolor": "white",
             "minorgridcolor": "white",
             "startlinecolor": "#2a3f5f"
            },
            "baxis": {
             "endlinecolor": "#2a3f5f",
             "gridcolor": "white",
             "linecolor": "white",
             "minorgridcolor": "white",
             "startlinecolor": "#2a3f5f"
            },
            "type": "carpet"
           }
          ],
          "choropleth": [
           {
            "colorbar": {
             "outlinewidth": 0,
             "ticks": ""
            },
            "type": "choropleth"
           }
          ],
          "contour": [
           {
            "colorbar": {
             "outlinewidth": 0,
             "ticks": ""
            },
            "colorscale": [
             [
              0,
              "#0d0887"
             ],
             [
              0.1111111111111111,
              "#46039f"
             ],
             [
              0.2222222222222222,
              "#7201a8"
             ],
             [
              0.3333333333333333,
              "#9c179e"
             ],
             [
              0.4444444444444444,
              "#bd3786"
             ],
             [
              0.5555555555555556,
              "#d8576b"
             ],
             [
              0.6666666666666666,
              "#ed7953"
             ],
             [
              0.7777777777777778,
              "#fb9f3a"
             ],
             [
              0.8888888888888888,
              "#fdca26"
             ],
             [
              1,
              "#f0f921"
             ]
            ],
            "type": "contour"
           }
          ],
          "contourcarpet": [
           {
            "colorbar": {
             "outlinewidth": 0,
             "ticks": ""
            },
            "type": "contourcarpet"
           }
          ],
          "heatmap": [
           {
            "colorbar": {
             "outlinewidth": 0,
             "ticks": ""
            },
            "colorscale": [
             [
              0,
              "#0d0887"
             ],
             [
              0.1111111111111111,
              "#46039f"
             ],
             [
              0.2222222222222222,
              "#7201a8"
             ],
             [
              0.3333333333333333,
              "#9c179e"
             ],
             [
              0.4444444444444444,
              "#bd3786"
             ],
             [
              0.5555555555555556,
              "#d8576b"
             ],
             [
              0.6666666666666666,
              "#ed7953"
             ],
             [
              0.7777777777777778,
              "#fb9f3a"
             ],
             [
              0.8888888888888888,
              "#fdca26"
             ],
             [
              1,
              "#f0f921"
             ]
            ],
            "type": "heatmap"
           }
          ],
          "histogram": [
           {
            "marker": {
             "pattern": {
              "fillmode": "overlay",
              "size": 10,
              "solidity": 0.2
             }
            },
            "type": "histogram"
           }
          ],
          "histogram2d": [
           {
            "colorbar": {
             "outlinewidth": 0,
             "ticks": ""
            },
            "colorscale": [
             [
              0,
              "#0d0887"
             ],
             [
              0.1111111111111111,
              "#46039f"
             ],
             [
              0.2222222222222222,
              "#7201a8"
             ],
             [
              0.3333333333333333,
              "#9c179e"
             ],
             [
              0.4444444444444444,
              "#bd3786"
             ],
             [
              0.5555555555555556,
              "#d8576b"
             ],
             [
              0.6666666666666666,
              "#ed7953"
             ],
             [
              0.7777777777777778,
              "#fb9f3a"
             ],
             [
              0.8888888888888888,
              "#fdca26"
             ],
             [
              1,
              "#f0f921"
             ]
            ],
            "type": "histogram2d"
           }
          ],
          "histogram2dcontour": [
           {
            "colorbar": {
             "outlinewidth": 0,
             "ticks": ""
            },
            "colorscale": [
             [
              0,
              "#0d0887"
             ],
             [
              0.1111111111111111,
              "#46039f"
             ],
             [
              0.2222222222222222,
              "#7201a8"
             ],
             [
              0.3333333333333333,
              "#9c179e"
             ],
             [
              0.4444444444444444,
              "#bd3786"
             ],
             [
              0.5555555555555556,
              "#d8576b"
             ],
             [
              0.6666666666666666,
              "#ed7953"
             ],
             [
              0.7777777777777778,
              "#fb9f3a"
             ],
             [
              0.8888888888888888,
              "#fdca26"
             ],
             [
              1,
              "#f0f921"
             ]
            ],
            "type": "histogram2dcontour"
           }
          ],
          "mesh3d": [
           {
            "colorbar": {
             "outlinewidth": 0,
             "ticks": ""
            },
            "type": "mesh3d"
           }
          ],
          "parcoords": [
           {
            "line": {
             "colorbar": {
              "outlinewidth": 0,
              "ticks": ""
             }
            },
            "type": "parcoords"
           }
          ],
          "pie": [
           {
            "automargin": true,
            "type": "pie"
           }
          ],
          "scatter": [
           {
            "fillpattern": {
             "fillmode": "overlay",
             "size": 10,
             "solidity": 0.2
            },
            "type": "scatter"
           }
          ],
          "scatter3d": [
           {
            "line": {
             "colorbar": {
              "outlinewidth": 0,
              "ticks": ""
             }
            },
            "marker": {
             "colorbar": {
              "outlinewidth": 0,
              "ticks": ""
             }
            },
            "type": "scatter3d"
           }
          ],
          "scattercarpet": [
           {
            "marker": {
             "colorbar": {
              "outlinewidth": 0,
              "ticks": ""
             }
            },
            "type": "scattercarpet"
           }
          ],
          "scattergeo": [
           {
            "marker": {
             "colorbar": {
              "outlinewidth": 0,
              "ticks": ""
             }
            },
            "type": "scattergeo"
           }
          ],
          "scattergl": [
           {
            "marker": {
             "colorbar": {
              "outlinewidth": 0,
              "ticks": ""
             }
            },
            "type": "scattergl"
           }
          ],
          "scattermap": [
           {
            "marker": {
             "colorbar": {
              "outlinewidth": 0,
              "ticks": ""
             }
            },
            "type": "scattermap"
           }
          ],
          "scattermapbox": [
           {
            "marker": {
             "colorbar": {
              "outlinewidth": 0,
              "ticks": ""
             }
            },
            "type": "scattermapbox"
           }
          ],
          "scatterpolar": [
           {
            "marker": {
             "colorbar": {
              "outlinewidth": 0,
              "ticks": ""
             }
            },
            "type": "scatterpolar"
           }
          ],
          "scatterpolargl": [
           {
            "marker": {
             "colorbar": {
              "outlinewidth": 0,
              "ticks": ""
             }
            },
            "type": "scatterpolargl"
           }
          ],
          "scatterternary": [
           {
            "marker": {
             "colorbar": {
              "outlinewidth": 0,
              "ticks": ""
             }
            },
            "type": "scatterternary"
           }
          ],
          "surface": [
           {
            "colorbar": {
             "outlinewidth": 0,
             "ticks": ""
            },
            "colorscale": [
             [
              0,
              "#0d0887"
             ],
             [
              0.1111111111111111,
              "#46039f"
             ],
             [
              0.2222222222222222,
              "#7201a8"
             ],
             [
              0.3333333333333333,
              "#9c179e"
             ],
             [
              0.4444444444444444,
              "#bd3786"
             ],
             [
              0.5555555555555556,
              "#d8576b"
             ],
             [
              0.6666666666666666,
              "#ed7953"
             ],
             [
              0.7777777777777778,
              "#fb9f3a"
             ],
             [
              0.8888888888888888,
              "#fdca26"
             ],
             [
              1,
              "#f0f921"
             ]
            ],
            "type": "surface"
           }
          ],
          "table": [
           {
            "cells": {
             "fill": {
              "color": "#EBF0F8"
             },
             "line": {
              "color": "white"
             }
            },
            "header": {
             "fill": {
              "color": "#C8D4E3"
             },
             "line": {
              "color": "white"
             }
            },
            "type": "table"
           }
          ]
         },
         "layout": {
          "annotationdefaults": {
           "arrowcolor": "#2a3f5f",
           "arrowhead": 0,
           "arrowwidth": 1
          },
          "autotypenumbers": "strict",
          "coloraxis": {
           "colorbar": {
            "outlinewidth": 0,
            "ticks": ""
           }
          },
          "colorscale": {
           "diverging": [
            [
             0,
             "#8e0152"
            ],
            [
             0.1,
             "#c51b7d"
            ],
            [
             0.2,
             "#de77ae"
            ],
            [
             0.3,
             "#f1b6da"
            ],
            [
             0.4,
             "#fde0ef"
            ],
            [
             0.5,
             "#f7f7f7"
            ],
            [
             0.6,
             "#e6f5d0"
            ],
            [
             0.7,
             "#b8e186"
            ],
            [
             0.8,
             "#7fbc41"
            ],
            [
             0.9,
             "#4d9221"
            ],
            [
             1,
             "#276419"
            ]
           ],
           "sequential": [
            [
             0,
             "#0d0887"
            ],
            [
             0.1111111111111111,
             "#46039f"
            ],
            [
             0.2222222222222222,
             "#7201a8"
            ],
            [
             0.3333333333333333,
             "#9c179e"
            ],
            [
             0.4444444444444444,
             "#bd3786"
            ],
            [
             0.5555555555555556,
             "#d8576b"
            ],
            [
             0.6666666666666666,
             "#ed7953"
            ],
            [
             0.7777777777777778,
             "#fb9f3a"
            ],
            [
             0.8888888888888888,
             "#fdca26"
            ],
            [
             1,
             "#f0f921"
            ]
           ],
           "sequentialminus": [
            [
             0,
             "#0d0887"
            ],
            [
             0.1111111111111111,
             "#46039f"
            ],
            [
             0.2222222222222222,
             "#7201a8"
            ],
            [
             0.3333333333333333,
             "#9c179e"
            ],
            [
             0.4444444444444444,
             "#bd3786"
            ],
            [
             0.5555555555555556,
             "#d8576b"
            ],
            [
             0.6666666666666666,
             "#ed7953"
            ],
            [
             0.7777777777777778,
             "#fb9f3a"
            ],
            [
             0.8888888888888888,
             "#fdca26"
            ],
            [
             1,
             "#f0f921"
            ]
           ]
          },
          "colorway": [
           "#636efa",
           "#EF553B",
           "#00cc96",
           "#ab63fa",
           "#FFA15A",
           "#19d3f3",
           "#FF6692",
           "#B6E880",
           "#FF97FF",
           "#FECB52"
          ],
          "font": {
           "color": "#2a3f5f"
          },
          "geo": {
           "bgcolor": "white",
           "lakecolor": "white",
           "landcolor": "#E5ECF6",
           "showlakes": true,
           "showland": true,
           "subunitcolor": "white"
          },
          "hoverlabel": {
           "align": "left"
          },
          "hovermode": "closest",
          "mapbox": {
           "style": "light"
          },
          "paper_bgcolor": "white",
          "plot_bgcolor": "#E5ECF6",
          "polar": {
           "angularaxis": {
            "gridcolor": "white",
            "linecolor": "white",
            "ticks": ""
           },
           "bgcolor": "#E5ECF6",
           "radialaxis": {
            "gridcolor": "white",
            "linecolor": "white",
            "ticks": ""
           }
          },
          "scene": {
           "xaxis": {
            "backgroundcolor": "#E5ECF6",
            "gridcolor": "white",
            "gridwidth": 2,
            "linecolor": "white",
            "showbackground": true,
            "ticks": "",
            "zerolinecolor": "white"
           },
           "yaxis": {
            "backgroundcolor": "#E5ECF6",
            "gridcolor": "white",
            "gridwidth": 2,
            "linecolor": "white",
            "showbackground": true,
            "ticks": "",
            "zerolinecolor": "white"
           },
           "zaxis": {
            "backgroundcolor": "#E5ECF6",
            "gridcolor": "white",
            "gridwidth": 2,
            "linecolor": "white",
            "showbackground": true,
            "ticks": "",
            "zerolinecolor": "white"
           }
          },
          "shapedefaults": {
           "line": {
            "color": "#2a3f5f"
           }
          },
          "ternary": {
           "aaxis": {
            "gridcolor": "white",
            "linecolor": "white",
            "ticks": ""
           },
           "baxis": {
            "gridcolor": "white",
            "linecolor": "white",
            "ticks": ""
           },
           "bgcolor": "#E5ECF6",
           "caxis": {
            "gridcolor": "white",
            "linecolor": "white",
            "ticks": ""
           }
          },
          "title": {
           "x": 0.05
          },
          "xaxis": {
           "automargin": true,
           "gridcolor": "white",
           "linecolor": "white",
           "ticks": "",
           "title": {
            "standoff": 15
           },
           "zerolinecolor": "white",
           "zerolinewidth": 2
          },
          "yaxis": {
           "automargin": true,
           "gridcolor": "white",
           "linecolor": "white",
           "ticks": "",
           "title": {
            "standoff": 15
           },
           "zerolinecolor": "white",
           "zerolinewidth": 2
          }
         }
        },
        "title": {
         "text": "Parallel Coordinate Plot"
        }
       }
      }
     },
     "metadata": {},
     "output_type": "display_data"
    },
    {
     "data": {
      "application/vnd.plotly.v1+json": {
       "config": {
        "plotlyServerURL": "https://plot.ly"
       },
       "data": [
        {
         "marker": {
          "color": [
           0,
           1,
           2,
           3,
           4,
           5,
           6,
           7,
           8,
           9,
           10,
           11,
           12,
           13,
           14,
           15,
           16,
           17,
           18,
           19,
           20,
           21,
           22,
           23,
           24,
           25,
           26,
           27,
           28,
           29,
           30,
           31,
           32,
           33,
           34,
           35,
           36,
           37,
           38,
           39,
           40,
           41,
           42,
           43,
           44,
           45,
           46,
           47,
           48,
           49
          ],
          "colorbar": {
           "title": {
            "text": "Trial"
           },
           "x": 1,
           "xpad": 40
          },
          "colorscale": [
           [
            0,
            "rgb(247,251,255)"
           ],
           [
            0.125,
            "rgb(222,235,247)"
           ],
           [
            0.25,
            "rgb(198,219,239)"
           ],
           [
            0.375,
            "rgb(158,202,225)"
           ],
           [
            0.5,
            "rgb(107,174,214)"
           ],
           [
            0.625,
            "rgb(66,146,198)"
           ],
           [
            0.75,
            "rgb(33,113,181)"
           ],
           [
            0.875,
            "rgb(8,81,156)"
           ],
           [
            1,
            "rgb(8,48,107)"
           ]
          ],
          "line": {
           "color": "Grey",
           "width": 0.5
          },
          "showscale": true
         },
         "mode": "markers",
         "name": "Feasible Trial",
         "showlegend": false,
         "type": "scatter",
         "x": [
          0.662397808134481,
          0.6849356442713105,
          0.6557975442608167,
          0.6185801650879991,
          0.6390688456025535,
          0.8650089137415928,
          0.9579309401710595,
          0.7085396127095583,
          0.9947547746402069,
          0.6296178606936361,
          0.775232370984732,
          0.7580270214839643,
          0.7457769212953824,
          0.8567997340268858,
          0.7219922567707062,
          0.8297365118287333,
          0.74246023582073,
          0.8037521393242067,
          0.6811148233933808,
          0.8984553239225072,
          0.7970940974893838,
          0.7547782653977205,
          0.7121201545013595,
          0.6802407359630315,
          0.7507458766924474,
          0.7923054641818716,
          0.7332956679369176,
          0.6055590232716066,
          0.6648447237835107,
          0.686510507186421,
          0.8278042860212953,
          0.7607644789358028,
          0.7013370737909197,
          0.7006117412055323,
          0.6423292054011528,
          0.6561707039150337,
          0.7801769492941018,
          0.7001100940963497,
          0.6010671845109126,
          0.7664083609866857,
          0.7296731116104603,
          0.7408682523315459,
          0.6635191982237458,
          0.7203717250461328,
          0.8160275061798552,
          0.7173246772847339,
          0.7754500454372192,
          0.7578869068699705,
          0.7395838685537687,
          0.9100222982935362
         ],
         "xaxis": "x",
         "y": [
          193164.08466508074,
          213233.10502586202,
          219006.47559242797,
          202730.51843127175,
          200398.3155203107,
          394421.5608890197,
          419852.1247820057,
          420620.724283256,
          383816.238887606,
          212370.7638043208,
          424416.6124620543,
          197127.6718143651,
          193778.8699970946,
          205917.74996166502,
          336010.49078546284,
          226753.61021385095,
          407801.4653134753,
          261743.75264054636,
          331557.2575971118,
          244082.83250688456,
          352919.17107680393,
          193869.37837896758,
          287039.7045608816,
          248864.47635146996,
          191651.15446141362,
          251713.44822104333,
          400852.2781417089,
          311164.37992117874,
          269533.18270147825,
          236763.83625969017,
          360726.37271938997,
          192449.43755492102,
          192799.30223112373,
          264877.4136321198,
          247909.29572866237,
          297063.44828331994,
          232703.14723365277,
          239292.14964538466,
          275728.59798840724,
          311771.9051539933,
          255680.75589863322,
          192215.1141401687,
          219302.74619005053,
          191104.37863729885,
          201086.33980749716,
          236175.32035587236,
          416681.3967162321,
          424164.5951591037,
          202144.32793141753,
          247581.05166034037
         ],
         "yaxis": "y"
        },
        {
         "marker": {
          "color": [
           0,
           1,
           2,
           3,
           4,
           5,
           6,
           7,
           8,
           9,
           10,
           11,
           12,
           13,
           14,
           15,
           16,
           17,
           18,
           19,
           20,
           21,
           22,
           23,
           24,
           25,
           26,
           27,
           28,
           29,
           30,
           31,
           32,
           33,
           34,
           35,
           36,
           37,
           38,
           39,
           40,
           41,
           42,
           43,
           44,
           45,
           46,
           47,
           48,
           49
          ],
          "colorbar": {
           "title": {
            "text": "Trial"
           },
           "x": 1,
           "xpad": 40
          },
          "colorscale": [
           [
            0,
            "rgb(247,251,255)"
           ],
           [
            0.125,
            "rgb(222,235,247)"
           ],
           [
            0.25,
            "rgb(198,219,239)"
           ],
           [
            0.375,
            "rgb(158,202,225)"
           ],
           [
            0.5,
            "rgb(107,174,214)"
           ],
           [
            0.625,
            "rgb(66,146,198)"
           ],
           [
            0.75,
            "rgb(33,113,181)"
           ],
           [
            0.875,
            "rgb(8,81,156)"
           ],
           [
            1,
            "rgb(8,48,107)"
           ]
          ],
          "line": {
           "color": "Grey",
           "width": 0.5
          },
          "showscale": false
         },
         "mode": "markers",
         "name": "Feasible Trial",
         "showlegend": false,
         "type": "scatter",
         "x": [
          9,
          4,
          7,
          5,
          10,
          4,
          10,
          4,
          4,
          8,
          8,
          10,
          9,
          8,
          9,
          6,
          9,
          9,
          7,
          7,
          9,
          10,
          10,
          9,
          8,
          8,
          8,
          7,
          6,
          9,
          6,
          10,
          9,
          10,
          8,
          9,
          10,
          8,
          10,
          9,
          8,
          9,
          9,
          10,
          10,
          10,
          10,
          9,
          10,
          8
         ],
         "xaxis": "x2",
         "y": [
          193164.08466508074,
          213233.10502586202,
          219006.47559242797,
          202730.51843127175,
          200398.3155203107,
          394421.5608890197,
          419852.1247820057,
          420620.724283256,
          383816.238887606,
          212370.7638043208,
          424416.6124620543,
          197127.6718143651,
          193778.8699970946,
          205917.74996166502,
          336010.49078546284,
          226753.61021385095,
          407801.4653134753,
          261743.75264054636,
          331557.2575971118,
          244082.83250688456,
          352919.17107680393,
          193869.37837896758,
          287039.7045608816,
          248864.47635146996,
          191651.15446141362,
          251713.44822104333,
          400852.2781417089,
          311164.37992117874,
          269533.18270147825,
          236763.83625969017,
          360726.37271938997,
          192449.43755492102,
          192799.30223112373,
          264877.4136321198,
          247909.29572866237,
          297063.44828331994,
          232703.14723365277,
          239292.14964538466,
          275728.59798840724,
          311771.9051539933,
          255680.75589863322,
          192215.1141401687,
          219302.74619005053,
          191104.37863729885,
          201086.33980749716,
          236175.32035587236,
          416681.3967162321,
          424164.5951591037,
          202144.32793141753,
          247581.05166034037
         ],
         "yaxis": "y2"
        },
        {
         "marker": {
          "color": [
           0,
           1,
           2,
           3,
           4,
           5,
           6,
           7,
           8,
           9,
           10,
           11,
           12,
           13,
           14,
           15,
           16,
           17,
           18,
           19,
           20,
           21,
           22,
           23,
           24,
           25,
           26,
           27,
           28,
           29,
           30,
           31,
           32,
           33,
           34,
           35,
           36,
           37,
           38,
           39,
           40,
           41,
           42,
           43,
           44,
           45,
           46,
           47,
           48,
           49
          ],
          "colorbar": {
           "title": {
            "text": "Trial"
           },
           "x": 1,
           "xpad": 40
          },
          "colorscale": [
           [
            0,
            "rgb(247,251,255)"
           ],
           [
            0.125,
            "rgb(222,235,247)"
           ],
           [
            0.25,
            "rgb(198,219,239)"
           ],
           [
            0.375,
            "rgb(158,202,225)"
           ],
           [
            0.5,
            "rgb(107,174,214)"
           ],
           [
            0.625,
            "rgb(66,146,198)"
           ],
           [
            0.75,
            "rgb(33,113,181)"
           ],
           [
            0.875,
            "rgb(8,81,156)"
           ],
           [
            1,
            "rgb(8,48,107)"
           ]
          ],
          "line": {
           "color": "Grey",
           "width": 0.5
          },
          "showscale": false
         },
         "mode": "markers",
         "name": "Feasible Trial",
         "showlegend": false,
         "type": "scatter",
         "x": [
          45,
          17,
          25,
          16,
          28,
          31,
          47,
          24,
          18,
          14,
          50,
          39,
          39,
          40,
          40,
          34,
          46,
          43,
          35,
          35,
          50,
          40,
          43,
          44,
          38,
          37,
          32,
          47,
          28,
          37,
          43,
          40,
          38,
          37,
          42,
          46,
          25,
          31,
          33,
          45,
          20,
          38,
          41,
          37,
          37,
          30,
          35,
          38,
          28,
          41
         ],
         "xaxis": "x3",
         "y": [
          193164.08466508074,
          213233.10502586202,
          219006.47559242797,
          202730.51843127175,
          200398.3155203107,
          394421.5608890197,
          419852.1247820057,
          420620.724283256,
          383816.238887606,
          212370.7638043208,
          424416.6124620543,
          197127.6718143651,
          193778.8699970946,
          205917.74996166502,
          336010.49078546284,
          226753.61021385095,
          407801.4653134753,
          261743.75264054636,
          331557.2575971118,
          244082.83250688456,
          352919.17107680393,
          193869.37837896758,
          287039.7045608816,
          248864.47635146996,
          191651.15446141362,
          251713.44822104333,
          400852.2781417089,
          311164.37992117874,
          269533.18270147825,
          236763.83625969017,
          360726.37271938997,
          192449.43755492102,
          192799.30223112373,
          264877.4136321198,
          247909.29572866237,
          297063.44828331994,
          232703.14723365277,
          239292.14964538466,
          275728.59798840724,
          311771.9051539933,
          255680.75589863322,
          192215.1141401687,
          219302.74619005053,
          191104.37863729885,
          201086.33980749716,
          236175.32035587236,
          416681.3967162321,
          424164.5951591037,
          202144.32793141753,
          247581.05166034037
         ],
         "yaxis": "y3"
        },
        {
         "marker": {
          "color": [
           0,
           1,
           2,
           3,
           4,
           5,
           6,
           7,
           8,
           9,
           10,
           11,
           12,
           13,
           14,
           15,
           16,
           17,
           18,
           19,
           20,
           21,
           22,
           23,
           24,
           25,
           26,
           27,
           28,
           29,
           30,
           31,
           32,
           33,
           34,
           35,
           36,
           37,
           38,
           39,
           40,
           41,
           42,
           43,
           44,
           45,
           46,
           47,
           48,
           49
          ],
          "colorbar": {
           "title": {
            "text": "Trial"
           },
           "x": 1,
           "xpad": 40
          },
          "colorscale": [
           [
            0,
            "rgb(247,251,255)"
           ],
           [
            0.125,
            "rgb(222,235,247)"
           ],
           [
            0.25,
            "rgb(198,219,239)"
           ],
           [
            0.375,
            "rgb(158,202,225)"
           ],
           [
            0.5,
            "rgb(107,174,214)"
           ],
           [
            0.625,
            "rgb(66,146,198)"
           ],
           [
            0.75,
            "rgb(33,113,181)"
           ],
           [
            0.875,
            "rgb(8,81,156)"
           ],
           [
            1,
            "rgb(8,48,107)"
           ]
          ],
          "line": {
           "color": "Grey",
           "width": 0.5
          },
          "showscale": false
         },
         "mode": "markers",
         "name": "Feasible Trial",
         "showlegend": false,
         "type": "scatter",
         "x": [
          437,
          641,
          374,
          510,
          158,
          209,
          592,
          179,
          353,
          104,
          906,
          806,
          853,
          985,
          706,
          463,
          744,
          329,
          847,
          999,
          459,
          809,
          653,
          866,
          748,
          724,
          574,
          272,
          923,
          669,
          777,
          819,
          931,
          928,
          422,
          506,
          532,
          610,
          767,
          956,
          678,
          867,
          895,
          821,
          814,
          869,
          825,
          950,
          780,
          891
         ],
         "xaxis": "x4",
         "y": [
          193164.08466508074,
          213233.10502586202,
          219006.47559242797,
          202730.51843127175,
          200398.3155203107,
          394421.5608890197,
          419852.1247820057,
          420620.724283256,
          383816.238887606,
          212370.7638043208,
          424416.6124620543,
          197127.6718143651,
          193778.8699970946,
          205917.74996166502,
          336010.49078546284,
          226753.61021385095,
          407801.4653134753,
          261743.75264054636,
          331557.2575971118,
          244082.83250688456,
          352919.17107680393,
          193869.37837896758,
          287039.7045608816,
          248864.47635146996,
          191651.15446141362,
          251713.44822104333,
          400852.2781417089,
          311164.37992117874,
          269533.18270147825,
          236763.83625969017,
          360726.37271938997,
          192449.43755492102,
          192799.30223112373,
          264877.4136321198,
          247909.29572866237,
          297063.44828331994,
          232703.14723365277,
          239292.14964538466,
          275728.59798840724,
          311771.9051539933,
          255680.75589863322,
          192215.1141401687,
          219302.74619005053,
          191104.37863729885,
          201086.33980749716,
          236175.32035587236,
          416681.3967162321,
          424164.5951591037,
          202144.32793141753,
          247581.05166034037
         ],
         "yaxis": "y4"
        },
        {
         "marker": {
          "color": [
           0,
           1,
           2,
           3,
           4,
           5,
           6,
           7,
           8,
           9,
           10,
           11,
           12,
           13,
           14,
           15,
           16,
           17,
           18,
           19,
           20,
           21,
           22,
           23,
           24,
           25,
           26,
           27,
           28,
           29,
           30,
           31,
           32,
           33,
           34,
           35,
           36,
           37,
           38,
           39,
           40,
           41,
           42,
           43,
           44,
           45,
           46,
           47,
           48,
           49
          ],
          "colorbar": {
           "title": {
            "text": "Trial"
           },
           "x": 1,
           "xpad": 40
          },
          "colorscale": [
           [
            0,
            "rgb(247,251,255)"
           ],
           [
            0.125,
            "rgb(222,235,247)"
           ],
           [
            0.25,
            "rgb(198,219,239)"
           ],
           [
            0.375,
            "rgb(158,202,225)"
           ],
           [
            0.5,
            "rgb(107,174,214)"
           ],
           [
            0.625,
            "rgb(66,146,198)"
           ],
           [
            0.75,
            "rgb(33,113,181)"
           ],
           [
            0.875,
            "rgb(8,81,156)"
           ],
           [
            1,
            "rgb(8,48,107)"
           ]
          ],
          "line": {
           "color": "Grey",
           "width": 0.5
          },
          "showscale": false
         },
         "mode": "markers",
         "name": "Feasible Trial",
         "showlegend": false,
         "type": "scatter",
         "x": [
          0.6251373574521749,
          8.123245085588687,
          0.07476312062252301,
          0.34890188454913873,
          2.6619018884890564,
          5.345166110646819,
          2.1154290797261215,
          0.09462175356461491,
          2.5502980701628926,
          1.5382308040278996,
          0.01132102180423038,
          0.5990937895571765,
          0.4529796795685664,
          0.1268936930890743,
          0.7756818983394322,
          0.2594228347889954,
          0.2468877195053605,
          0.03333924313244961,
          0.8707603686462977,
          0.4933157849953325,
          0.040187488201804136,
          0.9813453667931464,
          0.8853068880055763,
          1.3350554959592684,
          0.17705520918925982,
          0.17529731728332265,
          0.39755344928802744,
          0.16424863759692604,
          0.059206430572784914,
          4.3639837346239405,
          0.019989211752082094,
          1.1656735858275957,
          0.546384482735498,
          0.2983431233189096,
          9.8966921839684,
          1.421664527640886,
          0.5722294511033635,
          4.440998416566279,
          0.1998214614108932,
          0.11188485004435174,
          2.0557025251149685,
          0.35639530229324357,
          0.35847709814917617,
          0.6670438837278988,
          1.150352803105226,
          0.682608647678517,
          0.08506476591569744,
          1.9792772454519436,
          2.9151208029052,
          0.22802987601361496
         ],
         "xaxis": "x5",
         "y": [
          193164.08466508074,
          213233.10502586202,
          219006.47559242797,
          202730.51843127175,
          200398.3155203107,
          394421.5608890197,
          419852.1247820057,
          420620.724283256,
          383816.238887606,
          212370.7638043208,
          424416.6124620543,
          197127.6718143651,
          193778.8699970946,
          205917.74996166502,
          336010.49078546284,
          226753.61021385095,
          407801.4653134753,
          261743.75264054636,
          331557.2575971118,
          244082.83250688456,
          352919.17107680393,
          193869.37837896758,
          287039.7045608816,
          248864.47635146996,
          191651.15446141362,
          251713.44822104333,
          400852.2781417089,
          311164.37992117874,
          269533.18270147825,
          236763.83625969017,
          360726.37271938997,
          192449.43755492102,
          192799.30223112373,
          264877.4136321198,
          247909.29572866237,
          297063.44828331994,
          232703.14723365277,
          239292.14964538466,
          275728.59798840724,
          311771.9051539933,
          255680.75589863322,
          192215.1141401687,
          219302.74619005053,
          191104.37863729885,
          201086.33980749716,
          236175.32035587236,
          416681.3967162321,
          424164.5951591037,
          202144.32793141753,
          247581.05166034037
         ],
         "yaxis": "y5"
        },
        {
         "marker": {
          "color": [
           0,
           1,
           2,
           3,
           4,
           5,
           6,
           7,
           8,
           9,
           10,
           11,
           12,
           13,
           14,
           15,
           16,
           17,
           18,
           19,
           20,
           21,
           22,
           23,
           24,
           25,
           26,
           27,
           28,
           29,
           30,
           31,
           32,
           33,
           34,
           35,
           36,
           37,
           38,
           39,
           40,
           41,
           42,
           43,
           44,
           45,
           46,
           47,
           48,
           49
          ],
          "colorbar": {
           "title": {
            "text": "Trial"
           },
           "x": 1,
           "xpad": 40
          },
          "colorscale": [
           [
            0,
            "rgb(247,251,255)"
           ],
           [
            0.125,
            "rgb(222,235,247)"
           ],
           [
            0.25,
            "rgb(198,219,239)"
           ],
           [
            0.375,
            "rgb(158,202,225)"
           ],
           [
            0.5,
            "rgb(107,174,214)"
           ],
           [
            0.625,
            "rgb(66,146,198)"
           ],
           [
            0.75,
            "rgb(33,113,181)"
           ],
           [
            0.875,
            "rgb(8,81,156)"
           ],
           [
            1,
            "rgb(8,48,107)"
           ]
          ],
          "line": {
           "color": "Grey",
           "width": 0.5
          },
          "showscale": false
         },
         "mode": "markers",
         "name": "Feasible Trial",
         "showlegend": false,
         "type": "scatter",
         "x": [
          0.22648248189516848,
          0.05675206026988748,
          0.0199473547030745,
          0.08810003129071789,
          0.22413234378101138,
          0.016850517723339092,
          0.002870165242185818,
          0.0030582523213789677,
          0.022096526145513846,
          0.10471209213501693,
          0.0010347984019709355,
          0.2928900386183503,
          0.29830637260334764,
          0.15735554323803275,
          0.044084653694835274,
          0.2588385652483153,
          0.007426116718087666,
          0.11777517005248574,
          0.05134970681560025,
          0.18947684534767115,
          0.0326559345206202,
          0.2877420636662859,
          0.0787611816301395,
          0.15213334123354433,
          0.2897824765207468,
          0.15008884402716377,
          0.010709697515312202,
          0.06924696589563263,
          0.12996736870231101,
          0.18789327248041002,
          0.03234366496474334,
          0.2869798748467506,
          0.22065733366088336,
          0.107620188885818,
          0.20145250365448275,
          0.07731295771222205,
          0.20937878849954358,
          0.21407871078206217,
          0.09944967659279592,
          0.06228491504630561,
          0.14417883555192706,
          0.2909605123637478,
          0.23600853748172307,
          0.2801695218255082,
          0.2984420500623529,
          0.18141561242178256,
          0.0039016007699125463,
          0.0011455971996089888,
          0.24056800772739648,
          0.1649062241974827
         ],
         "xaxis": "x6",
         "y": [
          193164.08466508074,
          213233.10502586202,
          219006.47559242797,
          202730.51843127175,
          200398.3155203107,
          394421.5608890197,
          419852.1247820057,
          420620.724283256,
          383816.238887606,
          212370.7638043208,
          424416.6124620543,
          197127.6718143651,
          193778.8699970946,
          205917.74996166502,
          336010.49078546284,
          226753.61021385095,
          407801.4653134753,
          261743.75264054636,
          331557.2575971118,
          244082.83250688456,
          352919.17107680393,
          193869.37837896758,
          287039.7045608816,
          248864.47635146996,
          191651.15446141362,
          251713.44822104333,
          400852.2781417089,
          311164.37992117874,
          269533.18270147825,
          236763.83625969017,
          360726.37271938997,
          192449.43755492102,
          192799.30223112373,
          264877.4136321198,
          247909.29572866237,
          297063.44828331994,
          232703.14723365277,
          239292.14964538466,
          275728.59798840724,
          311771.9051539933,
          255680.75589863322,
          192215.1141401687,
          219302.74619005053,
          191104.37863729885,
          201086.33980749716,
          236175.32035587236,
          416681.3967162321,
          424164.5951591037,
          202144.32793141753,
          247581.05166034037
         ],
         "yaxis": "y6"
        },
        {
         "marker": {
          "color": [
           0,
           1,
           2,
           3,
           4,
           5,
           6,
           7,
           8,
           9,
           10,
           11,
           12,
           13,
           14,
           15,
           16,
           17,
           18,
           19,
           20,
           21,
           22,
           23,
           24,
           25,
           26,
           27,
           28,
           29,
           30,
           31,
           32,
           33,
           34,
           35,
           36,
           37,
           38,
           39,
           40,
           41,
           42,
           43,
           44,
           45,
           46,
           47,
           48,
           49
          ],
          "colorbar": {
           "title": {
            "text": "Trial"
           },
           "x": 1,
           "xpad": 40
          },
          "colorscale": [
           [
            0,
            "rgb(247,251,255)"
           ],
           [
            0.125,
            "rgb(222,235,247)"
           ],
           [
            0.25,
            "rgb(198,219,239)"
           ],
           [
            0.375,
            "rgb(158,202,225)"
           ],
           [
            0.5,
            "rgb(107,174,214)"
           ],
           [
            0.625,
            "rgb(66,146,198)"
           ],
           [
            0.75,
            "rgb(33,113,181)"
           ],
           [
            0.875,
            "rgb(8,81,156)"
           ],
           [
            1,
            "rgb(8,48,107)"
           ]
          ],
          "line": {
           "color": "Grey",
           "width": 0.5
          },
          "showscale": false
         },
         "mode": "markers",
         "name": "Feasible Trial",
         "showlegend": false,
         "type": "scatter",
         "x": [
          2,
          6,
          9,
          19,
          21,
          10,
          18,
          25,
          24,
          11,
          1,
          29,
          30,
          1,
          14,
          30,
          15,
          6,
          26,
          4,
          22,
          30,
          27,
          28,
          30,
          23,
          13,
          20,
          17,
          5,
          7,
          30,
          28,
          27,
          25,
          28,
          28,
          21,
          24,
          26,
          12,
          30,
          9,
          29,
          29,
          30,
          26,
          29,
          27,
          24
         ],
         "xaxis": "x7",
         "y": [
          193164.08466508074,
          213233.10502586202,
          219006.47559242797,
          202730.51843127175,
          200398.3155203107,
          394421.5608890197,
          419852.1247820057,
          420620.724283256,
          383816.238887606,
          212370.7638043208,
          424416.6124620543,
          197127.6718143651,
          193778.8699970946,
          205917.74996166502,
          336010.49078546284,
          226753.61021385095,
          407801.4653134753,
          261743.75264054636,
          331557.2575971118,
          244082.83250688456,
          352919.17107680393,
          193869.37837896758,
          287039.7045608816,
          248864.47635146996,
          191651.15446141362,
          251713.44822104333,
          400852.2781417089,
          311164.37992117874,
          269533.18270147825,
          236763.83625969017,
          360726.37271938997,
          192449.43755492102,
          192799.30223112373,
          264877.4136321198,
          247909.29572866237,
          297063.44828331994,
          232703.14723365277,
          239292.14964538466,
          275728.59798840724,
          311771.9051539933,
          255680.75589863322,
          192215.1141401687,
          219302.74619005053,
          191104.37863729885,
          201086.33980749716,
          236175.32035587236,
          416681.3967162321,
          424164.5951591037,
          202144.32793141753,
          247581.05166034037
         ],
         "yaxis": "y7"
        },
        {
         "marker": {
          "color": [
           0,
           1,
           2,
           3,
           4,
           5,
           6,
           7,
           8,
           9,
           10,
           11,
           12,
           13,
           14,
           15,
           16,
           17,
           18,
           19,
           20,
           21,
           22,
           23,
           24,
           25,
           26,
           27,
           28,
           29,
           30,
           31,
           32,
           33,
           34,
           35,
           36,
           37,
           38,
           39,
           40,
           41,
           42,
           43,
           44,
           45,
           46,
           47,
           48,
           49
          ],
          "colorbar": {
           "title": {
            "text": "Trial"
           },
           "x": 1,
           "xpad": 40
          },
          "colorscale": [
           [
            0,
            "rgb(247,251,255)"
           ],
           [
            0.125,
            "rgb(222,235,247)"
           ],
           [
            0.25,
            "rgb(198,219,239)"
           ],
           [
            0.375,
            "rgb(158,202,225)"
           ],
           [
            0.5,
            "rgb(107,174,214)"
           ],
           [
            0.625,
            "rgb(66,146,198)"
           ],
           [
            0.75,
            "rgb(33,113,181)"
           ],
           [
            0.875,
            "rgb(8,81,156)"
           ],
           [
            1,
            "rgb(8,48,107)"
           ]
          ],
          "line": {
           "color": "Grey",
           "width": 0.5
          },
          "showscale": false
         },
         "mode": "markers",
         "name": "Feasible Trial",
         "showlegend": false,
         "type": "scatter",
         "x": [
          0.6624074561769746,
          0.9329770563201687,
          0.8447411578889518,
          0.836965827544817,
          0.7218455076693483,
          0.7035119926400067,
          0.9757995766256756,
          0.7554709158757928,
          0.6298202574719083,
          0.9085081386743783,
          0.6061470949312417,
          0.693378857415877,
          0.669200985181719,
          0.6572788586594467,
          0.7826974821185181,
          0.6795895602142985,
          0.7492431962333567,
          0.6003864820323297,
          0.6532788044008354,
          0.8246753253615013,
          0.7204121973301069,
          0.6827783923992456,
          0.6649920756193268,
          0.6337909883971027,
          0.746108781457228,
          0.7642586473542406,
          0.7290562036590932,
          0.7912108321984976,
          0.8660698517703785,
          0.6248611510517292,
          0.7026984528096858,
          0.6785875889638864,
          0.6515215790189713,
          0.6461440694363485,
          0.7317879282909067,
          0.7090586177904379,
          0.6842688901983758,
          0.7659325196641714,
          0.7448798581966226,
          0.9919381085597447,
          0.806142746929753,
          0.6212658144187087,
          0.6190945643557945,
          0.6378212262786854,
          0.6432535628230747,
          0.6191272150084564,
          0.6647463959061239,
          0.6400316993833451,
          0.6003847334191734,
          0.696435625302284
         ],
         "xaxis": "x8",
         "y": [
          193164.08466508074,
          213233.10502586202,
          219006.47559242797,
          202730.51843127175,
          200398.3155203107,
          394421.5608890197,
          419852.1247820057,
          420620.724283256,
          383816.238887606,
          212370.7638043208,
          424416.6124620543,
          197127.6718143651,
          193778.8699970946,
          205917.74996166502,
          336010.49078546284,
          226753.61021385095,
          407801.4653134753,
          261743.75264054636,
          331557.2575971118,
          244082.83250688456,
          352919.17107680393,
          193869.37837896758,
          287039.7045608816,
          248864.47635146996,
          191651.15446141362,
          251713.44822104333,
          400852.2781417089,
          311164.37992117874,
          269533.18270147825,
          236763.83625969017,
          360726.37271938997,
          192449.43755492102,
          192799.30223112373,
          264877.4136321198,
          247909.29572866237,
          297063.44828331994,
          232703.14723365277,
          239292.14964538466,
          275728.59798840724,
          311771.9051539933,
          255680.75589863322,
          192215.1141401687,
          219302.74619005053,
          191104.37863729885,
          201086.33980749716,
          236175.32035587236,
          416681.3967162321,
          424164.5951591037,
          202144.32793141753,
          247581.05166034037
         ],
         "yaxis": "y8"
        }
       ],
       "layout": {
        "template": {
         "data": {
          "bar": [
           {
            "error_x": {
             "color": "#2a3f5f"
            },
            "error_y": {
             "color": "#2a3f5f"
            },
            "marker": {
             "line": {
              "color": "#E5ECF6",
              "width": 0.5
             },
             "pattern": {
              "fillmode": "overlay",
              "size": 10,
              "solidity": 0.2
             }
            },
            "type": "bar"
           }
          ],
          "barpolar": [
           {
            "marker": {
             "line": {
              "color": "#E5ECF6",
              "width": 0.5
             },
             "pattern": {
              "fillmode": "overlay",
              "size": 10,
              "solidity": 0.2
             }
            },
            "type": "barpolar"
           }
          ],
          "carpet": [
           {
            "aaxis": {
             "endlinecolor": "#2a3f5f",
             "gridcolor": "white",
             "linecolor": "white",
             "minorgridcolor": "white",
             "startlinecolor": "#2a3f5f"
            },
            "baxis": {
             "endlinecolor": "#2a3f5f",
             "gridcolor": "white",
             "linecolor": "white",
             "minorgridcolor": "white",
             "startlinecolor": "#2a3f5f"
            },
            "type": "carpet"
           }
          ],
          "choropleth": [
           {
            "colorbar": {
             "outlinewidth": 0,
             "ticks": ""
            },
            "type": "choropleth"
           }
          ],
          "contour": [
           {
            "colorbar": {
             "outlinewidth": 0,
             "ticks": ""
            },
            "colorscale": [
             [
              0,
              "#0d0887"
             ],
             [
              0.1111111111111111,
              "#46039f"
             ],
             [
              0.2222222222222222,
              "#7201a8"
             ],
             [
              0.3333333333333333,
              "#9c179e"
             ],
             [
              0.4444444444444444,
              "#bd3786"
             ],
             [
              0.5555555555555556,
              "#d8576b"
             ],
             [
              0.6666666666666666,
              "#ed7953"
             ],
             [
              0.7777777777777778,
              "#fb9f3a"
             ],
             [
              0.8888888888888888,
              "#fdca26"
             ],
             [
              1,
              "#f0f921"
             ]
            ],
            "type": "contour"
           }
          ],
          "contourcarpet": [
           {
            "colorbar": {
             "outlinewidth": 0,
             "ticks": ""
            },
            "type": "contourcarpet"
           }
          ],
          "heatmap": [
           {
            "colorbar": {
             "outlinewidth": 0,
             "ticks": ""
            },
            "colorscale": [
             [
              0,
              "#0d0887"
             ],
             [
              0.1111111111111111,
              "#46039f"
             ],
             [
              0.2222222222222222,
              "#7201a8"
             ],
             [
              0.3333333333333333,
              "#9c179e"
             ],
             [
              0.4444444444444444,
              "#bd3786"
             ],
             [
              0.5555555555555556,
              "#d8576b"
             ],
             [
              0.6666666666666666,
              "#ed7953"
             ],
             [
              0.7777777777777778,
              "#fb9f3a"
             ],
             [
              0.8888888888888888,
              "#fdca26"
             ],
             [
              1,
              "#f0f921"
             ]
            ],
            "type": "heatmap"
           }
          ],
          "histogram": [
           {
            "marker": {
             "pattern": {
              "fillmode": "overlay",
              "size": 10,
              "solidity": 0.2
             }
            },
            "type": "histogram"
           }
          ],
          "histogram2d": [
           {
            "colorbar": {
             "outlinewidth": 0,
             "ticks": ""
            },
            "colorscale": [
             [
              0,
              "#0d0887"
             ],
             [
              0.1111111111111111,
              "#46039f"
             ],
             [
              0.2222222222222222,
              "#7201a8"
             ],
             [
              0.3333333333333333,
              "#9c179e"
             ],
             [
              0.4444444444444444,
              "#bd3786"
             ],
             [
              0.5555555555555556,
              "#d8576b"
             ],
             [
              0.6666666666666666,
              "#ed7953"
             ],
             [
              0.7777777777777778,
              "#fb9f3a"
             ],
             [
              0.8888888888888888,
              "#fdca26"
             ],
             [
              1,
              "#f0f921"
             ]
            ],
            "type": "histogram2d"
           }
          ],
          "histogram2dcontour": [
           {
            "colorbar": {
             "outlinewidth": 0,
             "ticks": ""
            },
            "colorscale": [
             [
              0,
              "#0d0887"
             ],
             [
              0.1111111111111111,
              "#46039f"
             ],
             [
              0.2222222222222222,
              "#7201a8"
             ],
             [
              0.3333333333333333,
              "#9c179e"
             ],
             [
              0.4444444444444444,
              "#bd3786"
             ],
             [
              0.5555555555555556,
              "#d8576b"
             ],
             [
              0.6666666666666666,
              "#ed7953"
             ],
             [
              0.7777777777777778,
              "#fb9f3a"
             ],
             [
              0.8888888888888888,
              "#fdca26"
             ],
             [
              1,
              "#f0f921"
             ]
            ],
            "type": "histogram2dcontour"
           }
          ],
          "mesh3d": [
           {
            "colorbar": {
             "outlinewidth": 0,
             "ticks": ""
            },
            "type": "mesh3d"
           }
          ],
          "parcoords": [
           {
            "line": {
             "colorbar": {
              "outlinewidth": 0,
              "ticks": ""
             }
            },
            "type": "parcoords"
           }
          ],
          "pie": [
           {
            "automargin": true,
            "type": "pie"
           }
          ],
          "scatter": [
           {
            "fillpattern": {
             "fillmode": "overlay",
             "size": 10,
             "solidity": 0.2
            },
            "type": "scatter"
           }
          ],
          "scatter3d": [
           {
            "line": {
             "colorbar": {
              "outlinewidth": 0,
              "ticks": ""
             }
            },
            "marker": {
             "colorbar": {
              "outlinewidth": 0,
              "ticks": ""
             }
            },
            "type": "scatter3d"
           }
          ],
          "scattercarpet": [
           {
            "marker": {
             "colorbar": {
              "outlinewidth": 0,
              "ticks": ""
             }
            },
            "type": "scattercarpet"
           }
          ],
          "scattergeo": [
           {
            "marker": {
             "colorbar": {
              "outlinewidth": 0,
              "ticks": ""
             }
            },
            "type": "scattergeo"
           }
          ],
          "scattergl": [
           {
            "marker": {
             "colorbar": {
              "outlinewidth": 0,
              "ticks": ""
             }
            },
            "type": "scattergl"
           }
          ],
          "scattermap": [
           {
            "marker": {
             "colorbar": {
              "outlinewidth": 0,
              "ticks": ""
             }
            },
            "type": "scattermap"
           }
          ],
          "scattermapbox": [
           {
            "marker": {
             "colorbar": {
              "outlinewidth": 0,
              "ticks": ""
             }
            },
            "type": "scattermapbox"
           }
          ],
          "scatterpolar": [
           {
            "marker": {
             "colorbar": {
              "outlinewidth": 0,
              "ticks": ""
             }
            },
            "type": "scatterpolar"
           }
          ],
          "scatterpolargl": [
           {
            "marker": {
             "colorbar": {
              "outlinewidth": 0,
              "ticks": ""
             }
            },
            "type": "scatterpolargl"
           }
          ],
          "scatterternary": [
           {
            "marker": {
             "colorbar": {
              "outlinewidth": 0,
              "ticks": ""
             }
            },
            "type": "scatterternary"
           }
          ],
          "surface": [
           {
            "colorbar": {
             "outlinewidth": 0,
             "ticks": ""
            },
            "colorscale": [
             [
              0,
              "#0d0887"
             ],
             [
              0.1111111111111111,
              "#46039f"
             ],
             [
              0.2222222222222222,
              "#7201a8"
             ],
             [
              0.3333333333333333,
              "#9c179e"
             ],
             [
              0.4444444444444444,
              "#bd3786"
             ],
             [
              0.5555555555555556,
              "#d8576b"
             ],
             [
              0.6666666666666666,
              "#ed7953"
             ],
             [
              0.7777777777777778,
              "#fb9f3a"
             ],
             [
              0.8888888888888888,
              "#fdca26"
             ],
             [
              1,
              "#f0f921"
             ]
            ],
            "type": "surface"
           }
          ],
          "table": [
           {
            "cells": {
             "fill": {
              "color": "#EBF0F8"
             },
             "line": {
              "color": "white"
             }
            },
            "header": {
             "fill": {
              "color": "#C8D4E3"
             },
             "line": {
              "color": "white"
             }
            },
            "type": "table"
           }
          ]
         },
         "layout": {
          "annotationdefaults": {
           "arrowcolor": "#2a3f5f",
           "arrowhead": 0,
           "arrowwidth": 1
          },
          "autotypenumbers": "strict",
          "coloraxis": {
           "colorbar": {
            "outlinewidth": 0,
            "ticks": ""
           }
          },
          "colorscale": {
           "diverging": [
            [
             0,
             "#8e0152"
            ],
            [
             0.1,
             "#c51b7d"
            ],
            [
             0.2,
             "#de77ae"
            ],
            [
             0.3,
             "#f1b6da"
            ],
            [
             0.4,
             "#fde0ef"
            ],
            [
             0.5,
             "#f7f7f7"
            ],
            [
             0.6,
             "#e6f5d0"
            ],
            [
             0.7,
             "#b8e186"
            ],
            [
             0.8,
             "#7fbc41"
            ],
            [
             0.9,
             "#4d9221"
            ],
            [
             1,
             "#276419"
            ]
           ],
           "sequential": [
            [
             0,
             "#0d0887"
            ],
            [
             0.1111111111111111,
             "#46039f"
            ],
            [
             0.2222222222222222,
             "#7201a8"
            ],
            [
             0.3333333333333333,
             "#9c179e"
            ],
            [
             0.4444444444444444,
             "#bd3786"
            ],
            [
             0.5555555555555556,
             "#d8576b"
            ],
            [
             0.6666666666666666,
             "#ed7953"
            ],
            [
             0.7777777777777778,
             "#fb9f3a"
            ],
            [
             0.8888888888888888,
             "#fdca26"
            ],
            [
             1,
             "#f0f921"
            ]
           ],
           "sequentialminus": [
            [
             0,
             "#0d0887"
            ],
            [
             0.1111111111111111,
             "#46039f"
            ],
            [
             0.2222222222222222,
             "#7201a8"
            ],
            [
             0.3333333333333333,
             "#9c179e"
            ],
            [
             0.4444444444444444,
             "#bd3786"
            ],
            [
             0.5555555555555556,
             "#d8576b"
            ],
            [
             0.6666666666666666,
             "#ed7953"
            ],
            [
             0.7777777777777778,
             "#fb9f3a"
            ],
            [
             0.8888888888888888,
             "#fdca26"
            ],
            [
             1,
             "#f0f921"
            ]
           ]
          },
          "colorway": [
           "#636efa",
           "#EF553B",
           "#00cc96",
           "#ab63fa",
           "#FFA15A",
           "#19d3f3",
           "#FF6692",
           "#B6E880",
           "#FF97FF",
           "#FECB52"
          ],
          "font": {
           "color": "#2a3f5f"
          },
          "geo": {
           "bgcolor": "white",
           "lakecolor": "white",
           "landcolor": "#E5ECF6",
           "showlakes": true,
           "showland": true,
           "subunitcolor": "white"
          },
          "hoverlabel": {
           "align": "left"
          },
          "hovermode": "closest",
          "mapbox": {
           "style": "light"
          },
          "paper_bgcolor": "white",
          "plot_bgcolor": "#E5ECF6",
          "polar": {
           "angularaxis": {
            "gridcolor": "white",
            "linecolor": "white",
            "ticks": ""
           },
           "bgcolor": "#E5ECF6",
           "radialaxis": {
            "gridcolor": "white",
            "linecolor": "white",
            "ticks": ""
           }
          },
          "scene": {
           "xaxis": {
            "backgroundcolor": "#E5ECF6",
            "gridcolor": "white",
            "gridwidth": 2,
            "linecolor": "white",
            "showbackground": true,
            "ticks": "",
            "zerolinecolor": "white"
           },
           "yaxis": {
            "backgroundcolor": "#E5ECF6",
            "gridcolor": "white",
            "gridwidth": 2,
            "linecolor": "white",
            "showbackground": true,
            "ticks": "",
            "zerolinecolor": "white"
           },
           "zaxis": {
            "backgroundcolor": "#E5ECF6",
            "gridcolor": "white",
            "gridwidth": 2,
            "linecolor": "white",
            "showbackground": true,
            "ticks": "",
            "zerolinecolor": "white"
           }
          },
          "shapedefaults": {
           "line": {
            "color": "#2a3f5f"
           }
          },
          "ternary": {
           "aaxis": {
            "gridcolor": "white",
            "linecolor": "white",
            "ticks": ""
           },
           "baxis": {
            "gridcolor": "white",
            "linecolor": "white",
            "ticks": ""
           },
           "bgcolor": "#E5ECF6",
           "caxis": {
            "gridcolor": "white",
            "linecolor": "white",
            "ticks": ""
           }
          },
          "title": {
           "x": 0.05
          },
          "xaxis": {
           "automargin": true,
           "gridcolor": "white",
           "linecolor": "white",
           "ticks": "",
           "title": {
            "standoff": 15
           },
           "zerolinecolor": "white",
           "zerolinewidth": 2
          },
          "yaxis": {
           "automargin": true,
           "gridcolor": "white",
           "linecolor": "white",
           "ticks": "",
           "title": {
            "standoff": 15
           },
           "zerolinecolor": "white",
           "zerolinewidth": 2
          }
         }
        },
        "title": {
         "text": "Slice Plot"
        },
        "width": 2400,
        "xaxis": {
         "anchor": "y",
         "domain": [
          0,
          0.103125
         ],
         "title": {
          "text": "colsample_bylevel"
         }
        },
        "xaxis2": {
         "anchor": "y2",
         "domain": [
          0.128125,
          0.23124999999999998
         ],
         "title": {
          "text": "depth"
         }
        },
        "xaxis3": {
         "anchor": "y3",
         "domain": [
          0.25625,
          0.359375
         ],
         "title": {
          "text": "early_stopping_rounds"
         }
        },
        "xaxis4": {
         "anchor": "y4",
         "domain": [
          0.38437499999999997,
          0.48749999999999993
         ],
         "title": {
          "text": "iterations"
         }
        },
        "xaxis5": {
         "anchor": "y5",
         "domain": [
          0.5125,
          0.615625
         ],
         "title": {
          "text": "l2_leaf_reg"
         },
         "type": "log"
        },
        "xaxis6": {
         "anchor": "y6",
         "domain": [
          0.640625,
          0.74375
         ],
         "title": {
          "text": "learning_rate"
         },
         "type": "log"
        },
        "xaxis7": {
         "anchor": "y7",
         "domain": [
          0.76875,
          0.8718750000000001
         ],
         "title": {
          "text": "min_data_in_leaf"
         }
        },
        "xaxis8": {
         "anchor": "y8",
         "domain": [
          0.8968750000000001,
          1
         ],
         "title": {
          "text": "subsample"
         }
        },
        "yaxis": {
         "anchor": "x",
         "domain": [
          0,
          1
         ],
         "title": {
          "text": "Objective Value"
         }
        },
        "yaxis2": {
         "anchor": "x2",
         "domain": [
          0,
          1
         ],
         "matches": "y",
         "showticklabels": false
        },
        "yaxis3": {
         "anchor": "x3",
         "domain": [
          0,
          1
         ],
         "matches": "y",
         "showticklabels": false
        },
        "yaxis4": {
         "anchor": "x4",
         "domain": [
          0,
          1
         ],
         "matches": "y",
         "showticklabels": false
        },
        "yaxis5": {
         "anchor": "x5",
         "domain": [
          0,
          1
         ],
         "matches": "y",
         "showticklabels": false
        },
        "yaxis6": {
         "anchor": "x6",
         "domain": [
          0,
          1
         ],
         "matches": "y",
         "showticklabels": false
        },
        "yaxis7": {
         "anchor": "x7",
         "domain": [
          0,
          1
         ],
         "matches": "y",
         "showticklabels": false
        },
        "yaxis8": {
         "anchor": "x8",
         "domain": [
          0,
          1
         ],
         "matches": "y",
         "showticklabels": false
        }
       }
      }
     },
     "metadata": {},
     "output_type": "display_data"
    }
   ],
   "source": [
    "#CATBOOST OPTUNA WITH ONEHOTENCODING\n",
    "price_column = df['price'] # Store price before dropping categorical columns\n",
    "\n",
    "# Now, drop the original categorical columns and set X and y\n",
    "# (The previous concat operation handled this by only taking numeric and one-hot)\n",
    "# So, X should be the combined numeric and one-hot df\n",
    "X = df.copy()\n",
    "# Re-add price column from original df if it was removed\n",
    "# Assuming price was NOT in `numeric_columns` or `categorical_columns`\n",
    "# and it was implicitly left out of the `df_numeric` selection.\n",
    "# If `price` is truly only the target, it shouldn't be in `X`.\n",
    "if 'price' in X.columns:\n",
    "    y = X.pop(\"price\") # Extract price as target and remove from features\n",
    "else:\n",
    "    # This scenario means 'price' was likely excluded from numeric_columns\n",
    "    # and not part of categorical_columns. We need to get it from the original df.\n",
    "    y = pd.read_csv(\"data/nonull_smalldata.csv\")[\"price\"]\n",
    "    # Adjust X to ensure index alignment with y if `df` (X) was re-created without `price`\n",
    "    X = df.copy() # X now contains only features\n",
    "\n",
    "# Align indices just in case\n",
    "X.reset_index(drop=True, inplace=True)\n",
    "y.reset_index(drop=True, inplace=True)\n",
    "\n",
    "\n",
    "print(\"\\nFeatures (X) shape after encoding:\", X.shape)\n",
    "print(\"Target (y) shape:\", y.shape)\n",
    "\n",
    "# Split data into training, validation, and test sets\n",
    "X_train, X_temp, y_train, y_temp = train_test_split(X, y, test_size=0.3, random_state=1234)\n",
    "X_val, X_test, y_val, y_test = train_test_split(X_temp, y_temp, test_size=0.5, random_state=1234)\n",
    "\n",
    "print(\"\\nData splitting complete.\")\n",
    "print(f\"X_train shape: {X_train.shape}, y_train shape: {y_train.shape}\")\n",
    "print(f\"X_val shape: {X_val.shape}, y_val shape: {y_val.shape}\")\n",
    "print(f\"X_test shape: {X_test.shape}, y_test shape: {y_test.shape}\")\n",
    "\n",
    "# CatBoost's strength is handling categorical features internally.\n",
    "# However, since you've already One-Hot Encoded them, CatBoost will treat them\n",
    "# as numerical features. This is perfectly fine, but you won't use CatBoost's\n",
    "# native categorical handling for these columns.\n",
    "# If you wanted to use native handling, you would pass `df[categorical_columns]` directly\n",
    "# and specify `cat_features` indices *before* one-hot encoding.\n",
    "# For this setup, there are no `cat_features` to pass to Pool, as they are already encoded.\n",
    "categorical_features_indices = []\n",
    "\n",
    "# Create CatBoost Pool objects for efficient data handling\n",
    "train_pool = Pool(X_train, y_train, cat_features=categorical_features_indices)\n",
    "val_pool = Pool(X_val, y_val, cat_features=categorical_features_indices)\n",
    "test_pool = Pool(X_test, y_test, cat_features=categorical_features_indices)\n",
    "\n",
    "print(\"--- Data Preprocessing Complete ---\")\n",
    "\n",
    "# --- 2. Define the Optuna Objective Function ---\n",
    "def objective(trial):\n",
    "    \"\"\"\n",
    "    Objective function for Optuna to optimize CatBoost hyperparameters.\n",
    "    It returns the validation RMSE for a given set of hyperparameters.\n",
    "    \"\"\"\n",
    "    params = {\n",
    "        \"iterations\": trial.suggest_int(\"iterations\", 100, 1000),\n",
    "        \"learning_rate\": trial.suggest_loguniform(\"learning_rate\", 1e-3, 0.3),\n",
    "        \"depth\": trial.suggest_int(\"depth\", 4, 10),\n",
    "        \"l2_leaf_reg\": trial.suggest_loguniform(\"l2_leaf_reg\", 1e-2, 10),\n",
    "        \"subsample\": trial.suggest_uniform(\"subsample\", 0.6, 1.0),\n",
    "        \"colsample_bylevel\": trial.suggest_uniform(\"colsample_bylevel\", 0.6, 1.0),\n",
    "        \"min_data_in_leaf\": trial.suggest_int(\"min_data_in_leaf\", 1, 30),\n",
    "        \"loss_function\": \"RMSE\",\n",
    "        \"eval_metric\": \"RMSE\",\n",
    "        \"random_seed\": 42,\n",
    "        \"verbose\": 0,\n",
    "        #\"od_type\": \"Iter\",\n",
    "        #\"od_wait\": trial.suggest_int(\"od_wait\", 10, 50),\n",
    "        \"early_stopping_rounds\": trial.suggest_int(\"early_stopping_rounds\", 10, 50),\n",
    "    }\n",
    "\n",
    "    model = CatBoostRegressor(**params)\n",
    "\n",
    "    pruning_callback = optuna.integration.CatBoostPruningCallback(trial, \"RMSE\")\n",
    "\n",
    "    try:\n",
    "        model.fit(\n",
    "            train_pool,\n",
    "            eval_set=val_pool,\n",
    "            early_stopping_rounds=params[\"early_stopping_rounds\"],\n",
    "            callbacks=[pruning_callback],\n",
    "            verbose=0\n",
    "        )\n",
    "    except optuna.exceptions.TrialPruned:\n",
    "        raise\n",
    "\n",
    "    val_predictions = model.predict(X_val)\n",
    "    rmse = np.sqrt(mean_squared_error(y_val, val_predictions))\n",
    "\n",
    "    return rmse\n",
    "\n",
    "# --- 3. Set up and Run Optuna Study ---\n",
    "if __name__ == \"__main__\":\n",
    "    optuna.logging.get_logger(\"optuna\").addHandler(logging.StreamHandler(sys.stdout))\n",
    "\n",
    "    study = optuna.create_study(\n",
    "        direction=\"minimize\",\n",
    "        sampler=optuna.samplers.TPESampler(seed=42),\n",
    "        pruner=optuna.pruners.MedianPruner(n_warmup_steps=10)\n",
    "    )\n",
    "\n",
    "    print(\"\\n--- Starting Optuna optimization ---\")\n",
    "    study.optimize(objective, n_trials=50, timeout=600) # Run 50 trials or for 10 minutes\n",
    "\n",
    "    print(\"\\n--- Optimization finished ---\")\n",
    "    print(f\"Number of finished trials: {len(study.trials)}\")\n",
    "    print(f\"Number of pruned trials: {len(study.get_trials(deepcopy=False, states=[optuna.trial.TrialState.PRUNED]))}\")\n",
    "\n",
    "    print(\"\\nBest trial:\")\n",
    "    trial = study.best_trial\n",
    "\n",
    "    print(f\"  Value (RMSE on validation set): {trial.value:.4f}\")\n",
    "    print(\"  Best Hyperparameters:\")\n",
    "    for key, value in trial.params.items():\n",
    "        print(f\"    {key}: {value}\")\n",
    "\n",
    "    # --- 4. Train the final model with the best hyperparameters ---\n",
    "    print(\"\\n--- Training final model with best hyperparameters ---\")\n",
    "    best_params = trial.params\n",
    "    best_params_for_final_model = {k: v for k, v in best_params.items() if k not in [\"od_wait\", \"early_stopping_rounds\"]}\n",
    "    best_params_for_final_model[\"iterations\"] = 10000 # Set a high number, rely on early stopping\n",
    "    best_params_for_final_model[\"verbose\"] = 100 # Show some progress\n",
    "    best_params_for_final_model[\"early_stopping_rounds\"] = 50 # Re-add for final training\n",
    "\n",
    "    final_cat_regressor = CatBoostRegressor(**best_params_for_final_model)\n",
    "\n",
    "    final_cat_regressor.fit(\n",
    "        train_pool,\n",
    "        eval_set=val_pool,\n",
    "        early_stopping_rounds=best_params_for_final_model[\"early_stopping_rounds\"],\n",
    "        verbose=best_params_for_final_model[\"verbose\"],\n",
    "    )\n",
    "\n",
    "    print(f\"Best iteration of final model: {final_cat_regressor.get_best_iteration()}\")\n",
    "\n",
    "    # --- 5. Evaluate the final model on the unseen test set ---\n",
    "    final_predictions = final_cat_regressor.predict(test_pool)\n",
    "\n",
    "    final_mse = mean_squared_error(y_test, final_predictions)\n",
    "    final_rmse = np.sqrt(final_mse)\n",
    "    final_r2 = r2_score(y_test, final_predictions)\n",
    "\n",
    "    print(f\"\\n--- Final Model Performance on Test Set ---\")\n",
    "    print(f\"  MSE: {final_mse:.4f}\")\n",
    "    print(f\"  RMSE: {final_rmse:.4f}\")\n",
    "    print(f\"  R-squared: {final_r2:.4f}\")\n",
    "\n",
    "    # Optionally, visualize the optimization process\n",
    "    try:\n",
    "        from optuna.visualization import plot_optimization_history, plot_parallel_coordinate, plot_slice\n",
    "        print(\"\\n--- Generating Optuna Visualizations (requires plotly and kaleido) ---\")\n",
    "        fig_history = plot_optimization_history(study)\n",
    "        fig_history.show()\n",
    "\n",
    "        fig_parallel = plot_parallel_coordinate(study)\n",
    "        fig_parallel.show()\n",
    "\n",
    "        fig_slice = plot_slice(study)\n",
    "        fig_slice.show()\n",
    "    except ImportError:\n",
    "        print(\"\\nInstall plotly and kaleido for Optuna visualizations: pip install plotly kaleido\")"
   ]
  },
  {
   "cell_type": "code",
   "execution_count": null,
   "id": "1a38b02f",
   "metadata": {},
   "outputs": [],
   "source": [
    "##  BEST PARAMS OF CATBOOST OPTUNA\n",
    "Best trial:\n",
    "  Value (RMSE on validation set): 191104.3786\n",
    "  Best Hyperparameters:\n",
    "    iterations: 821\n",
    "    learning_rate: 0.2801695218255082\n",
    "    depth: 10\n",
    "    l2_leaf_reg: 0.6670438837278988\n",
    "    subsample: 0.6378212262786854\n",
    "    colsample_bylevel: 0.7203717250461328\n",
    "    min_data_in_leaf: 29\n",
    "    early_stopping_rounds: 37"
   ]
  },
  {
   "cell_type": "code",
   "execution_count": null,
   "id": "e5851129",
   "metadata": {},
   "outputs": [],
   "source": [
    "###CATBOOSTOPTUNA WITHOUT ONEHOT \n",
    "import pandas as pd\n",
    "import numpy as np\n",
    "from sklearn.model_selection import train_test_split\n",
    "from sklearn.metrics import mean_squared_error, r2_score\n",
    "from catboost import CatBoostRegressor, Pool\n",
    "import optuna\n",
    "import logging\n",
    "import sys\n",
    "\n",
    "# --- 0. Data Loading and Preprocessing ---\n",
    "print(\"--- Starting Data Loading and Preprocessing ---\")\n",
    "df = pd.read_csv(\"data/nonull_smalldata.csv\")\n",
    "\n",
    "# Print columns and dtypes for verification\n",
    "print(\"\\nOriginal DataFrame Columns:\", df.columns.tolist())\n",
    "print(\"\\nOriginal DataFrame dtypes:\\n\", df.dtypes)\n",
    "\n",
    "numeric_columns = [\"bedroomCount\", \"toilet_and_bath\", \"habitableSurface\", \"facedeCount\", \"hasTerrace\", \"totalParkingCount\"]\n",
    "categorical_columns = [\"type\", \"subtype\", \"province\", \"locality\", \"postCode\", \"buildingCondition\", \"epcScore\"]\n",
    "\n",
    "# Ensure all specified columns exist in the DataFrame\n",
    "for col in numeric_columns + categorical_columns:\n",
    "    if col not in df.columns:\n",
    "        raise ValueError(f\"Column '{col}' not found in DataFrame.\")\n",
    "\n",
    "# Define X and y BEFORE any column modifications for clear separation\n",
    "X = df[numeric_columns + categorical_columns].copy() # Features\n",
    "y = df[\"price\"].copy() # Target\n",
    "\n",
    "# Identify categorical feature indices for CatBoost\n",
    "# We need the actual integer indices of these columns in the `X` DataFrame\n",
    "cat_features_indices = [X.columns.get_loc(col) for col in categorical_columns]\n",
    "\n",
    "print(f\"\\nIdentified categorical feature indices: {cat_features_indices}\")\n",
    "print(f\"Corresponding categorical column names: {[X.columns[i] for i in cat_features_indices]}\")\n",
    "\n",
    "print(\"\\nFeatures (X) shape:\", X.shape)\n",
    "print(\"Target (y) shape:\", y.shape)\n",
    "\n",
    "# Split data into training, validation, and test sets\n",
    "# Ensure random_state is used for reproducibility\n",
    "X_train, X_temp, y_train, y_temp = train_test_split(X, y, test_size=0.3, random_state=1234)\n",
    "X_val, X_test, y_val, y_test = train_test_split(X_temp, y_temp, test_size=0.5, random_state=1234)\n",
    "\n",
    "print(\"\\nData splitting complete.\")\n",
    "print(f\"X_train shape: {X_train.shape}, y_train shape: {y_train.shape}\")\n",
    "print(f\"X_val shape: {X_val.shape}, y_val shape: {y_val.shape}\")\n",
    "print(f\"X_test shape: {X_test.shape}, y_test shape: {y_test.shape}\")\n",
    "\n",
    "# Create CatBoost Pool objects, passing the categorical feature indices\n",
    "train_pool = Pool(X_train, y_train, cat_features=cat_features_indices)\n",
    "val_pool = Pool(X_val, y_val, cat_features=cat_features_indices)\n",
    "test_pool = Pool(X_test, y_test, cat_features=cat_features_indices)\n",
    "\n",
    "print(\"--- Data Preprocessing Complete ---\")\n",
    "\n",
    "# --- 2. Define the Optuna Objective Function ---\n",
    "def objective(trial):\n",
    "    \"\"\"\n",
    "    Objective function for Optuna to optimize CatBoost hyperparameters.\n",
    "    It returns the validation RMSE for a given set of hyperparameters.\n",
    "    \"\"\"\n",
    "    params = {\n",
    "        \"iterations\": trial.suggest_int(\"iterations\", 100, 1000),\n",
    "        \"learning_rate\": trial.suggest_loguniform(\"learning_rate\", 1e-3, 0.3),\n",
    "        \"depth\": trial.suggest_int(\"depth\", 4, 10),\n",
    "        \"l2_leaf_reg\": trial.suggest_loguniform(\"l2_leaf_reg\", 1e-2, 10),\n",
    "        \"subsample\": trial.suggest_uniform(\"subsample\", 0.6, 1.0),\n",
    "        \"colsample_bylevel\": trial.suggest_uniform(\"colsample_bylevel\", 0.6, 1.0),\n",
    "        \"min_data_in_leaf\": trial.suggest_int(\"min_data_in_leaf\", 1, 30),\n",
    "        \"loss_function\": \"RMSE\",\n",
    "        \"eval_metric\": \"RMSE\",\n",
    "        \"random_seed\": 42,\n",
    "        \"verbose\": 0,\n",
    "        \"early_stopping_rounds\": trial.suggest_int(\"early_stopping_rounds\", 10, 50),\n",
    "    }\n",
    "\n",
    "    model = CatBoostRegressor(**params)\n",
    "\n",
    "    pruning_callback = optuna.integration.CatBoostPruningCallback(trial, \"RMSE\")\n",
    "\n",
    "    try:\n",
    "        model.fit(\n",
    "            train_pool,\n",
    "            eval_set=val_pool,\n",
    "            early_stopping_rounds=params[\"early_stopping_rounds\"],\n",
    "            callbacks=[pruning_callback],\n",
    "            verbose=0 # Suppress verbose output during tuning\n",
    "        )\n",
    "    except optuna.exceptions.TrialPruned:\n",
    "        raise\n",
    "\n",
    "    val_predictions = model.predict(X_val) # Predict on X_val directly for evaluation\n",
    "    rmse = np.sqrt(mean_squared_error(y_val, val_predictions))\n",
    "\n",
    "    return rmse\n",
    "\n",
    "# --- 3. Set up and Run Optuna Study ---\n",
    "if __name__ == \"__main__\":\n",
    "    optuna.logging.get_logger(\"optuna\").addHandler(logging.StreamHandler(sys.stdout))\n",
    "\n",
    "    study = optuna.create_study(\n",
    "        direction=\"minimize\",\n",
    "        sampler=optuna.samplers.TPESampler(seed=42),\n",
    "        pruner=optuna.pruners.MedianPruner(n_warmup_steps=10)\n",
    "    )\n",
    "\n",
    "    print(\"\\n--- Starting Optuna optimization ---\")\n",
    "    study.optimize(objective, n_trials=50, timeout=600) # Run 50 trials or for 10 minutes\n",
    "\n",
    "    print(\"\\n--- Optimization finished ---\")\n",
    "    print(f\"Number of finished trials: {len(study.trials)}\")\n",
    "    print(f\"Number of pruned trials: {len(study.get_trials(deepcopy=False, states=[optuna.trial.TrialState.PRUNED]))}\")\n",
    "\n",
    "    print(\"\\nBest trial:\")\n",
    "    trial = study.best_trial\n",
    "\n",
    "    print(f\"  Value (RMSE on validation set): {trial.value:.4f}\")\n",
    "    print(\"  Best Hyperparameters:\")\n",
    "    for key, value in trial.params.items():\n",
    "        print(f\"    {key}: {value}\")\n",
    "\n",
    "    # --- 4. Train the final model with the best hyperparameters ---\n",
    "    print(\"\\n--- Training final model with best hyperparameters ---\")\n",
    "    best_params = trial.params\n",
    "    best_params_for_final_model = {k: v for k, v in best_params.items() if k != \"early_stopping_rounds\"}\n",
    "\n",
    "    best_params_for_final_model[\"iterations\"] = 10000 # Set a high number, rely on early stopping\n",
    "    best_params_for_final_model[\"verbose\"] = 100 # Show some progress for the final training\n",
    "\n",
    "    final_cat_regressor = CatBoostRegressor(**best_params_for_final_model)\n",
    "\n",
    "    final_cat_regressor.fit(\n",
    "        train_pool,\n",
    "        eval_set=val_pool,\n",
    "        early_stopping_rounds=best_params[\"early_stopping_rounds\"], # Use the best found early stopping\n",
    "        verbose=best_params_for_final_model[\"verbose\"],\n",
    "    )\n",
    "\n",
    "    print(f\"Best iteration of final model: {final_cat_regressor.get_best_iteration()}\")\n",
    "\n",
    "    # --- 5. Evaluate the final model on the unseen test set ---\n",
    "    final_predictions = final_cat_regressor.predict(test_pool)\n",
    "\n",
    "    final_mse = mean_squared_error(y_test, final_predictions)\n",
    "    final_rmse = np.sqrt(final_mse)\n",
    "    final_r2 = r2_score(y_test, final_predictions)\n",
    "\n",
    "    print(f\"\\n--- Final Model Performance on Test Set ---\")\n",
    "    print(f\"  MSE: {final_mse:.4f}\")\n",
    "    print(f\"  RMSE: {final_rmse:.4f}\")\n",
    "    print(f\"  R-squared: {final_r2:.4f}\")\n",
    "\n",
    "    # Optionally, visualize the optimization process\n",
    "    try:\n",
    "        from optuna.visualization import plot_optimization_history, plot_parallel_coordinate, plot_slice\n",
    "        print(\"\\n--- Generating Optuna Visualizations (requires plotly and kaleido) ---\")\n",
    "        fig_history = plot_optimization_history(study)\n",
    "        fig_history.show()\n",
    "\n",
    "        fig_parallel = plot_parallel_coordinate(study)\n",
    "        fig_parallel.show()\n",
    "\n",
    "        fig_slice = plot_slice(study)\n",
    "        fig_slice.show()\n",
    "    except ImportError:\n",
    "        print(\"\\nInstall plotly and kaleido for Optuna visualizations: pip install plotly kaleido\")"
   ]
  },
  {
   "cell_type": "code",
   "execution_count": null,
   "id": "300718e7",
   "metadata": {},
   "outputs": [],
   "source": []
  },
  {
   "cell_type": "code",
   "execution_count": null,
   "id": "a891ccde",
   "metadata": {},
   "outputs": [],
   "source": []
  },
  {
   "cell_type": "code",
   "execution_count": 5,
   "id": "e969a0a7",
   "metadata": {},
   "outputs": [
    {
     "name": "stdout",
     "output_type": "stream",
     "text": [
      "--- Starting Data Loading and Preprocessing ---\n",
      "\n",
      "Original DataFrame Columns: ['type', 'subtype', 'bedroomCount', 'toilet_and_bath', 'province', 'locality', 'postCode', 'habitableSurface', 'buildingCondition', 'facedeCount', 'hasTerrace', 'epcScore', 'price', 'totalParkingCount']\n",
      "\n",
      "Original DataFrame dtypes:\n",
      " type                  object\n",
      "subtype               object\n",
      "bedroomCount         float64\n",
      "toilet_and_bath      float64\n",
      "province              object\n",
      "locality              object\n",
      "postCode               int64\n",
      "habitableSurface     float64\n",
      "buildingCondition     object\n",
      "facedeCount          float64\n",
      "hasTerrace              bool\n",
      "epcScore              object\n",
      "price                float64\n",
      "totalParkingCount    float64\n",
      "dtype: object\n",
      "\n",
      "Features (X) shape after encoding: (56005, 4620)\n",
      "Target (y) shape: (56005,)\n"
     ]
    },
    {
     "name": "stderr",
     "output_type": "stream",
     "text": [
      "[I 2025-06-30 18:36:20,821] A new study created in memory with name: no-name-2fe33898-63d0-45f2-8536-0ec8089acdfe\n"
     ]
    },
    {
     "name": "stdout",
     "output_type": "stream",
     "text": [
      "\n",
      "Data splitting complete.\n",
      "X_train shape: (39203, 4620), y_train shape: (39203,)\n",
      "X_val shape: (8401, 4620), y_val shape: (8401,)\n",
      "X_test shape: (8401, 4620), y_test shape: (8401,)\n",
      "--- Data Preprocessing Complete ---\n",
      "A new study created in memory with name: no-name-2fe33898-63d0-45f2-8536-0ec8089acdfe\n",
      "A new study created in memory with name: no-name-2fe33898-63d0-45f2-8536-0ec8089acdfe\n",
      "A new study created in memory with name: no-name-2fe33898-63d0-45f2-8536-0ec8089acdfe\n",
      "A new study created in memory with name: no-name-2fe33898-63d0-45f2-8536-0ec8089acdfe\n",
      "Starting Optuna optimization for XGBoost (Version 3.0.2)...\n"
     ]
    },
    {
     "name": "stderr",
     "output_type": "stream",
     "text": [
      "C:\\Users\\preet\\AppData\\Local\\Temp\\ipykernel_29912\\3214107848.py:71: FutureWarning: suggest_loguniform has been deprecated in v3.0.0. This feature will be removed in v6.0.0. See https://github.com/optuna/optuna/releases/tag/v3.0.0. Use suggest_float(..., log=True) instead.\n",
      "  \"learning_rate\": trial.suggest_loguniform(\"learning_rate\", 1e-3, 0.3),\n",
      "C:\\Users\\preet\\AppData\\Local\\Temp\\ipykernel_29912\\3214107848.py:73: FutureWarning: suggest_uniform has been deprecated in v3.0.0. This feature will be removed in v6.0.0. See https://github.com/optuna/optuna/releases/tag/v3.0.0. Use suggest_float instead.\n",
      "  \"subsample\": trial.suggest_uniform(\"subsample\", 0.6, 1.0),\n",
      "C:\\Users\\preet\\AppData\\Local\\Temp\\ipykernel_29912\\3214107848.py:74: FutureWarning: suggest_uniform has been deprecated in v3.0.0. This feature will be removed in v6.0.0. See https://github.com/optuna/optuna/releases/tag/v3.0.0. Use suggest_float instead.\n",
      "  \"colsample_bytree\": trial.suggest_uniform(\"colsample_bytree\", 0.6, 1.0),\n",
      "C:\\Users\\preet\\AppData\\Local\\Temp\\ipykernel_29912\\3214107848.py:75: FutureWarning: suggest_loguniform has been deprecated in v3.0.0. This feature will be removed in v6.0.0. See https://github.com/optuna/optuna/releases/tag/v3.0.0. Use suggest_float(..., log=True) instead.\n",
      "  \"gamma\": trial.suggest_loguniform(\"gamma\", 1e-8, 1.0),\n",
      "C:\\Users\\preet\\AppData\\Local\\Temp\\ipykernel_29912\\3214107848.py:76: FutureWarning: suggest_loguniform has been deprecated in v3.0.0. This feature will be removed in v6.0.0. See https://github.com/optuna/optuna/releases/tag/v3.0.0. Use suggest_float(..., log=True) instead.\n",
      "  \"min_child_weight\": trial.suggest_loguniform(\"min_child_weight\", 1e-2, 10),\n",
      "C:\\Users\\preet\\AppData\\Local\\Temp\\ipykernel_29912\\3214107848.py:77: FutureWarning: suggest_loguniform has been deprecated in v3.0.0. This feature will be removed in v6.0.0. See https://github.com/optuna/optuna/releases/tag/v3.0.0. Use suggest_float(..., log=True) instead.\n",
      "  \"reg_alpha\": trial.suggest_loguniform(\"reg_alpha\", 1e-8, 1.0),\n",
      "C:\\Users\\preet\\AppData\\Local\\Temp\\ipykernel_29912\\3214107848.py:78: FutureWarning: suggest_loguniform has been deprecated in v3.0.0. This feature will be removed in v6.0.0. See https://github.com/optuna/optuna/releases/tag/v3.0.0. Use suggest_float(..., log=True) instead.\n",
      "  \"reg_lambda\": trial.suggest_loguniform(\"reg_lambda\", 1e-8, 1.0),\n",
      "[I 2025-06-30 18:39:55,712] Trial 0 finished with value: 259665.94784065822 and parameters: {'n_estimators': 437, 'learning_rate': 0.22648248189516848, 'max_depth': 8, 'subsample': 0.8394633936788146, 'colsample_bytree': 0.6624074561769746, 'gamma': 1.7699302940633311e-07, 'min_child_weight': 0.014936568554617643, 'reg_alpha': 0.08499808989182997, 'reg_lambda': 0.0006440507553993703}. Best is trial 0 with value: 259665.94784065822.\n"
     ]
    },
    {
     "name": "stdout",
     "output_type": "stream",
     "text": [
      "Trial 0 finished with value: 259665.94784065822 and parameters: {'n_estimators': 437, 'learning_rate': 0.22648248189516848, 'max_depth': 8, 'subsample': 0.8394633936788146, 'colsample_bytree': 0.6624074561769746, 'gamma': 1.7699302940633311e-07, 'min_child_weight': 0.014936568554617643, 'reg_alpha': 0.08499808989182997, 'reg_lambda': 0.0006440507553993703}. Best is trial 0 with value: 259665.94784065822.\n",
      "Trial 0 finished with value: 259665.94784065822 and parameters: {'n_estimators': 437, 'learning_rate': 0.22648248189516848, 'max_depth': 8, 'subsample': 0.8394633936788146, 'colsample_bytree': 0.6624074561769746, 'gamma': 1.7699302940633311e-07, 'min_child_weight': 0.014936568554617643, 'reg_alpha': 0.08499808989182997, 'reg_lambda': 0.0006440507553993703}. Best is trial 0 with value: 259665.94784065822.\n",
      "Trial 0 finished with value: 259665.94784065822 and parameters: {'n_estimators': 437, 'learning_rate': 0.22648248189516848, 'max_depth': 8, 'subsample': 0.8394633936788146, 'colsample_bytree': 0.6624074561769746, 'gamma': 1.7699302940633311e-07, 'min_child_weight': 0.014936568554617643, 'reg_alpha': 0.08499808989182997, 'reg_lambda': 0.0006440507553993703}. Best is trial 0 with value: 259665.94784065822.\n",
      "Trial 0 finished with value: 259665.94784065822 and parameters: {'n_estimators': 437, 'learning_rate': 0.22648248189516848, 'max_depth': 8, 'subsample': 0.8394633936788146, 'colsample_bytree': 0.6624074561769746, 'gamma': 1.7699302940633311e-07, 'min_child_weight': 0.014936568554617643, 'reg_alpha': 0.08499808989182997, 'reg_lambda': 0.0006440507553993703}. Best is trial 0 with value: 259665.94784065822.\n"
     ]
    },
    {
     "name": "stderr",
     "output_type": "stream",
     "text": [
      "C:\\Users\\preet\\AppData\\Local\\Temp\\ipykernel_29912\\3214107848.py:71: FutureWarning: suggest_loguniform has been deprecated in v3.0.0. This feature will be removed in v6.0.0. See https://github.com/optuna/optuna/releases/tag/v3.0.0. Use suggest_float(..., log=True) instead.\n",
      "  \"learning_rate\": trial.suggest_loguniform(\"learning_rate\", 1e-3, 0.3),\n",
      "C:\\Users\\preet\\AppData\\Local\\Temp\\ipykernel_29912\\3214107848.py:73: FutureWarning: suggest_uniform has been deprecated in v3.0.0. This feature will be removed in v6.0.0. See https://github.com/optuna/optuna/releases/tag/v3.0.0. Use suggest_float instead.\n",
      "  \"subsample\": trial.suggest_uniform(\"subsample\", 0.6, 1.0),\n",
      "C:\\Users\\preet\\AppData\\Local\\Temp\\ipykernel_29912\\3214107848.py:74: FutureWarning: suggest_uniform has been deprecated in v3.0.0. This feature will be removed in v6.0.0. See https://github.com/optuna/optuna/releases/tag/v3.0.0. Use suggest_float instead.\n",
      "  \"colsample_bytree\": trial.suggest_uniform(\"colsample_bytree\", 0.6, 1.0),\n",
      "C:\\Users\\preet\\AppData\\Local\\Temp\\ipykernel_29912\\3214107848.py:75: FutureWarning: suggest_loguniform has been deprecated in v3.0.0. This feature will be removed in v6.0.0. See https://github.com/optuna/optuna/releases/tag/v3.0.0. Use suggest_float(..., log=True) instead.\n",
      "  \"gamma\": trial.suggest_loguniform(\"gamma\", 1e-8, 1.0),\n",
      "C:\\Users\\preet\\AppData\\Local\\Temp\\ipykernel_29912\\3214107848.py:76: FutureWarning: suggest_loguniform has been deprecated in v3.0.0. This feature will be removed in v6.0.0. See https://github.com/optuna/optuna/releases/tag/v3.0.0. Use suggest_float(..., log=True) instead.\n",
      "  \"min_child_weight\": trial.suggest_loguniform(\"min_child_weight\", 1e-2, 10),\n",
      "C:\\Users\\preet\\AppData\\Local\\Temp\\ipykernel_29912\\3214107848.py:77: FutureWarning: suggest_loguniform has been deprecated in v3.0.0. This feature will be removed in v6.0.0. See https://github.com/optuna/optuna/releases/tag/v3.0.0. Use suggest_float(..., log=True) instead.\n",
      "  \"reg_alpha\": trial.suggest_loguniform(\"reg_alpha\", 1e-8, 1.0),\n",
      "C:\\Users\\preet\\AppData\\Local\\Temp\\ipykernel_29912\\3214107848.py:78: FutureWarning: suggest_loguniform has been deprecated in v3.0.0. This feature will be removed in v6.0.0. See https://github.com/optuna/optuna/releases/tag/v3.0.0. Use suggest_float(..., log=True) instead.\n",
      "  \"reg_lambda\": trial.suggest_loguniform(\"reg_lambda\", 1e-8, 1.0),\n",
      "[I 2025-06-30 18:49:16,213] Trial 1 finished with value: 346406.8839108318 and parameters: {'n_estimators': 737, 'learning_rate': 0.001124579825911934, 'max_depth': 10, 'subsample': 0.9329770563201687, 'colsample_bytree': 0.6849356442713105, 'gamma': 2.8483918709107956e-07, 'min_child_weight': 0.03549878832196503, 'reg_alpha': 2.716051144654844e-06, 'reg_lambda': 0.00015777981883364995}. Best is trial 0 with value: 259665.94784065822.\n"
     ]
    },
    {
     "name": "stdout",
     "output_type": "stream",
     "text": [
      "Trial 1 finished with value: 346406.8839108318 and parameters: {'n_estimators': 737, 'learning_rate': 0.001124579825911934, 'max_depth': 10, 'subsample': 0.9329770563201687, 'colsample_bytree': 0.6849356442713105, 'gamma': 2.8483918709107956e-07, 'min_child_weight': 0.03549878832196503, 'reg_alpha': 2.716051144654844e-06, 'reg_lambda': 0.00015777981883364995}. Best is trial 0 with value: 259665.94784065822.\n",
      "Trial 1 finished with value: 346406.8839108318 and parameters: {'n_estimators': 737, 'learning_rate': 0.001124579825911934, 'max_depth': 10, 'subsample': 0.9329770563201687, 'colsample_bytree': 0.6849356442713105, 'gamma': 2.8483918709107956e-07, 'min_child_weight': 0.03549878832196503, 'reg_alpha': 2.716051144654844e-06, 'reg_lambda': 0.00015777981883364995}. Best is trial 0 with value: 259665.94784065822.\n",
      "Trial 1 finished with value: 346406.8839108318 and parameters: {'n_estimators': 737, 'learning_rate': 0.001124579825911934, 'max_depth': 10, 'subsample': 0.9329770563201687, 'colsample_bytree': 0.6849356442713105, 'gamma': 2.8483918709107956e-07, 'min_child_weight': 0.03549878832196503, 'reg_alpha': 2.716051144654844e-06, 'reg_lambda': 0.00015777981883364995}. Best is trial 0 with value: 259665.94784065822.\n",
      "Trial 1 finished with value: 346406.8839108318 and parameters: {'n_estimators': 737, 'learning_rate': 0.001124579825911934, 'max_depth': 10, 'subsample': 0.9329770563201687, 'colsample_bytree': 0.6849356442713105, 'gamma': 2.8483918709107956e-07, 'min_child_weight': 0.03549878832196503, 'reg_alpha': 2.716051144654844e-06, 'reg_lambda': 0.00015777981883364995}. Best is trial 0 with value: 259665.94784065822.\n",
      "\n",
      "Optimization finished.\n",
      "Number of finished trials: 2\n",
      "Number of pruned trials: 0\n",
      "\n",
      "Best trial:\n",
      "  Value (RMSE on validation set): 259665.9478\n",
      "  Best Hyperparameters:\n",
      "    n_estimators: 437\n",
      "    learning_rate: 0.22648248189516848\n",
      "    max_depth: 8\n",
      "    subsample: 0.8394633936788146\n",
      "    colsample_bytree: 0.6624074561769746\n",
      "    gamma: 1.7699302940633311e-07\n",
      "    min_child_weight: 0.014936568554617643\n",
      "    reg_alpha: 0.08499808989182997\n",
      "    reg_lambda: 0.0006440507553993703\n",
      "\n",
      "Training final model with best hyperparameters...\n"
     ]
    },
    {
     "ename": "TypeError",
     "evalue": "EarlyStopping.__init__() got an unexpected keyword argument 'verbose'",
     "output_type": "error",
     "traceback": [
      "\u001b[1;31m---------------------------------------------------------------------------\u001b[0m",
      "\u001b[1;31mTypeError\u001b[0m                                 Traceback (most recent call last)",
      "Cell \u001b[1;32mIn[5], line 157\u001b[0m\n\u001b[0;32m    155\u001b[0m \u001b[38;5;66;03m# Define early stopping callback for the final model training\u001b[39;00m\n\u001b[0;32m    156\u001b[0m final_early_stopping_rounds \u001b[38;5;241m=\u001b[39m \u001b[38;5;241m50\u001b[39m \u001b[38;5;66;03m# You can keep this fixed or use a value from tuning\u001b[39;00m\n\u001b[1;32m--> 157\u001b[0m final_early_stopping_callback \u001b[38;5;241m=\u001b[39m EarlyStopping(\n\u001b[0;32m    158\u001b[0m     rounds\u001b[38;5;241m=\u001b[39mfinal_early_stopping_rounds,\n\u001b[0;32m    159\u001b[0m     metric_name\u001b[38;5;241m=\u001b[39m\u001b[38;5;124m\"\u001b[39m\u001b[38;5;124mvalidation_0-rmse\u001b[39m\u001b[38;5;124m\"\u001b[39m,\n\u001b[0;32m    160\u001b[0m     data_name\u001b[38;5;241m=\u001b[39m\u001b[38;5;124m\"\u001b[39m\u001b[38;5;124mvalidation_0\u001b[39m\u001b[38;5;124m\"\u001b[39m,\n\u001b[0;32m    161\u001b[0m     maximize\u001b[38;5;241m=\u001b[39m\u001b[38;5;28;01mFalse\u001b[39;00m,\n\u001b[0;32m    162\u001b[0m     verbose\u001b[38;5;241m=\u001b[39m\u001b[38;5;28;01mTrue\u001b[39;00m \u001b[38;5;66;03m# Set to True to see final model training progress\u001b[39;00m\n\u001b[0;32m    163\u001b[0m )\n\u001b[0;32m    165\u001b[0m final_xgb_regressor\u001b[38;5;241m.\u001b[39mfit(\n\u001b[0;32m    166\u001b[0m     X_train, y_train,\n\u001b[0;32m    167\u001b[0m     eval_set\u001b[38;5;241m=\u001b[39m[(X_val, y_val)], \u001b[38;5;66;03m# Use validation set for early stopping\u001b[39;00m\n\u001b[0;32m    168\u001b[0m     \u001b[38;5;66;03m#callbacks=[final_early_stopping_callback], # Pass the callback here\u001b[39;00m\n\u001b[0;32m    169\u001b[0m    \u001b[38;5;66;03m# verbose=False # Verbosity of fitting is controlled by the callback's verbose setting\u001b[39;00m\n\u001b[0;32m    170\u001b[0m )\n\u001b[0;32m    172\u001b[0m \u001b[38;5;66;03m# The best iteration from early stopping is automatically used for predictions\u001b[39;00m\n",
      "File \u001b[1;32mc:\\Users\\preet\\Anaconda\\anaconda3\\Lib\\site-packages\\xgboost\\core.py:729\u001b[0m, in \u001b[0;36mrequire_keyword_args.<locals>.throw_if.<locals>.inner_f\u001b[1;34m(*args, **kwargs)\u001b[0m\n\u001b[0;32m    727\u001b[0m \u001b[38;5;28;01mfor\u001b[39;00m k, arg \u001b[38;5;129;01min\u001b[39;00m \u001b[38;5;28mzip\u001b[39m(sig\u001b[38;5;241m.\u001b[39mparameters, args):\n\u001b[0;32m    728\u001b[0m     kwargs[k] \u001b[38;5;241m=\u001b[39m arg\n\u001b[1;32m--> 729\u001b[0m \u001b[38;5;28;01mreturn\u001b[39;00m func(\u001b[38;5;241m*\u001b[39m\u001b[38;5;241m*\u001b[39mkwargs)\n",
      "\u001b[1;31mTypeError\u001b[0m: EarlyStopping.__init__() got an unexpected keyword argument 'verbose'"
     ]
    }
   ],
   "source": [
    "import pandas as pd\n",
    "import numpy as np\n",
    "from sklearn.model_selection import train_test_split\n",
    "from sklearn.preprocessing import OneHotEncoder\n",
    "from sklearn.metrics import mean_squared_error, r2_score\n",
    "from xgboost import XGBRegressor\n",
    "import optuna\n",
    "import logging\n",
    "import sys\n",
    "\n",
    "# Import the specific callbacks from their correct locations for XGBoost 3.0.2\n",
    "from optuna.integration.xgboost import XGBoostPruningCallback\n",
    "from xgboost.callback import EarlyStopping # Directly from xgboost.callback\n",
    "\n",
    "\n",
    "# --- 0. Data Loading and Preprocessing ---\n",
    "print(\"--- Starting Data Loading and Preprocessing ---\")\n",
    "df = pd.read_csv(\"data/nonull_smalldata.csv\")\n",
    "\n",
    "# Print columns and dtypes for verification\n",
    "print(\"\\nOriginal DataFrame Columns:\", df.columns.tolist())\n",
    "print(\"\\nOriginal DataFrame dtypes:\\n\", df.dtypes)\n",
    "\n",
    "numeric_columns = [\"bedroomCount\", \"toilet_and_bath\", \"habitableSurface\", \"facedeCount\", \"hasTerrace\", \"totalParkingCount\"]\n",
    "categorical_columns = [\"type\", \"subtype\", \"province\", \"locality\", \"postCode\", \"buildingCondition\", \"epcScore\"]\n",
    "\n",
    "# Ensure all specified categorical columns actually exist in the DataFrame\n",
    "for col in categorical_columns:\n",
    "    if col not in df.columns:\n",
    "        raise ValueError(f\"Categorical column '{col}' not found in DataFrame.\")\n",
    "\n",
    "# Store 'price' column before potentially modifying df\n",
    "price_column_data = df['price']\n",
    "\n",
    "# One-Hot Encode categorical columns\n",
    "encoder = OneHotEncoder(sparse_output=False, drop=\"first\")\n",
    "one_hot_encoded = encoder.fit_transform(df[categorical_columns])\n",
    "one_hot_df = pd.DataFrame(one_hot_encoded, columns=encoder.get_feature_names_out(categorical_columns))\n",
    "\n",
    "# Concatenate one-hot encoded features with numeric features\n",
    "df_numeric = df[numeric_columns]\n",
    "X = pd.concat([df_numeric.reset_index(drop=True), one_hot_df.reset_index(drop=True)], axis=1)\n",
    "\n",
    "y = price_column_data.reset_index(drop=True)\n",
    "\n",
    "print(\"\\nFeatures (X) shape after encoding:\", X.shape)\n",
    "print(\"Target (y) shape:\", y.shape)\n",
    "\n",
    "# Split data into training, validation, and test sets\n",
    "X_train, X_temp, y_train, y_temp = train_test_split(X, y, test_size=0.3, random_state=1234)\n",
    "X_val, X_test, y_val, y_test = train_test_split(X_temp, y_temp, test_size=0.5, random_state=1234)\n",
    "\n",
    "print(\"\\nData splitting complete.\")\n",
    "print(f\"X_train shape: {X_train.shape}, y_train shape: {y_train.shape}\")\n",
    "print(f\"X_val shape: {X_val.shape}, y_val shape: {y_val.shape}\")\n",
    "print(f\"X_test shape: {X_test.shape}, y_test shape: {y_test.shape}\")\n",
    "\n",
    "print(\"--- Data Preprocessing Complete ---\")\n",
    "\n",
    "# --- 2. Define the Optuna Objective Function for XGBoost (Correct for XGBoost 3.0.2) ---\n",
    "def objective(trial):\n",
    "    \"\"\"\n",
    "    Objective function for Optuna to optimize XGBoost hyperparameters.\n",
    "    It returns the validation RMSE for a given set of hyperparameters.\n",
    "    \"\"\"\n",
    "    # 2.1. Suggest hyperparameters for XGBoost\n",
    "    params = {\n",
    "        \"objective\": \"reg:squarederror\",  # For regression tasks (MSE)\n",
    "        \"eval_metric\": \"rmse\",            # Metric for early stopping\n",
    "        \"n_estimators\": trial.suggest_int(\"n_estimators\", 100, 1000), # Max number of boosting rounds\n",
    "        \"learning_rate\": trial.suggest_loguniform(\"learning_rate\", 1e-3, 0.3),\n",
    "        \"max_depth\": trial.suggest_int(\"max_depth\", 3, 10),\n",
    "        \"subsample\": trial.suggest_uniform(\"subsample\", 0.6, 1.0),\n",
    "        \"colsample_bytree\": trial.suggest_uniform(\"colsample_bytree\", 0.6, 1.0),\n",
    "        \"gamma\": trial.suggest_loguniform(\"gamma\", 1e-8, 1.0),\n",
    "        \"min_child_weight\": trial.suggest_loguniform(\"min_child_weight\", 1e-2, 10),\n",
    "        \"reg_alpha\": trial.suggest_loguniform(\"reg_alpha\", 1e-8, 1.0),\n",
    "        \"reg_lambda\": trial.suggest_loguniform(\"reg_lambda\", 1e-8, 1.0),\n",
    "        \"random_state\": 42,\n",
    "        \"n_jobs\": -1, # Use all available cores\n",
    "    }\n",
    "\n",
    "    # 2.2. Initialize and Train XGBoost Regressor with suggested parameters\n",
    "    model = XGBRegressor(**params)\n",
    "\n",
    "    # Optuna's XGBoostPruningCallback for pruning (requires 'callbacks' argument in fit)\n",
    "    pruning_callback = XGBoostPruningCallback(trial, \"validation_0-rmse\")\n",
    "\n",
    "    # XGBoost's native EarlyStopping callback (requires 'callbacks' argument in fit)\n",
    "    early_stopping_rounds_for_trial = 50 # A fixed value for early stopping in Optuna trials\n",
    "    early_stopping_callback = EarlyStopping(\n",
    "        rounds=early_stopping_rounds_for_trial,\n",
    "        metric_name=\"validation_0-rmse\",\n",
    "        data_name=\"validation_0\",\n",
    "        maximize=False # Minimize RMSE\n",
    "        # 'verbose' argument is not used here for newer XGBoost versions\n",
    "    )\n",
    "\n",
    "    try:\n",
    "        model.fit(\n",
    "            X_train, y_train,\n",
    "            eval_set=[(X_val, y_val)], # Pass eval_set as a list of tuples\n",
    "           # callbacks=[pruning_callback, early_stopping_callback], # Pass all callbacks as a list\n",
    "            verbose=False # Suppress training output for cleaner Optuna logs during tuning\n",
    "        )\n",
    "    except optuna.exceptions.TrialPruned:\n",
    "        raise\n",
    "\n",
    "    # 2.3. Make predictions on the validation set\n",
    "    # XGBoost's `predict` method automatically uses the best iteration if early stopping occurred.\n",
    "    val_predictions = model.predict(X_val)\n",
    "\n",
    "    # 2.4. Calculate the evaluation metric (RMSE)\n",
    "    rmse = np.sqrt(mean_squared_error(y_val, val_predictions))\n",
    "\n",
    "    return rmse\n",
    "\n",
    "# --- 3. Set up and Run Optuna Study ---\n",
    "if __name__ == \"__main__\":\n",
    "    # Set up Optuna logging (optional, but good for debugging)\n",
    "    optuna.logging.get_logger(\"optuna\").addHandler(logging.StreamHandler(sys.stdout))\n",
    "\n",
    "    study = optuna.create_study(\n",
    "        direction=\"minimize\",  # We want to minimize RMSE\n",
    "        sampler=optuna.samplers.TPESampler(seed=42), # Tree-structured Parzen Estimator (TPE) sampler\n",
    "        pruner=optuna.pruners.MedianPruner(n_warmup_steps=10) # Pruner for early stopping unpromising trials\n",
    "    )\n",
    "\n",
    "    print(f\"Starting Optuna optimization for XGBoost (Version {xgb.__version__})...\")\n",
    "    # Optimize the objective function\n",
    "    study.optimize(objective, n_trials=50, timeout=600) # Run 50 trials or for 600 seconds (10 minutes)\n",
    "\n",
    "    print(\"\\nOptimization finished.\")\n",
    "    print(f\"Number of finished trials: {len(study.trials)}\")\n",
    "    print(f\"Number of pruned trials: {len(study.get_trials(deepcopy=False, states=[optuna.trial.TrialState.PRUNED]))}\")\n",
    "\n",
    "    print(\"\\nBest trial:\")\n",
    "    trial = study.best_trial\n",
    "\n",
    "    print(f\"  Value (RMSE on validation set): {trial.value:.4f}\")\n",
    "    print(\"  Best Hyperparameters:\")\n",
    "    for key, value in trial.params.items():\n",
    "        print(f\"    {key}: {value}\")\n",
    "\n",
    "    # --- 4. Train the final model with the best hyperparameters ---\n",
    "    print(\"\\nTraining final model with best hyperparameters...\")\n",
    "    best_params = trial.params\n",
    "    # Create a copy and ensure n_estimators is high, letting early stopping handle the actual rounds\n",
    "    final_model_params = {k: v for k, v in best_params.items()}\n",
    "    final_model_params[\"n_estimators\"] = 10000 # Set a high number, rely on early stopping\n",
    "    final_model_params[\"verbose\"] = False # Suppress verbose output for final training, or set to an integer\n",
    "\n",
    "    final_xgb_regressor = XGBRegressor(**final_model_params)\n",
    "\n",
    "    # Define early stopping callback for the final model training\n",
    "    final_early_stopping_rounds = 50 # You can keep this fixed or use a value from tuning\n",
    "    final_early_stopping_callback = EarlyStopping(\n",
    "        rounds=final_early_stopping_rounds,\n",
    "        metric_name=\"validation_0-rmse\",\n",
    "        data_name=\"validation_0\",\n",
    "        maximize=False,\n",
    "        verbose=True # Set to True to see final model training progress\n",
    "    )\n",
    "\n",
    "    final_xgb_regressor.fit(\n",
    "        X_train, y_train,\n",
    "        eval_set=[(X_val, y_val)], # Use validation set for early stopping\n",
    "        #callbacks=[final_early_stopping_callback], # Pass the callback here\n",
    "       # verbose=False # Verbosity of fitting is controlled by the callback's verbose setting\n",
    "    )\n",
    "\n",
    "    # The best iteration from early stopping is automatically used for predictions\n",
    "    print(f\"Best iteration of final model: {final_xgb_regressor.best_iteration}\")\n",
    "\n",
    "    # --- 5. Evaluate the final model on the unseen test set ---\n",
    "    final_predictions = final_xgb_regressor.predict(X_test)\n",
    "\n",
    "    final_mse = mean_squared_error(y_test, final_predictions)\n",
    "    final_rmse = np.sqrt(final_mse)\n",
    "    final_r2 = r2_score(y_test, final_predictions)\n",
    "\n",
    "    print(f\"\\n--- Final Model Performance on Test Set ---\")\n",
    "    print(f\"  MSE: {final_mse:.4f}\")\n",
    "    print(f\"  RMSE: {final_rmse:.4f}\")\n",
    "    print(f\"  R-squared: {final_r2:.4f}\")\n",
    "\n",
    "    # Optionally, visualize the optimization process\n",
    "    try:\n",
    "        from optuna.visualization import plot_optimization_history, plot_parallel_coordinate, plot_slice\n",
    "        print(\"\\n--- Generating Optuna Visualizations (requires plotly and kaleido) ---\")\n",
    "        fig_history = plot_optimization_history(study)\n",
    "        fig_history.show()\n",
    "\n",
    "        fig_parallel = plot_parallel_coordinate(study)\n",
    "        fig_parallel.show()\n",
    "\n",
    "        fig_slice = plot_slice(study)\n",
    "        fig_slice.show()\n",
    "    except ImportError:\n",
    "        print(\"\\nInstall plotly and kaleido for Optuna visualizations: pip install plotly kaleido\")"
   ]
  },
  {
   "cell_type": "code",
   "execution_count": 3,
   "id": "651f95c2",
   "metadata": {},
   "outputs": [
    {
     "name": "stdout",
     "output_type": "stream",
     "text": [
      "Your XGBoost version: 3.0.2\n"
     ]
    }
   ],
   "source": [
    "import xgboost as xgb\n",
    "print(f\"Your XGBoost version: {xgb.__version__}\")"
   ]
  },
  {
   "cell_type": "code",
   "execution_count": null,
   "id": "f2bc55a7",
   "metadata": {},
   "outputs": [],
   "source": [
    "# BEST PARAMS OF XGBOOSTOPTUNA\n",
    "Best trial:\n",
    "  Value (RMSE on validation set): 259665.9478\n",
    "  Best Hyperparameters:\n",
    "    n_estimators: 437\n",
    "    learning_rate: 0.22648248189516848\n",
    "    max_depth: 8\n",
    "    subsample: 0.8394633936788146\n",
    "    colsample_bytree: 0.6624074561769746\n",
    "    gamma: 1.7699302940633311e-07\n",
    "    min_child_weight: 0.014936568554617643\n",
    "    reg_alpha: 0.08499808989182997\n",
    "    reg_lambda: 0.0006440507553993703"
   ]
  },
  {
   "cell_type": "code",
   "execution_count": null,
   "id": "18955e01",
   "metadata": {},
   "outputs": [
    {
     "ename": "NameError",
     "evalue": "name 'X_train' is not defined",
     "output_type": "error",
     "traceback": [
      "\u001b[1;31m---------------------------------------------------------------------------\u001b[0m",
      "\u001b[1;31mNameError\u001b[0m                                 Traceback (most recent call last)",
      "Cell \u001b[1;32mIn[3], line 19\u001b[0m\n\u001b[0;32m     11\u001b[0m \u001b[38;5;124;03m'''gamma=1.7699302940633311e-07,\u001b[39;00m\n\u001b[0;32m     12\u001b[0m \u001b[38;5;124;03mmin_child_weight= 0.014936568554617643,\u001b[39;00m\n\u001b[0;32m     13\u001b[0m \u001b[38;5;124;03mreg_alpha= 0.08499808989182997,\u001b[39;00m\n\u001b[0;32m     14\u001b[0m \u001b[38;5;124;03mreg_lambda= 0.0006440507553993703,'''\u001b[39;00m\n\u001b[0;32m     15\u001b[0m \u001b[38;5;66;03m# Use all available CPU cores\u001b[39;00m\n\u001b[0;32m     16\u001b[0m \n\u001b[0;32m     17\u001b[0m \n\u001b[0;32m     18\u001b[0m \u001b[38;5;66;03m# Fit the model to the training data\u001b[39;00m\n\u001b[1;32m---> 19\u001b[0m xgb_regressor\u001b[38;5;241m.\u001b[39mfit(X_train, y_train)\n\u001b[0;32m     21\u001b[0m \u001b[38;5;66;03m# Make predictions on the test data\u001b[39;00m\n\u001b[0;32m     22\u001b[0m xgb_predictions \u001b[38;5;241m=\u001b[39m xgb_regressor\u001b[38;5;241m.\u001b[39mpredict(X_test)\n",
      "\u001b[1;31mNameError\u001b[0m: name 'X_train' is not defined"
     ]
    }
   ],
   "source": [
    "xgb_regressor = XGBRegressor(\n",
    "    objective='reg:squarederror', # For regression tasks, specify the objective\n",
    "    n_estimators=437,             # Number of boosting rounds\n",
    "    learning_rate=0.22648248189516848,            # Step size shrinkage\n",
    "    max_depth=8,                  # Maximum depth of a tree\n",
    "    subsample=0.8394633936788146,                # Subsample ratio of the training instance\n",
    "    colsample_bytree=0.6624074561769746,         # Subsample ratio of columns\n",
    "    random_state=42,              # For reproducibility\n",
    "    n_jobs=-1 ,\n",
    ")\n",
    "'''gamma=1.7699302940633311e-07,\n",
    "min_child_weight= 0.014936568554617643,\n",
    "reg_alpha= 0.08499808989182997,\n",
    "reg_lambda= 0.0006440507553993703,'''\n",
    "# Use all available CPU cores\n",
    "\n",
    "\n",
    "# Fit the model to the training data\n",
    "xgb_regressor.fit(X_train, y_train)\n",
    "\n",
    "# Make predictions on the test data\n",
    "xgb_predictions = xgb_regressor.predict(X_test)\n",
    "\n",
    "# Evaluate the XGBoost model\n",
    "xgb_mse = mean_squared_error(y_test, xgb_predictions)\n",
    "xgb_r2 = r2_score(y_test, xgb_predictions)\n",
    "\n",
    "print(f\"XGBoost MSE: {xgb_mse}\")\n",
    "predictions = xgb_regressor.predict(X_test)\n",
    "accu = r2_score(y_test, predictions)\n",
    "print(\"Accuracy of test:\", accu)\n",
    "\n",
    "pred = xgb_regressor.predict(X_train)\n",
    "accu = r2_score(y_train, pred)\n",
    "print(\"Accuracy of train:\", accu)"
   ]
  }
 ],
 "metadata": {
  "kernelspec": {
   "display_name": "base",
   "language": "python",
   "name": "python3"
  },
  "language_info": {
   "codemirror_mode": {
    "name": "ipython",
    "version": 3
   },
   "file_extension": ".py",
   "mimetype": "text/x-python",
   "name": "python",
   "nbconvert_exporter": "python",
   "pygments_lexer": "ipython3",
   "version": "3.11.7"
  }
 },
 "nbformat": 4,
 "nbformat_minor": 5
}
