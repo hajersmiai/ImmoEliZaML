{
 "cells": [
  {
   "cell_type": "code",
   "execution_count": 196,
   "id": "668abf38",
   "metadata": {},
   "outputs": [],
   "source": [
    "import pandas as pd"
   ]
  },
  {
   "cell_type": "code",
   "execution_count": 197,
   "id": "7c4e551d",
   "metadata": {},
   "outputs": [],
   "source": [
    "df=pd.read_csv(\"data/cleaned_data1.csv\")"
   ]
  },
  {
   "cell_type": "code",
   "execution_count": 198,
   "id": "dd0412b6",
   "metadata": {},
   "outputs": [
    {
     "name": "stderr",
     "output_type": "stream",
     "text": [
      "C:\\Users\\preet\\AppData\\Local\\Temp\\ipykernel_30352\\1417773335.py:9: FutureWarning: Downcasting object dtype arrays on .fillna, .ffill, .bfill is deprecated and will change in a future version. Call result.infer_objects(copy=False) instead. To opt-in to the future behavior, set `pd.set_option('future.no_silent_downcasting', True)`\n",
      "  df[\"hasTerrace\"]=df[\"hasTerrace\"].fillna(False).astype(bool)\n"
     ]
    }
   ],
   "source": [
    "df=pd.read_csv(\"data/cleaned_data1.csv\")\n",
    "\n",
    "# fill bathroom nulls with toilet counts\n",
    "df=df.rename(columns={\"bathroomCount\":\"toilet_and_bath\"})\n",
    "df[\"toilet_and_bath\"]=df[\"toilet_and_bath\"].fillna(df[\"toiletCount\"])\n",
    "df[\"toilet_and_bath\"]=df[\"toilet_and_bath\"].fillna(1)\n",
    "df.drop(columns=[\"id\",\"toiletCount\",\"buildingConstructionYear\", \"floodZoneType\", \"kitchenType\",\"landSurface\",\"hasLivingRoom\"], inplace= True)\n",
    "# fill nulls of has terrace with false\n",
    "df[\"hasTerrace\"]=df[\"hasTerrace\"].fillna(False).astype(bool)\n",
    "# drop rows with more than 3(2260)\n",
    "df=df[~(df.isnull().sum(axis=1)>3)]\n",
    "# drop nulls in habitable surface AND bedroom count\n",
    "df=df[~(df[\"bedroomCount\"].isnull())]\n",
    "df=df[~(df[\"habitableSurface\"].isnull())]\n",
    "\n",
    "# filla nulls in totalparking count with 0\n",
    "df[\"totalParkingCount\"]=df[\"totalParkingCount\"].fillna(0)\n",
    "\n",
    "# drop the rows where all three are null(buildingcondition, fascedcount, epcscore)\n",
    "df=df[~(df.isnull().sum(axis=1)>=2)]\n"
   ]
  },
  {
   "cell_type": "code",
   "execution_count": 199,
   "id": "9b847591",
   "metadata": {},
   "outputs": [],
   "source": [
    "df.to_csv(\"data/cleaned_data_before_imputation.csv\", index=False)\n",
    "# impute the null in facede count with 1\n",
    "df[\"facedeCount\"]=df[\"facedeCount\"].fillna(1)\n",
    "df[\"buildingCondition\"]=df[\"buildingCondition\"].fillna(\"missing\")\n",
    "df[\"epcScore\"]=df[\"epcScore\"].fillna(\"missing\")"
   ]
  },
  {
   "cell_type": "code",
   "execution_count": 200,
   "id": "59a44006",
   "metadata": {},
   "outputs": [],
   "source": [
    "df.to_csv(\"data/cleaned_data_after_imputation.csv\", index=False)"
   ]
  }
 ],
 "metadata": {
  "kernelspec": {
   "display_name": "base",
   "language": "python",
   "name": "python3"
  },
  "language_info": {
   "codemirror_mode": {
    "name": "ipython",
    "version": 3
   },
   "file_extension": ".py",
   "mimetype": "text/x-python",
   "name": "python",
   "nbconvert_exporter": "python",
   "pygments_lexer": "ipython3",
   "version": "3.11.7"
  }
 },
 "nbformat": 4,
 "nbformat_minor": 5
}
